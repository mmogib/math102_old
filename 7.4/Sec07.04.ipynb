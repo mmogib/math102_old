{
 "cells": [
  {
   "cell_type": "markdown",
   "metadata": {
    "slideshow": {
     "slide_type": "slide"
    }
   },
   "source": [
    "# 7.4 Integration of Rational Functions By Partial Fractions"
   ]
  },
  {
   "cell_type": "markdown",
   "metadata": {
    "slideshow": {
     "slide_type": "slide"
    }
   },
   "source": [
    " We learn how to integrate rational function: quotient of polunomial.\n",
    " $$\n",
    " f(x) =\\frac{P(x)}{Q(x)}, \\qquad P, Q \\text{ are polynomials}\n",
    " $$\n",
    " \n",
    " #### How\n",
    " * __STEP 0__ : if degree of $P$ is greater than or equal to degree of $Q$ goto __STEP 1__, else GOTO __STEP 2__.\n",
    " * __STEP 1__ : Peform long division of $P$ by $Q$ to get \n",
    " $$\n",
    " \\frac{P(x)}{Q(x)} = S(x) + \\frac{R(x)}{Q(x)}\n",
    " $$\n",
    " and apply __STEP 2__ on  $\\frac{R(x)}{Q(x)}$.\n",
    " * __STEP 2__ : Write the __partial fractions decomposition__  \n",
    " * __STEP 3__ : Integrate\n",
    " "
   ]
  },
  {
   "cell_type": "markdown",
   "metadata": {
    "slideshow": {
     "slide_type": "slide"
    }
   },
   "source": [
    "## Partial Fractions Decomposition\n",
    "We need to write $\\frac{R(x)}{Q(x)}$ as sum of __partial fractions__ by __factor__ $Q(x)$. Based on the factors, we write the decomposition accoding to the following cases\n",
    "* __case 1__: $Q(x)$ is a product of distinct linear factors.\n",
    "we write \n",
    "$$\n",
    "Q(x)=(a_1x+b_1)(a_2x+b_2)\\cdots (a_kx+b_k)\n",
    "$$\n",
    "then there exist constants $A_1, A_2, \\cdots, A_k$ such that\n",
    "$$\n",
    "\\frac{R(x)}{Q(x)}= \\frac{A_1}{a_1x+b_1}+\\frac{A_2}{a_2x+b_2}+\\cdots +\\frac{A_k}{a_kx+b_k}\n",
    "$$\n"
   ]
  },
  {
   "cell_type": "markdown",
   "metadata": {
    "slideshow": {
     "slide_type": "slide"
    }
   },
   "source": [
    "* __case 2__: $Q(x)$ is a product of linear factors, some of which are repeated.\n",
    "say first one \n",
    "$$\n",
    "Q(x)=(a_1x+b_1)^r(a_2x+b_2)\\cdots (a_kx+b_k)\n",
    "$$\n",
    "then there exist constants $B_1, B_2, \\cdots B_r, A_2, \\cdots, A_k$ such that\n",
    "$$\n",
    "\\frac{R(x)}{Q(x)}= \\left[\\frac{B_1}{a_1x+b_1}+\\frac{B_2}{(a_1x+b_1)^2}+\\cdots \\frac{B_r}{(a_1x+b_1)^r}\\right]+ \\frac{A_2}{a_2x+b_2}+\\cdots +\\frac{A_k}{a_kx+b_k}\n",
    "$$\n"
   ]
  },
  {
   "cell_type": "markdown",
   "metadata": {
    "slideshow": {
     "slide_type": "slide"
    }
   },
   "source": [
    "* __case 3__: $Q(x)$ contains irreducible quadratic factors, none of which is repeated.\n",
    "say we have (Note: the quadratic factor $ax^2+bx+c$ is irreducible if $b^2-4ac<0$). For eaxmple if\n",
    "$$\n",
    "Q(x)=(ax^2+bx+c)(a_1x+b_1)\n",
    "$$\n",
    "then there exist constants $A, B,$ and $C$ such that\n",
    "$$\n",
    "\\frac{R(x)}{Q(x)}= \\frac{Ax+B}{ax^2+bx+c}+\\frac{C}{a_1x+b_1}\n",
    "$$\n"
   ]
  },
  {
   "cell_type": "markdown",
   "metadata": {
    "slideshow": {
     "slide_type": "slide"
    }
   },
   "source": [
    "* __case 4__: $Q(x)$ contains irreducible quadratic factors, some of which are repeated. For example if\n",
    "$$\n",
    "Q(x)=(ax^2+bx+c)^r(a_1x+b_1)\n",
    "$$\n",
    "then there exist constants $A_1, B_1, A_2, B_2, \\cdots A_r, B_r $ and $C$ such that\n",
    "$$\n",
    "\\frac{R(x)}{Q(x)}= \\left[\\frac{A_1x+B_1}{ax^2+bx+c}+\\frac{A_2x+B_2}{(ax^2+bx+c)^2}+\\cdots+\\frac{A_rx+B_r}{(ax^2+bx+c)^r}\\right]+\\frac{C}{a_1x+b_1}\n",
    "$$\n"
   ]
  },
  {
   "cell_type": "markdown",
   "metadata": {},
   "source": [
    "### Write out the form of the partial fractions decomposition of the function\n",
    "$$\n",
    "\\frac{x^3+x+1}{x(x-1)(x+1)^2(x^2+x+1)(x^2+4)^2}\n",
    "$$"
   ]
  },
  {
   "cell_type": "markdown",
   "metadata": {
    "slideshow": {
     "slide_type": "slide"
    }
   },
   "source": [
    "## Examples\n",
    "#### Find\n",
    "### $$ \\begin{array}{lll}\n",
    "\\text{(1)} & \\int \\frac{x^3+x}{x-1}dx. \\\\\n",
    "\\text{(2)} & \\int \\frac{x^2+2x-1}{2x^3+3x^2-2x}dx. \\\\\n",
    "\\text{(3)} & \\int \\frac{dx}{x^2-a^2}, \\text{  where } a\\not = 0 \\\\\n",
    "\\text{(4)} & \\int \\frac{x^4-2x^2+4x+1}{x^3-x^2-x+1}dx \\\\\n",
    "\\text{(5)} & \\int \\frac{2x^2-x+4}{x^3+4x}dx \\\\\n",
    "\\text{(6)} & \\int \\frac{4x^2-3x+2}{4x^2-4x+3}dx \\\\\n",
    "\\text{(7)} & \\int \\frac{1-x+2x^2-x^3}{x(x^2+1)^2}dx \\\\\n",
    "\\end{array}\n",
    "$$"
   ]
  },
  {
   "cell_type": "markdown",
   "metadata": {
    "slideshow": {
     "slide_type": "slide"
    }
   },
   "source": [
    "#### Find\n",
    "### $$ \\begin{array}{lll}\n",
    "\\text{(7)} & \\int \\frac{1-x+2x^2-x^3}{x(x^2+1)^2}dx \\\\\n",
    "\\end{array}\n",
    "$$"
   ]
  },
  {
   "cell_type": "markdown",
   "metadata": {
    "slideshow": {
     "slide_type": "slide"
    }
   },
   "source": [
    "### Rationalizing Substitutions\n",
    "#### Find\n",
    "### $$ \\begin{array}{lll}\n",
    "\\text{(1)} & \\int \\frac{\\sqrt{x+4}}{x}dx. \\qquad \\text{Example 9}\\\\\n",
    "\\text{(2)} & \\int \\frac{dx}{2\\sqrt{x+3}+\\;x}. \\\\\n",
    "\\end{array}\n",
    "$$"
   ]
  },
  {
   "cell_type": "markdown",
   "metadata": {
    "slideshow": {
     "slide_type": "slide"
    }
   },
   "source": [
    "### (Exercise 59) Special Substitution ($t = \\tan \\left(\\frac{x}{2}\\right), \\quad -\\pi < x < \\pi$)\n",
    "#### (for rational functions of $\\sin x$ and $\\cos x$)\n",
    "### $$ \\begin{array}{lll}\n",
    "dx=\\frac{2}{1+t^2}dt, & \\cos{x}=\\frac{1-t^2}{1+t^2}, &  \\sin{x}=\\frac{2t}{1+t^2} \\\\\n",
    "\\end{array}\n",
    "$$\n",
    "\n",
    "### $$ \\begin{array}{lll}\n",
    "\\text{(1)} & \\int \\frac{dx}{3\\sin x - 4 \\cos x}. \\\\\n",
    "\\end{array}\n",
    "$$"
   ]
  }
 ],
 "metadata": {
  "celltoolbar": "Slideshow",
  "kernelspec": {
   "display_name": "Python 3",
   "language": "python",
   "name": "python3"
  },
  "language_info": {
   "codemirror_mode": {
    "name": "ipython",
    "version": 3
   },
   "file_extension": ".py",
   "mimetype": "text/x-python",
   "name": "python",
   "nbconvert_exporter": "python",
   "pygments_lexer": "ipython3",
   "version": "3.6.4"
  }
 },
 "nbformat": 4,
 "nbformat_minor": 2
}
