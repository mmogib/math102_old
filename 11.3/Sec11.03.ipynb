{
 "cells": [
  {
   "cell_type": "markdown",
   "metadata": {},
   "source": [
    "# 11.3 Integral Test\n",
    "Suppose $f$ a function that is \n",
    "1. continuous on $[1, \\infty)$,\n",
    "2. positive on $[1, \\infty)$,\n",
    "3. decreasing on $[1, \\infty)$\n",
    "\n",
    "and let $a_n=f(n)$. Then the series \n",
    "$$\\sum_{n=1}^{\\infty}a_n$$ \n",
    "is convergent if and only if the improper integral \n",
    "$$\\int_1^\\infty f(x) dx$$\n",
    "is convergent. In other words:\n",
    "1. If $\\int_1^\\infty f(x) dx$ is convergent, then is $\\sum_{n=1}^{\\infty}a_n$ convergent.\n",
    "2. If $\\int_1^\\infty f(x) dx$ is divergent, then is $\\sum_{n=1}^{\\infty}a_n$ divergent.\n",
    "\n",
    "## Examples\n",
    "Test for convergence \n",
    "$$\n",
    "\\sum_{n=1}^{\\infty}\\frac{1}{n^2}, \\qquad \\sum_{n=1}^{\\infty}\\frac{1}{n}\n",
    "$$\n",
    "__Solution in class__ "
   ]
  },
  {
   "cell_type": "code",
   "execution_count": 1,
   "metadata": {},
   "outputs": [
    {
     "data": {
      "image/png": "[encoded data removed]",
      "text/latex": [
       "$$\\infty$$"
      ],
      "text/plain": [
       "∞"
      ]
     },
     "execution_count": 1,
     "metadata": {},
     "output_type": "execute_result"
    }
   ],
   "source": [
    "from sympy import Sum, Symbol, init_printing, oo, Eq\n",
    "init_printing()\n",
    "n=Symbol(\"n\")\n",
    "s1= Sum(1/n,(n,1,oo))\n",
    "s1.doit()"
   ]
  },
  {
   "cell_type": "markdown",
   "metadata": {},
   "source": [
    "### P-series\n",
    "The $p-$series $$\\sum_{n=1}^{\\infty}\\frac{1}{n^p}$$ is convergent if $p>1$ and is divergent if $p\\leq 1$.\n",
    "\n",
    "---\n",
    "1. $\\sum_{n=1}^{\\infty}\\frac{1}{n^{1\\over 3}}$ is divergent; because it is a $p-$series with $p={1\\over 3}<1$.\n",
    "2. $\\sum_{n=1}^{\\infty}\\frac{1}{n^{3}}$ is convergent; because it is a $p-$series with $p={3}>1$.\n",
    "\n",
    "## Example\n",
    "Show that \n",
    "$$\n",
    "\\sum_{n=1}^{\\infty}\\frac{\\ln n}{n}\n",
    "$$\n",
    "is divergent.\n"
   ]
  },
  {
   "cell_type": "markdown",
   "metadata": {},
   "source": [
    "# Estimating the Sum of a Series\n",
    "![Estimation](./imgs/est.png)\n",
    "\n",
    "---\n",
    "## Note\n",
    "![Estimation](./imgs/est2.png)\n"
   ]
  },
  {
   "cell_type": "markdown",
   "metadata": {},
   "source": [
    "## Example\n",
    "![Example 5](./imgs/ex.png)\n",
    "## (c) Use the previous formula with $n=10$ to estimate the sum of $$\\sum_{n=1}^\\infty \\frac{1}{n^3}.$$"
   ]
  },
  {
   "cell_type": "code",
   "execution_count": 2,
   "metadata": {},
   "outputs": [
    {
     "data": {
      "image/png": "[encoded data removed]",
      "text/latex": [
       "$$\\sum_{n=1}^{10} \\frac{1}{n^{3}} = 1.19753198567419$$"
      ],
      "text/plain": [
       "  10                       \n",
       " ____                      \n",
       " ╲                         \n",
       "  ╲   1                    \n",
       "   ╲  ──                   \n",
       "   ╱   3 = 1.19753198567419\n",
       "  ╱   n                    \n",
       " ╱                         \n",
       " ‾‾‾‾                      \n",
       "n = 1                      "
      ]
     },
     "metadata": {},
     "output_type": "display_data"
    },
    {
     "data": {
      "image/png": "[encoded data removed]",
      "text/latex": [
       "$$\\sum_{n=1}^{\\infty} \\frac{1}{n^{3}} = 1.20205690315959$$"
      ],
      "text/plain": [
       "  ∞                        \n",
       " ____                      \n",
       " ╲                         \n",
       "  ╲   1                    \n",
       "   ╲  ──                   \n",
       "   ╱   3 = 1.20205690315959\n",
       "  ╱   n                    \n",
       " ╱                         \n",
       " ‾‾‾‾                      \n",
       "n = 1                      "
      ]
     },
     "metadata": {},
     "output_type": "display_data"
    },
    {
     "data": {
      "image/png": "[encoded data removed]",
      "text/latex": [
       "$$0.00452491748540103$$"
      ],
      "text/plain": [
       "0.00452491748540103"
      ]
     },
     "execution_count": 2,
     "metadata": {},
     "output_type": "execute_result"
    }
   ],
   "source": [
    "s=Sum(1/n**3,(n,1,oo))\n",
    "s10=Sum(1/n**3,(n,1,10))\n",
    "e1=Eq(s10,s10.n(), evaluate=False)\n",
    "display(e1)\n",
    "e2=Eq(s,s.n(), evaluate=False)\n",
    "display(e2)\n",
    "Error=s-s10\n",
    "Error.n()\n",
    "#s10.n()\n",
    "#(1000)**(0.5)"
   ]
  },
  {
   "cell_type": "code",
   "execution_count": 11,
   "metadata": {},
   "outputs": [
    {
     "data": {
      "image/png": "[encoded data removed]",
      "text/latex": [
       "$$\\left ( 1.20166421707915, \\quad 1.20253198567419\\right )$$"
      ],
      "text/plain": [
       "(1.20166421707915, 1.20253198567419)"
      ]
     },
     "execution_count": 11,
     "metadata": {},
     "output_type": "execute_result"
    }
   ],
   "source": [
    "a=s10.n()+(1/(2*((11)**2)))\n",
    "b=s10.n()+(1/(2*((10)**2)))\n",
    "a, b"
   ]
  },
  {
   "cell_type": "code",
   "execution_count": 12,
   "metadata": {},
   "outputs": [
    {
     "data": {
      "image/png": "[encoded data removed]",
      "text/latex": [
       "$$1.20209810137667$$"
      ],
      "text/plain": [
       "1.20209810137667"
      ]
     },
     "execution_count": 12,
     "metadata": {},
     "output_type": "execute_result"
    }
   ],
   "source": [
    "avr=(a+b)/2\n",
    "avr"
   ]
  },
  {
   "cell_type": "code",
   "execution_count": 15,
   "metadata": {},
   "outputs": [
    {
     "data": {
      "image/png": "[encoded data removed]",
      "text/latex": [
       "$$-4.11982170784864 \\cdot 10^{-5}$$"
      ],
      "text/plain": [
       "-4.11982170784864e-5"
      ]
     },
     "execution_count": 15,
     "metadata": {},
     "output_type": "execute_result"
    }
   ],
   "source": [
    "err=s.n()-avr\n",
    "err"
   ]
  },
  {
   "cell_type": "code",
   "execution_count": 6,
   "metadata": {},
   "outputs": [
    {
     "data": {
      "image/png": "[encoded data removed]",
      "text/latex": [
       "$$\\frac{\\pi^{4}}{30}$$"
      ],
      "text/plain": [
       " 4\n",
       "π \n",
       "──\n",
       "30"
      ]
     },
     "execution_count": 6,
     "metadata": {},
     "output_type": "execute_result"
    }
   ],
   "source": [
    "S=Sum(3/n**4,(n,1,oo))\n",
    "S.doit()"
   ]
  },
  {
   "cell_type": "code",
   "execution_count": 78,
   "metadata": {},
   "outputs": [],
   "source": [
    "def Sn(m):\n",
    "    return Sum(3/n**4,(n,1,m)).n()\n",
    "error=10**(-3)"
   ]
  },
  {
   "cell_type": "code",
   "execution_count": 83,
   "metadata": {},
   "outputs": [],
   "source": [
    "m=10; \n",
    "(s,sm)=(S.n(),Sn(m))\n"
   ]
  },
  {
   "cell_type": "code",
   "execution_count": 10,
   "metadata": {},
   "outputs": [
    {
     "data": {
      "image/png": "[encoded data removed]",
      "text/latex": [
       "$$63.245553203367585$$"
      ],
      "text/plain": [
       "63.245553203367585"
      ]
     },
     "execution_count": 10,
     "metadata": {},
     "output_type": "execute_result"
    }
   ],
   "source": [
    "(2*10**4/(5))**(0.5)"
   ]
  },
  {
   "cell_type": "code",
   "execution_count": null,
   "metadata": {},
   "outputs": [],
   "source": []
  }
 ],
 "metadata": {
  "kernelspec": {
   "display_name": "Python 3",
   "language": "python",
   "name": "python3"
  },
  "language_info": {
   "codemirror_mode": {
    "name": "ipython",
    "version": 3
   },
   "file_extension": ".py",
   "mimetype": "text/x-python",
   "name": "python",
   "nbconvert_exporter": "python",
   "pygments_lexer": "ipython3",
   "version": "3.6.4"
  }
 },
 "nbformat": 4,
 "nbformat_minor": 2
}
