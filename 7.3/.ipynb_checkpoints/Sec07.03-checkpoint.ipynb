{
 "cells": [
  {
   "cell_type": "markdown",
   "metadata": {
    "slideshow": {
     "slide_type": "slide"
    }
   },
   "source": [
    "# 7.3 Trigonometric Substitutions\n"
   ]
  },
  {
   "cell_type": "code",
   "execution_count": 55,
   "metadata": {
    "slideshow": {
     "slide_type": "skip"
    }
   },
   "outputs": [
    {
     "data": {
      "text/html": [
       "<link rel=\"stylesheet\" href=\"./style.css\">"
      ],
      "text/plain": [
       "<IPython.core.display.HTML object>"
      ]
     },
     "execution_count": 55,
     "metadata": {},
     "output_type": "execute_result"
    }
   ],
   "source": [
    "from IPython.display import HTML\n",
    "HTML('<link rel=\"stylesheet\" href=\"./style.css\">')\n"
   ]
  },
  {
   "cell_type": "markdown",
   "metadata": {
    "slideshow": {
     "slide_type": "slide"
    }
   },
   "source": [
    "<div class=\"div-200\" >\n",
    "<div class=\"right-formula\">\n",
    "$\\sqrt{a^2 -x^2}$, <br />\n",
    "    $x= a \\sin\\theta$,   <br />\n",
    "    $-\\frac{\\pi}{2}\\leq \\theta\\leq \\frac{\\pi}{2}$\n",
    "</div>\n",
    "<div> \n",
    "    <h2>Example</h2>\n",
    "    <p>Evalute: $\\int\\frac{\\sqrt{9-x^2}}{x^2}dx$ </p>\n",
    "</div>\n",
    "</div>\n"
   ]
  },
  {
   "cell_type": "markdown",
   "metadata": {
    "slideshow": {
     "slide_type": "slide"
    }
   },
   "source": [
    "<div class=\"div-200\" >\n",
    "<div class=\"right-formula\">\n",
    "$\\sqrt{a^2 +x^2}$, <br />\n",
    "    $x= a \\tan\\theta$,   <br />\n",
    "    $-\\frac{\\pi}{2} < \\theta< \\frac{\\pi}{2}$\n",
    "</div>\n",
    "<div> \n",
    "    <h2>Example</h2>\n",
    "    <p>Evalute: $\\int\\frac{dx}{x^2\\sqrt{x^2+4}}$ </p>\n",
    "</div>\n",
    "</div>\n"
   ]
  },
  {
   "cell_type": "markdown",
   "metadata": {
    "slideshow": {
     "slide_type": "slide"
    }
   },
   "source": [
    "<div class=\"div-200\" >\n",
    "<div class=\"right-formula\">\n",
    "$\\sqrt{x^2 - a^2}$, <br />\n",
    "    $x= a \\sec\\theta$,   <br />\n",
    "    $0\\leq \\theta <\\frac{\\pi}{2}$ or $\\pi\\leq \\theta < \\frac{3\\pi}{2}$\n",
    "</div>\n",
    "<div> \n",
    "    <h2>Example</h2>\n",
    "    <p>Evalute: $\\int\\frac{x}{\\sqrt{x^2-7}}dx$ </p>\n",
    "</div>\n",
    "</div>"
   ]
  },
  {
   "cell_type": "markdown",
   "metadata": {},
   "source": []
  },
  {
   "cell_type": "code",
   "execution_count": null,
   "metadata": {
    "slideshow": {
     "slide_type": "skip"
    }
   },
   "outputs": [],
   "source": []
  },
  {
   "cell_type": "code",
   "execution_count": null,
   "metadata": {},
   "outputs": [],
   "source": []
  }
 ],
 "metadata": {
  "celltoolbar": "Slideshow",
  "kernelspec": {
   "display_name": "Python 3",
   "language": "python",
   "name": "python3"
  },
  "language_info": {
   "codemirror_mode": {
    "name": "ipython",
    "version": 3
   },
   "file_extension": ".py",
   "mimetype": "text/x-python",
   "name": "python",
   "nbconvert_exporter": "python",
   "pygments_lexer": "ipython3",
   "version": "3.6.4"
  }
 },
 "nbformat": 4,
 "nbformat_minor": 2
}
