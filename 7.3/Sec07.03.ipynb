{
 "cells": [
  {
   "cell_type": "markdown",
   "metadata": {
    "slideshow": {
     "slide_type": "slide"
    }
   },
   "source": [
    "# 7.3 Trigonometric Substitutions\n"
   ]
  },
  {
   "cell_type": "code",
   "execution_count": 1,
   "metadata": {
    "slideshow": {
     "slide_type": "skip"
    }
   },
   "outputs": [
    {
     "data": {
      "text/html": [
       "<link rel=\"stylesheet\" href=\"./style.css\">"
      ],
      "text/plain": [
       "<IPython.core.display.HTML object>"
      ]
     },
     "execution_count": 1,
     "metadata": {},
     "output_type": "execute_result"
    }
   ],
   "source": [
    "from IPython.display import HTML\n",
    "HTML('<link rel=\"stylesheet\" href=\"./style.css\">')\n"
   ]
  },
  {
   "cell_type": "markdown",
   "metadata": {
    "slideshow": {
     "slide_type": "slide"
    }
   },
   "source": [
    "<div class=\"div-200\" >\n",
    "<div class=\"right-formula\">\n",
    "$\\sqrt{a^2 -x^2}$, <br />\n",
    "    $x= a \\sin\\theta$,   <br />\n",
    "    $-\\frac{\\pi}{2}\\leq \\theta\\leq \\frac{\\pi}{2}$\n",
    "</div>\n",
    "<div> \n",
    "    <h2>Example</h2>\n",
    "    <p>Evalute: $\\int\\frac{\\sqrt{9-x^2}}{x^2}dx$ </p>\n",
    "</div>\n",
    "</div>\n"
   ]
  },
  {
   "cell_type": "markdown",
   "metadata": {
    "slideshow": {
     "slide_type": "slide"
    }
   },
   "source": [
    "<div class=\"div-200\" >\n",
    "<div class=\"right-formula\">\n",
    "$\\sqrt{a^2 +x^2}$, <br />\n",
    "    $x= a \\tan\\theta$,   <br />\n",
    "    $-\\frac{\\pi}{2} < \\theta< \\frac{\\pi}{2}$\n",
    "</div>\n",
    "<div> \n",
    "    <h2>Example</h2>\n",
    "    <p>Evalute: $\\int\\frac{dx}{x^2\\sqrt{x^2+4}}$ </p>\n",
    "</div>\n",
    "</div>\n"
   ]
  },
  {
   "cell_type": "markdown",
   "metadata": {
    "slideshow": {
     "slide_type": "slide"
    }
   },
   "source": [
    "<div class=\"div-400\" >\n",
    "<div class=\"right-formula\">\n",
    "$\\sqrt{x^2 - a^2}$, <br />\n",
    "    $x= a \\sec\\theta$,   <br />\n",
    "    $0\\leq \\theta <\\frac{\\pi}{2}$ or $\\pi\\leq \\theta < \\frac{3\\pi}{2}$\n",
    "</div>\n",
    "<div> \n",
    "    <h2>Example</h2>\n",
    "    <p>Evalute: $\\int\\frac{x}{\\sqrt{x^2-7}}dx$ </p>\n",
    "</div>\n",
    "<div> \n",
    "    <h2>Exercise</h2>\n",
    "    <p>Evalute: $\\int_0^3\\sqrt{9-x^2}dx$ </p>\n",
    "</div>\n",
    "</div>"
   ]
  },
  {
   "cell_type": "markdown",
   "metadata": {
    "slideshow": {
     "slide_type": "slide"
    }
   },
   "source": [
    "<div > \n",
    "    <h2>Examples</h2>\n",
    "    <h3>Evaluate </h3>\n",
    "    <ol style=\"font-size: 1.5em;\">\n",
    "        <li>$\\int_{\\sqrt{2}/3}^{2/3}\\frac{dx}{x^5\\sqrt{9x^2-1}}$ </li>\n",
    "        <li>$\\int \\sqrt{5+4x-x^2} dx$ </li>\n",
    "    </ol>\n",
    "</div>"
   ]
  }
 ],
 "metadata": {
  "celltoolbar": "Slideshow",
  "kernelspec": {
   "display_name": "Python 3",
   "language": "python",
   "name": "python3"
  },
  "language_info": {
   "codemirror_mode": {
    "name": "ipython",
    "version": 3
   },
   "file_extension": ".py",
   "mimetype": "text/x-python",
   "name": "python",
   "nbconvert_exporter": "python",
   "pygments_lexer": "ipython3",
   "version": "3.6.4"
  }
 },
 "nbformat": 4,
 "nbformat_minor": 2
}
