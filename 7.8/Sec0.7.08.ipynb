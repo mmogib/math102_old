{
 "cells": [
  {
   "cell_type": "markdown",
   "metadata": {
    "slideshow": {
     "slide_type": "slide"
    }
   },
   "source": [
    "<style>\n",
    " ol li {\n",
    "    padding: 15px; \n",
    "    font-size: 28px;\n",
    "}\n",
    "</style>\n",
    "\n",
    "\n",
    "# 7.8 Improper Integrals\n",
    "\n",
    "## Do you know how to evaluate the following\n",
    "\n",
    "<div style=\"margin-top: 50px;font-size: 20px;\">\n",
    "<ul>\n",
    "    <li style=\"padding: 15px; font-size:28px;\"> $\\int_1^{\\infty} \\frac{1}{x^2} dx$ </li>\n",
    "    <li style=\"padding: 15px; font-size:28px;\"> $\\int_0^{2} \\frac{1}{x-1} dx$ </li>\n",
    "</ul>\n",
    "</div>"
   ]
  },
  {
   "cell_type": "markdown",
   "metadata": {
    "slideshow": {
     "slide_type": "slide"
    }
   },
   "source": [
    "![Type 1](./imgs/type1.png)"
   ]
  },
  {
   "cell_type": "markdown",
   "metadata": {
    "slideshow": {
     "slide_type": "slide"
    }
   },
   "source": [
    "<div style=\"font-size: 20px;\">\n",
    "<h2> Examples </h2>\n",
    "<ol >\n",
    "    <li> $\\int_1^{\\infty} \\frac{1}{x^2} dx$ </li>\n",
    "    <li> $\\int_1^{\\infty} \\frac{1}{x} dx$ </li>\n",
    "   <li> $\\int_{-\\infty}^{\\infty} \\frac{1}{1+x^2} dx$ </li>\n",
    "</ol>\n",
    "</div>"
   ]
  },
  {
   "cell_type": "markdown",
   "metadata": {
    "slideshow": {
     "slide_type": "slide"
    }
   },
   "source": [
    "![$p$-integral](./imgs/pint.png)"
   ]
  },
  {
   "cell_type": "markdown",
   "metadata": {
    "slideshow": {
     "slide_type": "slide"
    }
   },
   "source": [
    "![Type 2](./imgs/type2.png)"
   ]
  },
  {
   "cell_type": "markdown",
   "metadata": {
    "slideshow": {
     "slide_type": "slide"
    }
   },
   "source": [
    "<div style=\"font-size: 20px;\">\n",
    "<h2> Examples </h2>\n",
    "<ol>\n",
    "    <li> $\\int_2^{5} \\frac{1}{\\sqrt{x-2}} dx$ </li>\n",
    "    <li> $\\int_0^3 \\frac{1}{1-x} dx$ </li>\n",
    "   <li> $\\int_0^1 \\ln x dx$ </li>\n",
    "</ol>\n",
    "</div>"
   ]
  },
  {
   "cell_type": "code",
   "execution_count": 10,
   "metadata": {
    "slideshow": {
     "slide_type": "slide"
    }
   },
   "outputs": [
    {
     "data": {
      "image/png": "[encoded data removed]",
      "text/latex": [
       "$$\\int_{2}^{5} \\frac{1}{\\sqrt{x - 2}}\\, dx = 2 \\sqrt{3}$$"
      ],
      "text/plain": [
       "5                    \n",
       "⌠                    \n",
       "⎮     1              \n",
       "⎮ ───────── dx = 2⋅√3\n",
       "⎮   _______          \n",
       "⎮ ╲╱ x - 2           \n",
       "⌡                    \n",
       "2                    "
      ]
     },
     "execution_count": 10,
     "metadata": {},
     "output_type": "execute_result"
    }
   ],
   "source": [
    "import sympy as sp\n",
    "sp.init_printing()\n",
    "x=sp.symbols(\"x\",real=True)\n",
    "I1=sp.Integral(1/(sp.sqrt(x-2)),(x,2,5))\n",
    "E1=sp.Eq(I1,I1.doit())\n",
    "E1"
   ]
  },
  {
   "cell_type": "code",
   "execution_count": 14,
   "metadata": {
    "slideshow": {
     "slide_type": "slide"
    }
   },
   "outputs": [
    {
     "data": {
      "image/png": "[encoded data removed]",
      "text/latex": [
       "$$\\int_{0}^{3} \\frac{1}{- x + 1}\\, dx = - \\log{\\left (2 \\right )} + i \\pi$$"
      ],
      "text/plain": [
       "3                          \n",
       "⌠                          \n",
       "⎮   1                      \n",
       "⎮ ────── dx = -log(2) + ⅈ⋅π\n",
       "⎮ -x + 1                   \n",
       "⌡                          \n",
       "0                          "
      ]
     },
     "execution_count": 14,
     "metadata": {},
     "output_type": "execute_result"
    }
   ],
   "source": [
    "I2=sp.Integral(1/(1-x),(x,0,3))\n",
    "E2=sp.Eq(I2,I2.doit())\n",
    "E2"
   ]
  },
  {
   "cell_type": "code",
   "execution_count": 22,
   "metadata": {
    "slideshow": {
     "slide_type": "slide"
    }
   },
   "outputs": [
    {
     "data": {
      "image/png": "[encoded data removed]",
      "text/latex": [
       "$$\\int_{1}^{\\infty} \\frac{1}{x^{2}}\\, dx = 1$$"
      ],
      "text/plain": [
       "∞          \n",
       "⌠          \n",
       "⎮ 1        \n",
       "⎮ ── dx = 1\n",
       "⎮  2       \n",
       "⎮ x        \n",
       "⌡          \n",
       "1          "
      ]
     },
     "execution_count": 22,
     "metadata": {},
     "output_type": "execute_result"
    }
   ],
   "source": [
    "I3=sp.Integral(1/(x**2),(x,1,sp.oo))\n",
    "E3=sp.Eq(I3,I3.doit())\n",
    "E3"
   ]
  },
  {
   "cell_type": "code",
   "execution_count": null,
   "metadata": {},
   "outputs": [],
   "source": []
  }
 ],
 "metadata": {
  "celltoolbar": "Slideshow",
  "kernelspec": {
   "display_name": "Python 3",
   "language": "python",
   "name": "python3"
  },
  "language_info": {
   "codemirror_mode": {
    "name": "ipython",
    "version": 3
   },
   "file_extension": ".py",
   "mimetype": "text/x-python",
   "name": "python",
   "nbconvert_exporter": "python",
   "pygments_lexer": "ipython3",
   "version": "3.6.4"
  }
 },
 "nbformat": 4,
 "nbformat_minor": 2
}
