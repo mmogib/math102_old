{
 "cells": [
  {
   "cell_type": "markdown",
   "metadata": {
    "slideshow": {
     "slide_type": "slide"
    }
   },
   "source": [
    "# 7.8 Improper Integrals\n",
    "\n",
    "## Do you know how to evaluate the following\n",
    "<div style=\"font-size: 20px;\">\n",
    "<ul>\n",
    "    <li> $\\int_1^{\\infty} \\frac{1}{x^2} dx$ </li>\n",
    "    <li> $\\int_0^{2} \\frac{1}{x-1} dx$ </li>\n",
    "</ul>\n",
    "</div>"
   ]
  },
  {
   "cell_type": "markdown",
   "metadata": {
    "slideshow": {
     "slide_type": "slide"
    }
   },
   "source": [
    "![Type 1](./imgs/type1.png)"
   ]
  },
  {
   "cell_type": "markdown",
   "metadata": {
    "slideshow": {
     "slide_type": "slide"
    }
   },
   "source": [
    "<div style=\"font-size: 20px;\">\n",
    "<h2> Examples </h2>\n",
    "<ol>\n",
    "    <li> $\\int_1^{\\infty} \\frac{1}{x^2} dx$ </li>\n",
    "    <li> $\\int_1^{\\infty} \\frac{1}{x} dx$ </li>\n",
    "   <li> $\\int_{-\\infty}^{\\infty} \\frac{1}{1+x^2} dx$ </li>\n",
    "</ol>\n",
    "</div>"
   ]
  },
  {
   "cell_type": "markdown",
   "metadata": {
    "slideshow": {
     "slide_type": "slide"
    }
   },
   "source": [
    "![$p$-integral](./imgs/pint.png)"
   ]
  },
  {
   "cell_type": "markdown",
   "metadata": {
    "slideshow": {
     "slide_type": "slide"
    }
   },
   "source": [
    "![Type 2](./imgs/type2.png)"
   ]
  },
  {
   "cell_type": "markdown",
   "metadata": {
    "slideshow": {
     "slide_type": "slide"
    }
   },
   "source": [
    "<div style=\"font-size: 20px;\">\n",
    "<h2> Examples </h2>\n",
    "<ol>\n",
    "    <li> $\\int_2^{5} \\frac{1}{\\sqrt{x-2}} dx$ </li>\n",
    "    <li> $\\int_0^3 \\frac{1}{1-x} dx$ </li>\n",
    "   <li> $\\int_0^1 \\ln x dx$ </li>\n",
    "</ol>\n",
    "</div>"
   ]
  }
 ],
 "metadata": {
  "celltoolbar": "Slideshow",
  "kernelspec": {
   "display_name": "Python 3",
   "language": "python",
   "name": "python3"
  },
  "language_info": {
   "codemirror_mode": {
    "name": "ipython",
    "version": 3
   },
   "file_extension": ".py",
   "mimetype": "text/x-python",
   "name": "python",
   "nbconvert_exporter": "python",
   "pygments_lexer": "ipython3",
   "version": "3.6.4"
  }
 },
 "nbformat": 4,
 "nbformat_minor": 2
}
