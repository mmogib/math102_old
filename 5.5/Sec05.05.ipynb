{
 "cells": [
  {
   "cell_type": "markdown",
   "metadata": {
    "slideshow": {
     "slide_type": "slide"
    }
   },
   "source": [
    "# Question: True or False\n",
    "# $$\\int 4x^3 dy = x^4+ C$$"
   ]
  },
  {
   "cell_type": "markdown",
   "metadata": {
    "cell_style": "center",
    "slideshow": {
     "slide_type": "slide"
    }
   },
   "source": [
    "# 5.5 The Substitution Rule\n",
    "# Solve\n",
    "### $$\\int 2x \\sqrt{1+x^2} \\;\\; dx$$"
   ]
  },
  {
   "cell_type": "markdown",
   "metadata": {
    "slideshow": {
     "slide_type": "fragment"
    }
   },
   "source": [
    "###  $$\\int \\sqrt{u} \\;\\; du$$"
   ]
  },
  {
   "cell_type": "markdown",
   "metadata": {
    "slideshow": {
     "slide_type": "slide"
    }
   },
   "source": [
    "# ![The Substitution Rule](./imgs/th4.png)"
   ]
  },
  {
   "cell_type": "markdown",
   "metadata": {
    "slideshow": {
     "slide_type": "slide"
    }
   },
   "source": [
    "![Example 1](./imgs/ex1.png)"
   ]
  },
  {
   "cell_type": "markdown",
   "metadata": {
    "slideshow": {
     "slide_type": "fragment"
    }
   },
   "source": [
    "What is $u$?"
   ]
  },
  {
   "cell_type": "markdown",
   "metadata": {
    "slideshow": {
     "slide_type": "fragment"
    }
   },
   "source": [
    "$u = x^4+2$, now find $du$"
   ]
  },
  {
   "cell_type": "markdown",
   "metadata": {
    "slideshow": {
     "slide_type": "fragment"
    }
   },
   "source": [
    "$du=4x^3 \\; dx$, now write the integral in terms of $u$."
   ]
  },
  {
   "cell_type": "markdown",
   "metadata": {
    "slideshow": {
     "slide_type": "slide"
    }
   },
   "source": [
    "$$ \\int x^3 \\cos(x^4+2) \\; dx = \\int \\frac{1}{4}\\cos(u) du $$\n",
    "what is the answer?"
   ]
  },
  {
   "cell_type": "markdown",
   "metadata": {
    "slideshow": {
     "slide_type": "fragment"
    }
   },
   "source": [
    "$$ \\int x^3 \\cos(x^4+2) \\; dx = \\int \\frac{1}{4}\\cos(u) du = \\frac{1}{4} \\sin(u) +C $$\n",
    "Are we DONE?"
   ]
  },
  {
   "cell_type": "markdown",
   "metadata": {
    "slideshow": {
     "slide_type": "fragment"
    }
   },
   "source": [
    "NOOOOOOOOO\n",
    "$$ \\int x^3 \\cos(x^4+2) \\; dx = \\int \\frac{1}{4}\\cos(u) du = \\frac{1}{4} \\sin(u) +C = \\frac{1}{4} \\sin(x^4+2) +C$$\n"
   ]
  },
  {
   "cell_type": "markdown",
   "metadata": {
    "slideshow": {
     "slide_type": "slide"
    }
   },
   "source": [
    "# Find $\\int \\tan x \\; dx$"
   ]
  },
  {
   "cell_type": "markdown",
   "metadata": {
    "slideshow": {
     "slide_type": "slide"
    }
   },
   "source": [
    "![The Substitution Rule for Definite Integrals](./imgs/th42.png)"
   ]
  },
  {
   "cell_type": "markdown",
   "metadata": {
    "slideshow": {
     "slide_type": "slide"
    }
   },
   "source": [
    "## Example 7: Evaluate $\\int_0^4\\sqrt{2x+1}\\; dx$."
   ]
  },
  {
   "cell_type": "code",
   "execution_count": 2,
   "metadata": {
    "scrolled": true,
    "slideshow": {
     "slide_type": "fragment"
    }
   },
   "outputs": [
    {
     "data": {
      "image/png": "[encoded data removed]",
      "text/latex": [
       "$$\\int_{0}^{4} \\sqrt{2 x + 1}\\, dx = \\frac{26}{3}$$"
      ],
      "text/plain": [
       "4                      \n",
       "⌠                      \n",
       "⎮   _________          \n",
       "⎮ ╲╱ 2⋅x + 1  dx = 26/3\n",
       "⌡                      \n",
       "0                      "
      ]
     },
     "execution_count": 2,
     "metadata": {},
     "output_type": "execute_result"
    }
   ],
   "source": [
    "from sympy import Integral, sqrt, Symbol, init_printing, Eq\n",
    "init_printing()\n",
    "x = Symbol('x', real=True)\n",
    "I=Integral(sqrt(2*x+1), (x,0,4))\n",
    "eq = Eq(I, I.doit())\n",
    "eq"
   ]
  },
  {
   "cell_type": "markdown",
   "metadata": {
    "slideshow": {
     "slide_type": "slide"
    }
   },
   "source": [
    "# Question \n",
    "## is $f(x)=x^3+\\sin(x)$ ODD, EVEN or NEITHER?"
   ]
  },
  {
   "cell_type": "markdown",
   "metadata": {
    "slideshow": {
     "slide_type": "fragment"
    }
   },
   "source": [
    "#### what is $f(whatever)$?"
   ]
  },
  {
   "cell_type": "markdown",
   "metadata": {
    "slideshow": {
     "slide_type": "fragment"
    }
   },
   "source": [
    "#### !Ok calculate $f(-x)$ "
   ]
  },
  {
   "cell_type": "markdown",
   "metadata": {
    "slideshow": {
     "slide_type": "fragment"
    }
   },
   "source": [
    "#### how $f(-x)$ relates to $f(x)$? "
   ]
  },
  {
   "cell_type": "markdown",
   "metadata": {
    "slideshow": {
     "slide_type": "slide"
    }
   },
   "source": [
    "![Symmetry](./imgs/symmetry.png)"
   ]
  },
  {
   "cell_type": "markdown",
   "metadata": {
    "slideshow": {
     "slide_type": "slide"
    }
   },
   "source": [
    "# Find \n",
    "## $$ \\begin{array}{ll}\n",
    "    \\text{(1)} & \\int_{-2}^2 x^8 dx \\\\\n",
    "    \\text{(2)} & \\int_{-2}^2 \\frac{x^7\\tan(x^2)}{1+x^2+x^4} dx \\\\\n",
    "\\end{array}$$"
   ]
  },
  {
   "cell_type": "code",
   "execution_count": null,
   "metadata": {},
   "outputs": [],
   "source": []
  }
 ],
 "metadata": {
  "celltoolbar": "Slideshow",
  "kernelspec": {
   "display_name": "Python 3",
   "language": "python",
   "name": "python3"
  },
  "language_info": {
   "codemirror_mode": {
    "name": "ipython",
    "version": 3
   },
   "file_extension": ".py",
   "mimetype": "text/x-python",
   "name": "python",
   "nbconvert_exporter": "python",
   "pygments_lexer": "ipython3",
   "version": "3.6.4"
  }
 },
 "nbformat": 4,
 "nbformat_minor": 2
}
