{
 "cells": [
  {
   "cell_type": "code",
   "execution_count": 1,
   "metadata": {
    "slideshow": {
     "slide_type": "slide"
    }
   },
   "outputs": [
    {
     "data": {
      "text/plain": [
       "f (generic function with 1 method)"
      ]
     },
     "execution_count": 1,
     "metadata": {},
     "output_type": "execute_result"
    }
   ],
   "source": [
    "f(x)=x^2"
   ]
  },
  {
   "cell_type": "code",
   "execution_count": 3,
   "metadata": {
    "slideshow": {
     "slide_type": "slide"
    }
   },
   "outputs": [
    {
     "data": {
      "text/plain": [
       "25"
      ]
     },
     "execution_count": 3,
     "metadata": {},
     "output_type": "execute_result"
    }
   ],
   "source": [
    "f(5)"
   ]
  },
  {
   "cell_type": "code",
   "execution_count": 5,
   "metadata": {
    "slideshow": {
     "slide_type": "slide"
    }
   },
   "outputs": [
    {
     "data": {
      "text/plain": [
       "#5 (generic function with 1 method)"
      ]
     },
     "execution_count": 5,
     "metadata": {},
     "output_type": "execute_result"
    }
   ],
   "source": [
    "g= x->x+6"
   ]
  },
  {
   "cell_type": "code",
   "execution_count": 6,
   "metadata": {},
   "outputs": [
    {
     "data": {
      "text/plain": [
       "31"
      ]
     },
     "execution_count": 6,
     "metadata": {},
     "output_type": "execute_result"
    }
   ],
   "source": [
    "g(f(5))\n"
   ]
  },
  {
   "cell_type": "code",
   "execution_count": 2,
   "metadata": {},
   "outputs": [],
   "source": [
    "using Plots\n"
   ]
  },
  {
   "cell_type": "code",
   "execution_count": 3,
   "metadata": {},
   "outputs": [
    {
     "data": {
      "image/svg+xml": [
       "<?xml version=\"1.0\" encoding=\"utf-8\"?>\n",
       "<svg xmlns=\"http://www.w3.org/2000/svg\" xmlns:xlink=\"http://www.w3.org/1999/xlink\" width=\"600\" height=\"400\" viewBox=\"0 0 2400 1600\">\n",
       "<defs>\n",
       "  <clipPath id=\"clip2100\">\n",
       "    <rect x=\"0\" y=\"0\" width=\"2000\" height=\"2000\"/>\n",
       "  </clipPath>\n",
       "</defs>\n",
       "<defs>\n",
       "  <clipPath id=\"clip2101\">\n",
       "    <rect x=\"0\" y=\"0\" width=\"2400\" height=\"1600\"/>\n",
       "  </clipPath>\n",
       "</defs>\n",
       "<polygon clip-path=\"url(#clip2101)\" points=\"\n",
       "0,1600 2400,1600 2400,0 0,0 \n",
       "  \" fill=\"#ffffff\" fill-rule=\"evenodd\" fill-opacity=\"1\"/>\n",
       "<defs>\n",
       "  <clipPath id=\"clip2102\">\n",
       "    <rect x=\"480\" y=\"0\" width=\"1681\" height=\"1600\"/>\n",
       "  </clipPath>\n",
       "</defs>\n",
       "<polygon clip-path=\"url(#clip2101)\" points=\"\n",
       "189.504,1503.47 2321.26,1503.47 2321.26,47.2441 189.504,47.2441 \n",
       "  \" fill=\"#ffffff\" fill-rule=\"evenodd\" fill-opacity=\"1\"/>\n",
       "<defs>\n",
       "  <clipPath id=\"clip2103\">\n",
       "    <rect x=\"189\" y=\"47\" width=\"2133\" height=\"1457\"/>\n",
       "  </clipPath>\n",
       "</defs>\n",
       "<polyline clip-path=\"url(#clip2103)\" style=\"stroke:#000000; stroke-width:2; stroke-opacity:0.1; fill:none\" points=\"\n",
       "  244.899,1503.47 244.899,47.2441 \n",
       "  \"/>\n",
       "<polyline clip-path=\"url(#clip2103)\" style=\"stroke:#000000; stroke-width:2; stroke-opacity:0.1; fill:none\" points=\"\n",
       "  566.783,1503.47 566.783,47.2441 \n",
       "  \"/>\n",
       "<polyline clip-path=\"url(#clip2103)\" style=\"stroke:#000000; stroke-width:2; stroke-opacity:0.1; fill:none\" points=\"\n",
       "  888.666,1503.47 888.666,47.2441 \n",
       "  \"/>\n",
       "<polyline clip-path=\"url(#clip2103)\" style=\"stroke:#000000; stroke-width:2; stroke-opacity:0.1; fill:none\" points=\"\n",
       "  1210.55,1503.47 1210.55,47.2441 \n",
       "  \"/>\n",
       "<polyline clip-path=\"url(#clip2103)\" style=\"stroke:#000000; stroke-width:2; stroke-opacity:0.1; fill:none\" points=\"\n",
       "  1532.43,1503.47 1532.43,47.2441 \n",
       "  \"/>\n",
       "<polyline clip-path=\"url(#clip2103)\" style=\"stroke:#000000; stroke-width:2; stroke-opacity:0.1; fill:none\" points=\"\n",
       "  1854.32,1503.47 1854.32,47.2441 \n",
       "  \"/>\n",
       "<polyline clip-path=\"url(#clip2103)\" style=\"stroke:#000000; stroke-width:2; stroke-opacity:0.1; fill:none\" points=\"\n",
       "  2176.2,1503.47 2176.2,47.2441 \n",
       "  \"/>\n",
       "<polyline clip-path=\"url(#clip2103)\" style=\"stroke:#000000; stroke-width:2; stroke-opacity:0.1; fill:none\" points=\"\n",
       "  189.504,1462.42 2321.26,1462.42 \n",
       "  \"/>\n",
       "<polyline clip-path=\"url(#clip2103)\" style=\"stroke:#000000; stroke-width:2; stroke-opacity:0.1; fill:none\" points=\"\n",
       "  189.504,1118.93 2321.26,1118.93 \n",
       "  \"/>\n",
       "<polyline clip-path=\"url(#clip2103)\" style=\"stroke:#000000; stroke-width:2; stroke-opacity:0.1; fill:none\" points=\"\n",
       "  189.504,775.438 2321.26,775.438 \n",
       "  \"/>\n",
       "<polyline clip-path=\"url(#clip2103)\" style=\"stroke:#000000; stroke-width:2; stroke-opacity:0.1; fill:none\" points=\"\n",
       "  189.504,431.948 2321.26,431.948 \n",
       "  \"/>\n",
       "<polyline clip-path=\"url(#clip2103)\" style=\"stroke:#000000; stroke-width:2; stroke-opacity:0.1; fill:none\" points=\"\n",
       "  189.504,88.4581 2321.26,88.4581 \n",
       "  \"/>\n",
       "<polyline clip-path=\"url(#clip2101)\" style=\"stroke:#000000; stroke-width:4; stroke-opacity:1; fill:none\" points=\"\n",
       "  189.504,1503.47 2321.26,1503.47 \n",
       "  \"/>\n",
       "<polyline clip-path=\"url(#clip2101)\" style=\"stroke:#000000; stroke-width:4; stroke-opacity:1; fill:none\" points=\"\n",
       "  189.504,1503.47 189.504,47.2441 \n",
       "  \"/>\n",
       "<polyline clip-path=\"url(#clip2101)\" style=\"stroke:#000000; stroke-width:4; stroke-opacity:1; fill:none\" points=\"\n",
       "  244.899,1503.47 244.899,1481.63 \n",
       "  \"/>\n",
       "<polyline clip-path=\"url(#clip2101)\" style=\"stroke:#000000; stroke-width:4; stroke-opacity:1; fill:none\" points=\"\n",
       "  566.783,1503.47 566.783,1481.63 \n",
       "  \"/>\n",
       "<polyline clip-path=\"url(#clip2101)\" style=\"stroke:#000000; stroke-width:4; stroke-opacity:1; fill:none\" points=\"\n",
       "  888.666,1503.47 888.666,1481.63 \n",
       "  \"/>\n",
       "<polyline clip-path=\"url(#clip2101)\" style=\"stroke:#000000; stroke-width:4; stroke-opacity:1; fill:none\" points=\"\n",
       "  1210.55,1503.47 1210.55,1481.63 \n",
       "  \"/>\n",
       "<polyline clip-path=\"url(#clip2101)\" style=\"stroke:#000000; stroke-width:4; stroke-opacity:1; fill:none\" points=\"\n",
       "  1532.43,1503.47 1532.43,1481.63 \n",
       "  \"/>\n",
       "<polyline clip-path=\"url(#clip2101)\" style=\"stroke:#000000; stroke-width:4; stroke-opacity:1; fill:none\" points=\"\n",
       "  1854.32,1503.47 1854.32,1481.63 \n",
       "  \"/>\n",
       "<polyline clip-path=\"url(#clip2101)\" style=\"stroke:#000000; stroke-width:4; stroke-opacity:1; fill:none\" points=\"\n",
       "  2176.2,1503.47 2176.2,1481.63 \n",
       "  \"/>\n",
       "<polyline clip-path=\"url(#clip2101)\" style=\"stroke:#000000; stroke-width:4; stroke-opacity:1; fill:none\" points=\"\n",
       "  189.504,1462.42 221.48,1462.42 \n",
       "  \"/>\n",
       "<polyline clip-path=\"url(#clip2101)\" style=\"stroke:#000000; stroke-width:4; stroke-opacity:1; fill:none\" points=\"\n",
       "  189.504,1118.93 221.48,1118.93 \n",
       "  \"/>\n",
       "<polyline clip-path=\"url(#clip2101)\" style=\"stroke:#000000; stroke-width:4; stroke-opacity:1; fill:none\" points=\"\n",
       "  189.504,775.438 221.48,775.438 \n",
       "  \"/>\n",
       "<polyline clip-path=\"url(#clip2101)\" style=\"stroke:#000000; stroke-width:4; stroke-opacity:1; fill:none\" points=\"\n",
       "  189.504,431.948 221.48,431.948 \n",
       "  \"/>\n",
       "<polyline clip-path=\"url(#clip2101)\" style=\"stroke:#000000; stroke-width:4; stroke-opacity:1; fill:none\" points=\"\n",
       "  189.504,88.4581 221.48,88.4581 \n",
       "  \"/>\n",
       "<g clip-path=\"url(#clip2101)\">\n",
       "<text style=\"fill:#000000; fill-opacity:1; font-family:Arial,Helvetica Neue,Helvetica,sans-serif; font-size:48px; text-anchor:middle;\" transform=\"rotate(0, 244.899, 1557.47)\" x=\"244.899\" y=\"1557.47\">0</text>\n",
       "</g>\n",
       "<g clip-path=\"url(#clip2101)\">\n",
       "<text style=\"fill:#000000; fill-opacity:1; font-family:Arial,Helvetica Neue,Helvetica,sans-serif; font-size:48px; text-anchor:middle;\" transform=\"rotate(0, 566.783, 1557.47)\" x=\"566.783\" y=\"1557.47\">1</text>\n",
       "</g>\n",
       "<g clip-path=\"url(#clip2101)\">\n",
       "<text style=\"fill:#000000; fill-opacity:1; font-family:Arial,Helvetica Neue,Helvetica,sans-serif; font-size:48px; text-anchor:middle;\" transform=\"rotate(0, 888.666, 1557.47)\" x=\"888.666\" y=\"1557.47\">2</text>\n",
       "</g>\n",
       "<g clip-path=\"url(#clip2101)\">\n",
       "<text style=\"fill:#000000; fill-opacity:1; font-family:Arial,Helvetica Neue,Helvetica,sans-serif; font-size:48px; text-anchor:middle;\" transform=\"rotate(0, 1210.55, 1557.47)\" x=\"1210.55\" y=\"1557.47\">3</text>\n",
       "</g>\n",
       "<g clip-path=\"url(#clip2101)\">\n",
       "<text style=\"fill:#000000; fill-opacity:1; font-family:Arial,Helvetica Neue,Helvetica,sans-serif; font-size:48px; text-anchor:middle;\" transform=\"rotate(0, 1532.43, 1557.47)\" x=\"1532.43\" y=\"1557.47\">4</text>\n",
       "</g>\n",
       "<g clip-path=\"url(#clip2101)\">\n",
       "<text style=\"fill:#000000; fill-opacity:1; font-family:Arial,Helvetica Neue,Helvetica,sans-serif; font-size:48px; text-anchor:middle;\" transform=\"rotate(0, 1854.32, 1557.47)\" x=\"1854.32\" y=\"1557.47\">5</text>\n",
       "</g>\n",
       "<g clip-path=\"url(#clip2101)\">\n",
       "<text style=\"fill:#000000; fill-opacity:1; font-family:Arial,Helvetica Neue,Helvetica,sans-serif; font-size:48px; text-anchor:middle;\" transform=\"rotate(0, 2176.2, 1557.47)\" x=\"2176.2\" y=\"1557.47\">6</text>\n",
       "</g>\n",
       "<g clip-path=\"url(#clip2101)\">\n",
       "<text style=\"fill:#000000; fill-opacity:1; font-family:Arial,Helvetica Neue,Helvetica,sans-serif; font-size:48px; text-anchor:end;\" transform=\"rotate(0, 165.504, 1479.92)\" x=\"165.504\" y=\"1479.92\">-1.0</text>\n",
       "</g>\n",
       "<g clip-path=\"url(#clip2101)\">\n",
       "<text style=\"fill:#000000; fill-opacity:1; font-family:Arial,Helvetica Neue,Helvetica,sans-serif; font-size:48px; text-anchor:end;\" transform=\"rotate(0, 165.504, 1136.43)\" x=\"165.504\" y=\"1136.43\">-0.5</text>\n",
       "</g>\n",
       "<g clip-path=\"url(#clip2101)\">\n",
       "<text style=\"fill:#000000; fill-opacity:1; font-family:Arial,Helvetica Neue,Helvetica,sans-serif; font-size:48px; text-anchor:end;\" transform=\"rotate(0, 165.504, 792.938)\" x=\"165.504\" y=\"792.938\">0.0</text>\n",
       "</g>\n",
       "<g clip-path=\"url(#clip2101)\">\n",
       "<text style=\"fill:#000000; fill-opacity:1; font-family:Arial,Helvetica Neue,Helvetica,sans-serif; font-size:48px; text-anchor:end;\" transform=\"rotate(0, 165.504, 449.448)\" x=\"165.504\" y=\"449.448\">0.5</text>\n",
       "</g>\n",
       "<g clip-path=\"url(#clip2101)\">\n",
       "<text style=\"fill:#000000; fill-opacity:1; font-family:Arial,Helvetica Neue,Helvetica,sans-serif; font-size:48px; text-anchor:end;\" transform=\"rotate(0, 165.504, 105.958)\" x=\"165.504\" y=\"105.958\">1.0</text>\n",
       "</g>\n",
       "<polyline clip-path=\"url(#clip2103)\" style=\"stroke:#009af9; stroke-width:4; stroke-opacity:1; fill:none\" points=\"\n",
       "  249.837,764.9 254.775,754.365 259.712,743.834 264.65,733.311 310.306,636.801 355.963,543.076 401.619,454.017 447.276,371.415 474.713,325.578 502.151,283.008 \n",
       "  529.589,244.014 557.026,208.879 580.224,182.373 603.423,158.946 626.621,138.719 649.819,121.799 675.019,107.266 700.218,96.8271 725.418,90.5448 750.618,88.4582 \n",
       "  773.85,90.2629 797.081,95.6353 820.313,104.547 843.545,116.953 868.452,134.059 893.359,155.004 918.266,179.661 943.173,207.884 972.031,244.818 1000.89,286.015 \n",
       "  1029.75,331.142 1058.6,379.838 1109.89,473.964 1161.18,575.73 1206.16,669.223 1251.14,764.787 1300.17,869.15 1349.21,971.342 1398.54,1069.56 1447.86,1160.88 \n",
       "  1475.13,1207.62 1502.4,1251.25 1529.67,1291.48 1556.94,1328 1582.89,1359.07 1608.83,1386.35 1634.78,1409.67 1660.72,1428.87 1687.7,1444.33 1714.68,1455.09 \n",
       "  1741.66,1461.08 1768.64,1462.26 1791.35,1459.51 1814.06,1453.36 1836.76,1443.84 1859.47,1430.99 1887.2,1410.89 1914.93,1386.08 1942.65,1356.74 1970.38,1323.09 \n",
       "  1996.44,1287.75 2022.5,1249.05 2048.57,1207.25 2074.63,1162.62 2116.38,1085.96 2158.14,1004.08 2199.89,918.36 2241.65,830.238 2248.08,816.557 2254.5,802.86 \n",
       "  2260.93,789.152 \n",
       "  \"/>\n",
       "<polygon clip-path=\"url(#clip2101)\" points=\"\n",
       "1958.43,251.724 2249.26,251.724 2249.26,130.764 1958.43,130.764 \n",
       "  \" fill=\"#ffffff\" fill-rule=\"evenodd\" fill-opacity=\"1\"/>\n",
       "<polyline clip-path=\"url(#clip2101)\" style=\"stroke:#000000; stroke-width:4; stroke-opacity:1; fill:none\" points=\"\n",
       "  1958.43,251.724 2249.26,251.724 2249.26,130.764 1958.43,130.764 1958.43,251.724 \n",
       "  \"/>\n",
       "<polyline clip-path=\"url(#clip2101)\" style=\"stroke:#009af9; stroke-width:4; stroke-opacity:1; fill:none\" points=\"\n",
       "  1982.43,191.244 2126.43,191.244 \n",
       "  \"/>\n",
       "<g clip-path=\"url(#clip2101)\">\n",
       "<text style=\"fill:#000000; fill-opacity:1; font-family:Arial,Helvetica Neue,Helvetica,sans-serif; font-size:48px; text-anchor:start;\" transform=\"rotate(0, 2150.43, 208.744)\" x=\"2150.43\" y=\"208.744\">y1</text>\n",
       "</g>\n",
       "</svg>\n"
      ]
     },
     "execution_count": 3,
     "metadata": {},
     "output_type": "execute_result"
    }
   ],
   "source": [
    "plot(sin,0,2*pi)"
   ]
  },
  {
   "cell_type": "code",
   "execution_count": 10,
   "metadata": {},
   "outputs": [
    {
     "name": "stderr",
     "output_type": "stream",
     "text": [
      "┌ Info: Precompiling SymPy [24249f21-da20-56a4-8eb1-6a02cf4ae2e6]\n",
      "└ @ Base loading.jl:1186\n",
      "┌ Info: Installing sympy via the Conda sympy package...\n",
      "└ @ PyCall C:\\Users\\ITC\\.julia\\packages\\PyCall\\0jMpb\\src\\PyCall.jl:653\n",
      "┌ Info: Running `conda install -y sympy` in root environment\n",
      "└ @ Conda C:\\Users\\ITC\\.julia\\packages\\Conda\\CpuvI\\src\\Conda.jl:112\n"
     ]
    },
    {
     "name": "stdout",
     "output_type": "stream",
     "text": [
      "Collecting package metadata: ...working... done\n",
      "Solving environment: ...working... done\n",
      "\n",
      "## Package Plan ##\n",
      "\n",
      "  environment location: C:\\Users\\ITC\\.julia\\conda\\3\n",
      "\n",
      "  added / updated specs:\n",
      "    - sympy\n",
      "\n",
      "\n",
      "The following packages will be downloaded:\n",
      "\n",
      "    package                    |            build\n",
      "    ---------------------------|-----------------\n",
      "    fastcache-1.0.2            |   py36hfa6e2cd_2          32 KB\n",
      "    mpmath-1.1.0               |           py36_0         970 KB\n",
      "    sympy-1.3                  |           py36_0         9.6 MB\n",
      "    ------------------------------------------------------------\n",
      "                                           Total:        10.5 MB\n",
      "\n",
      "The following NEW packages will be INSTALLED:\n",
      "\n",
      "  fastcache          pkgs/main/win-64::fastcache-1.0.2-py36hfa6e2cd_2\n",
      "  mpmath             pkgs/main/win-64::mpmath-1.1.0-py36_0\n",
      "  sympy              pkgs/main/win-64::sympy-1.3-py36_0\n",
      "\n",
      "\n",
      "\n",
      "Downloading and Extracting Packages\n",
      "sympy-1.3            | 9.6 MB    | ########## | 100% \n",
      "mpmath-1.1.0         | 970 KB    | ########## | 100% \n",
      "fastcache-1.0.2      | 32 KB     | ########## | 100% \n",
      "Preparing transaction: ...working... done\n",
      "Verifying transaction: ...working... done\n",
      "Executing transaction: ...working... done\n"
     ]
    }
   ],
   "source": [
    "using SymPy\n"
   ]
  },
  {
   "cell_type": "code",
   "execution_count": 14,
   "metadata": {},
   "outputs": [
    {
     "data": {
      "text/plain": [
       "(x,)"
      ]
     },
     "execution_count": 14,
     "metadata": {},
     "output_type": "execute_result"
    }
   ],
   "source": [
    "@vars x real=true"
   ]
  },
  {
   "cell_type": "code",
   "execution_count": 18,
   "metadata": {},
   "outputs": [
    {
     "data": {
      "text/latex": [
       "\\begin{equation*}9998\\end{equation*}"
      ],
      "text/plain": [
       "9998"
      ]
     },
     "execution_count": 18,
     "metadata": {},
     "output_type": "execute_result"
    }
   ],
   "source": [
    "ex=x^2\n",
    "ex |> subs(x,100) |> x->x-2 "
   ]
  },
  {
   "cell_type": "code",
   "execution_count": 21,
   "metadata": {},
   "outputs": [
    {
     "data": {
      "text/latex": [
       "\\begin{equation*}\\frac{x^{3}}{3}\\end{equation*}"
      ],
      "text/plain": [
       " 3\n",
       "x \n",
       "--\n",
       "3 "
      ]
     },
     "execution_count": 21,
     "metadata": {},
     "output_type": "execute_result"
    }
   ],
   "source": [
    "integrate(ex)"
   ]
  },
  {
   "cell_type": "code",
   "execution_count": 30,
   "metadata": {},
   "outputs": [
    {
     "data": {
      "text/plain": [
       "(n, i)"
      ]
     },
     "execution_count": 30,
     "metadata": {},
     "output_type": "execute_result"
    }
   ],
   "source": [
    "@vars n i integer = true"
   ]
  },
  {
   "cell_type": "code",
   "execution_count": 33,
   "metadata": {},
   "outputs": [
    {
     "data": {
      "text/latex": [
       "\\begin{equation*}\\sum_{i=1}^{n} i\\end{equation*}"
      ],
      "text/plain": [
       "  n    \n",
       " __    \n",
       " \\ `   \n",
       "  )   i\n",
       " /_,   \n",
       "i = 1  "
      ]
     },
     "execution_count": 33,
     "metadata": {},
     "output_type": "execute_result"
    }
   ],
   "source": [
    "sm=Sum(i,(i,1,n))"
   ]
  },
  {
   "cell_type": "code",
   "execution_count": 40,
   "metadata": {},
   "outputs": [
    {
     "data": {
      "text/latex": [
       "\\begin{equation*}\\frac{n \\left(n + 1\\right)}{2}\\end{equation*}"
      ],
      "text/plain": [
       "n*(n + 1)\n",
       "---------\n",
       "    2    "
      ]
     },
     "execution_count": 40,
     "metadata": {},
     "output_type": "execute_result"
    }
   ],
   "source": [
    "ex2 = sm |> doit |> factor"
   ]
  },
  {
   "cell_type": "code",
   "execution_count": 49,
   "metadata": {},
   "outputs": [
    {
     "data": {
      "text/latex": [
       "\\begin{equation*}45\\end{equation*}"
      ],
      "text/plain": [
       "45"
      ]
     },
     "execution_count": 49,
     "metadata": {},
     "output_type": "execute_result"
    }
   ],
   "source": [
    "ex2(i^2) |> subs(i,3)"
   ]
  },
  {
   "cell_type": "code",
   "execution_count": 50,
   "metadata": {},
   "outputs": [],
   "source": [
    "using Statistics"
   ]
  },
  {
   "cell_type": "code",
   "execution_count": 52,
   "metadata": {},
   "outputs": [
    {
     "data": {
      "text/plain": [
       "IOStream(<file readme.md>)"
      ]
     },
     "execution_count": 52,
     "metadata": {},
     "output_type": "execute_result"
    }
   ],
   "source": [
    " fl = open(\"readme.md\")"
   ]
  },
  {
   "cell_type": "code",
   "execution_count": 53,
   "metadata": {},
   "outputs": [
    {
     "data": {
      "text/plain": [
       "\"<file readme.md>\""
      ]
     },
     "execution_count": 53,
     "metadata": {},
     "output_type": "execute_result"
    }
   ],
   "source": [
    "fl.name"
   ]
  },
  {
   "cell_type": "code",
   "execution_count": 54,
   "metadata": {},
   "outputs": [
    {
     "data": {
      "text/plain": [
       "8-element Array{String,1}:\n",
       " \"# Math 102\"                                                                                                                                            \n",
       " \"These are my lecture notes for MATH 102 as JuPyter NoteBooks. \"                                                                                        \n",
       " \"## Using the notes\"                                                                                                                                    \n",
       " \"In order to use these notes interactively, you need to install Jupyter. To do this please follow the instructions here http://jupyter.org/install.html\"\n",
       " \"For any question, please don't hesitate to contact me.\"                                                                                                \n",
       " \"\"                                                                                                                                                      \n",
       " \"\"                                                                                                                                                      \n",
       " \"Good Luck\"                                                                                                                                             "
      ]
     },
     "execution_count": 54,
     "metadata": {},
     "output_type": "execute_result"
    }
   ],
   "source": [
    "lines = fl |> readlines"
   ]
  },
  {
   "cell_type": "code",
   "execution_count": 57,
   "metadata": {},
   "outputs": [
    {
     "data": {
      "text/plain": [
       "\"These are my lecture notes for MATH 102 as JuPyter NoteBooks. \""
      ]
     },
     "execution_count": 57,
     "metadata": {},
     "output_type": "execute_result"
    }
   ],
   "source": [
    "lines[2]"
   ]
  },
  {
   "cell_type": "code",
   "execution_count": 63,
   "metadata": {},
   "outputs": [
    {
     "name": "stdout",
     "output_type": "stream",
     "text": [
      "# Math 102\n",
      "These are my lecture notes for MATH 102 as JuPyter NoteBooks. \n",
      "## Using the notes\n",
      "In order to use these notes interactively, you need to install Jupyter. To do this please follow the instructions here http://jupyter.org/install.html\n",
      "For any question, please don't hesitate to contact me.\n",
      "\n",
      "\n",
      "Good Luck\n"
     ]
    }
   ],
   "source": [
    "open(\"readme.md\") do f\n",
    "    lines =readlines(f)\n",
    "    for l in lines\n",
    "        println(l)\n",
    "    end\n",
    "end"
   ]
  },
  {
   "cell_type": "code",
   "execution_count": 64,
   "metadata": {},
   "outputs": [
    {
     "ename": "ErrorException",
     "evalue": "error compiling top-level scope: could not load library \"libc\"\nThe specified module could not be found.\r\n",
     "output_type": "error",
     "traceback": [
      "error compiling top-level scope: could not load library \"libc\"\nThe specified module could not be found.\r\n",
      ""
     ]
    }
   ],
   "source": [
    "t = ccall((:clock, \"libc\"), Int32, ())"
   ]
  },
  {
   "cell_type": "code",
   "execution_count": 65,
   "metadata": {},
   "outputs": [],
   "source": [
    "using LinearAlgebra"
   ]
  },
  {
   "cell_type": "code",
   "execution_count": 67,
   "metadata": {},
   "outputs": [
    {
     "data": {
      "text/plain": [
       "2×3 Array{Int64,2}:\n",
       " 1  2  3\n",
       " 3  3  3"
      ]
     },
     "execution_count": 67,
     "metadata": {},
     "output_type": "execute_result"
    }
   ],
   "source": [
    "A=[1 2 3;3 3 3]"
   ]
  },
  {
   "cell_type": "code",
   "execution_count": 68,
   "metadata": {},
   "outputs": [
    {
     "data": {
      "text/plain": [
       "3×3 Array{Int64,2}:\n",
       " 10  11  12\n",
       " 11  13  15\n",
       " 12  15  18"
      ]
     },
     "execution_count": 68,
     "metadata": {},
     "output_type": "execute_result"
    }
   ],
   "source": [
    "X=A'*A\n"
   ]
  },
  {
   "cell_type": "code",
   "execution_count": 69,
   "metadata": {},
   "outputs": [
    {
     "data": {
      "text/plain": [
       "Eigen{Float64,Float64,Array{Float64,2},Array{Float64,1}}\n",
       "eigenvalues:\n",
       "3-element Array{Float64,1}:\n",
       "  5.9211893938490405e-15\n",
       "  1.3623407909953655    \n",
       " 39.637659209004575     \n",
       "eigenvectors:\n",
       "3×3 Array{Float64,2}:\n",
       "  0.408248  -0.775712   -0.481253\n",
       " -0.816497  -0.0745202  -0.572521\n",
       "  0.408248   0.626672   -0.663789"
      ]
     },
     "execution_count": 69,
     "metadata": {},
     "output_type": "execute_result"
    }
   ],
   "source": [
    "eigen(X)"
   ]
  },
  {
   "cell_type": "markdown",
   "metadata": {},
   "source": [
    "\n",
    "A paragraph containing some $\\LaTeX$ markup.\n"
   ]
  },
  {
   "cell_type": "code",
   "execution_count": 78,
   "metadata": {},
   "outputs": [
    {
     "data": {
      "text/latex": [
       "\\begin{equation*}\\frac{1}{x}\\end{equation*}"
      ],
      "text/plain": [
       "1\n",
       "-\n",
       "x"
      ]
     },
     "execution_count": 78,
     "metadata": {},
     "output_type": "execute_result"
    }
   ],
   "source": [
    "limit(1/x,n,Inf)"
   ]
  },
  {
   "cell_type": "code",
   "execution_count": null,
   "metadata": {},
   "outputs": [],
   "source": []
  }
 ],
 "metadata": {
  "celltoolbar": "Slideshow",
  "kernelspec": {
   "display_name": "Julia 1.1.0",
   "language": "julia",
   "name": "julia-1.1"
  },
  "language_info": {
   "file_extension": ".jl",
   "mimetype": "application/julia",
   "name": "julia",
   "version": "1.1.0"
  }
 },
 "nbformat": 4,
 "nbformat_minor": 2
}
