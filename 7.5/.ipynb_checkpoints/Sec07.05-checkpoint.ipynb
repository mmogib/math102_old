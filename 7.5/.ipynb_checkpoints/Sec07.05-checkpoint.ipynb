{
 "cells": [
  {
   "cell_type": "markdown",
   "metadata": {
    "slideshow": {
     "slide_type": "slide"
    }
   },
   "source": [
    "# 7.5 Strategy of Integration\n",
    "\n"
   ]
  },
  {
   "cell_type": "markdown",
   "metadata": {
    "slideshow": {
     "slide_type": "slide"
    }
   },
   "source": [
    "# Example $$\\int e^{\\sqrt{x}}dx$$"
   ]
  },
  {
   "cell_type": "code",
   "execution_count": 12,
   "metadata": {},
   "outputs": [
    {
     "data": {
      "image/png": "[encoded data removed]",
      "text/latex": [
       "$$\\int e^{\\sqrt{x}}\\, dx = 2 \\sqrt{x} e^{\\sqrt{x}} - 2 e^{\\sqrt{x}}$$"
      ],
      "text/plain": [
       "⌠                          \n",
       "⎮  √x            √x      √x\n",
       "⎮ ℯ   dx = 2⋅√x⋅ℯ   - 2⋅ℯ  \n",
       "⌡                          "
      ]
     },
     "execution_count": 12,
     "metadata": {},
     "output_type": "execute_result"
    }
   ],
   "source": [
    "from sympy import Integral , symbols, Eq, exp, sqrt, init_printing\n",
    "init_printing()\n",
    "x = symbols(\"x\")\n",
    "I1=Integral(exp(sqrt(x)), x)\n",
    "I1d= Eq(I1,I1.doit())\n",
    "I1d"
   ]
  }
 ],
 "metadata": {
  "celltoolbar": "Slideshow",
  "kernelspec": {
   "display_name": "Python 3",
   "language": "python",
   "name": "python3"
  },
  "language_info": {
   "codemirror_mode": {
    "name": "ipython",
    "version": 3
   },
   "file_extension": ".py",
   "mimetype": "text/x-python",
   "name": "python",
   "nbconvert_exporter": "python",
   "pygments_lexer": "ipython3",
   "version": "3.6.4"
  }
 },
 "nbformat": 4,
 "nbformat_minor": 2
}
