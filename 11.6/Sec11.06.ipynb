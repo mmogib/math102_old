{
 "cells": [
  {
   "cell_type": "markdown",
   "metadata": {
    "slideshow": {
     "slide_type": "slide"
    }
   },
   "source": [
    "# 11.6 Absolute Convergence and the Ratio and Root Tests\n",
    "\n",
    "### Absolute Convegence\n",
    "A series $\\sum a_n$ is called __absolutely convergent__ if the series of\n",
    "absolute $\\sum |a_n| $ values is convergent.\n",
    "\n",
    "*_Example_*:\n",
    "The series \n",
    "\\\\[\n",
    "\\sum_{n=1}^{\\infty}\\frac{(-1)^{n-1}}{n^2}\n",
    "\\\\]\n",
    "is __absolutely convergent__ because the series \n",
    "\\\\[\n",
    "\\sum_{n=1}^{\\infty}\\left|\\frac{(-1)^{n-1}}{n^2}\\right|= \\sum_{n=1}^{\\infty}\\frac{1}{n^2}\n",
    "\\\\]\n",
    "is __convergent__.\n"
   ]
  },
  {
   "cell_type": "markdown",
   "metadata": {
    "slideshow": {
     "slide_type": "slide"
    }
   },
   "source": [
    "### Conditional Convergence \n",
    "A series $\\sum a_n$ is called __conditionally convergent__ if it is convergent but not absolutely convergent \n",
    "\n",
    "*_Example_*:\n",
    "The series \n",
    "\\\\[\n",
    "\\sum_{n=1}^{\\infty}\\frac{(-1)^{n-1}}{n}\n",
    "\\\\]\n",
    "is __convergent__ BUT the series \n",
    "\\\\[\n",
    "\\sum_{n=1}^{\\infty}\\left|\\frac{(-1)^{n-1}}{n}\\right|= \\sum_{n=1}^{\\infty}\\frac{1}{n}\n",
    "\\\\]\n",
    "is __divergent__. So \n",
    "\\\\[\n",
    "\\sum_{n=1}^{\\infty}\\frac{(-1)^{n-1}}{n}\n",
    "\\\\]\n",
    "is __conditionally convergent__."
   ]
  },
  {
   "cell_type": "markdown",
   "metadata": {
    "slideshow": {
     "slide_type": "slide"
    }
   },
   "source": [
    "### Theorem \n",
    "If a series $\\sum a_n$ is absolutely convergent, then it is convergent."
   ]
  },
  {
   "cell_type": "markdown",
   "metadata": {
    "slideshow": {
     "slide_type": "slide"
    }
   },
   "source": [
    "![The Ratio Test](./imgs/rt.png)"
   ]
  },
  {
   "cell_type": "markdown",
   "metadata": {
    "slideshow": {
     "slide_type": "slide"
    }
   },
   "source": [
    "![The Root Test](./imgs/root.png)"
   ]
  },
  {
   "cell_type": "code",
   "execution_count": null,
   "metadata": {},
   "outputs": [],
   "source": []
  },
  {
   "cell_type": "markdown",
   "metadata": {
    "slideshow": {
     "slide_type": "slide"
    }
   },
   "source": [
    "### Examples\n",
    "Test for convergence \n",
    "\\\\[\n",
    "\\begin{array}{lrl}\n",
    "    \\text{(1)} & \\text{     } & \\sum_{n=1}^\\infty \\frac{\\cos n}{n^3}\\\\\n",
    "    \\text{(2)} & \\text{     } & \\sum_{n=1}^\\infty (-1)^n\\frac{n^3}{3^n}\\\\ \n",
    "    \\text{(3)} & \\text{     } & \\sum_{n=1}^\\infty  \\left(\\frac{2n+5}{5n+2}\\right)^n \\\\\n",
    "\\end{array}\n",
    "\\\\]"
   ]
  },
  {
   "cell_type": "code",
   "execution_count": 6,
   "metadata": {},
   "outputs": [
    {
     "data": {
      "text/plain": [
       "-0.653643620863612"
      ]
     },
     "execution_count": 6,
     "metadata": {},
     "output_type": "execute_result"
    }
   ],
   "source": [
    "from sympy import cos\n",
    "cos(4).n()\n"
   ]
  },
  {
   "cell_type": "code",
   "execution_count": null,
   "metadata": {},
   "outputs": [],
   "source": []
  }
 ],
 "metadata": {
  "celltoolbar": "Slideshow",
  "kernelspec": {
   "display_name": "Python 3",
   "language": "python",
   "name": "python3"
  },
  "language_info": {
   "codemirror_mode": {
    "name": "ipython",
    "version": 3
   },
   "file_extension": ".py",
   "mimetype": "text/x-python",
   "name": "python",
   "nbconvert_exporter": "python",
   "pygments_lexer": "ipython3",
   "version": "3.6.4"
  }
 },
 "nbformat": 4,
 "nbformat_minor": 2
}
