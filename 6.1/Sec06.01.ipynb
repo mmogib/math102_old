{
 "cells": [
  {
   "cell_type": "markdown",
   "metadata": {
    "slideshow": {
     "slide_type": "slide"
    }
   },
   "source": [
    "# 6.1 Areas Between Curves\n",
    "## can you find the shaded area?"
   ]
  },
  {
   "cell_type": "markdown",
   "metadata": {
    "slideshow": {
     "slide_type": "slide"
    }
   },
   "source": [
    "![Introductory Problem](./imgs/img1.png)"
   ]
  },
  {
   "cell_type": "markdown",
   "metadata": {
    "slideshow": {
     "slide_type": "slide"
    }
   },
   "source": [
    "![Introductory Problem - part 2](./imgs/img2.png)"
   ]
  },
  {
   "cell_type": "markdown",
   "metadata": {
    "slideshow": {
     "slide_type": "slide"
    }
   },
   "source": [
    "![Introductory Problem - part 3](./imgs/img3.png)"
   ]
  },
  {
   "cell_type": "markdown",
   "metadata": {
    "slideshow": {
     "slide_type": "slide"
    }
   },
   "source": [
    "![Area Deiniftion](./imgs/area.png)"
   ]
  },
  {
   "cell_type": "markdown",
   "metadata": {
    "slideshow": {
     "slide_type": "slide"
    }
   },
   "source": [
    "## Example 1\n",
    "\n",
    "Find the area of the region bounded above by $y=e^x$, bounded below by $y=x$, bounded on the sides by $x=0$ and $x=1$.\n",
    "\n",
    "---\n",
    "\n",
    "_Solution in class_"
   ]
  },
  {
   "cell_type": "markdown",
   "metadata": {
    "slideshow": {
     "slide_type": "slide"
    }
   },
   "source": [
    "## Example 2\n",
    "\n",
    "Find the area of the region enclosed by the parabolas $y=x^2$ and $y=2x-x^2$.\n",
    "\n",
    "---\n",
    "*Solution in class*"
   ]
  },
  {
   "cell_type": "markdown",
   "metadata": {
    "slideshow": {
     "slide_type": "slide"
    }
   },
   "source": [
    "## Example 3 ## (Computer Based)\n",
    "\n",
    "Find the approximate area of the region bounded by the curves $y=\\frac{x}{\\sqrt{x^2+1}}$ and $y=x^4-x$.\n",
    "\n",
    "---\n",
    "*Solution in class*"
   ]
  },
  {
   "cell_type": "code",
   "execution_count": 1,
   "metadata": {
    "scrolled": true,
    "slideshow": {
     "slide_type": "slide"
    }
   },
   "outputs": [
    {
     "data": {
      "text/plain": [
       "<matplotlib.figure.Figure at 0x7e63400>"
      ]
     },
     "metadata": {},
     "output_type": "display_data"
    },
    {
     "data": {
      "text/plain": [
       "<matplotlib.figure.Figure at 0x8eb1358>"
      ]
     },
     "metadata": {},
     "output_type": "display_data"
    },
    {
     "data": {
      "text/plain": [
       "<matplotlib.figure.Figure at 0x8f46208>"
      ]
     },
     "metadata": {},
     "output_type": "display_data"
    }
   ],
   "source": [
    "from sympy import init_printing, Or,Integral, var,symbols, Eq, sqrt, plot, plot_implicit, solveset,plot_implicit, And\n",
    "init_printing()\n",
    "x,y =symbols('x,y', real=True)\n",
    "fx= x/sqrt(x**2+1)\n",
    "gx=x**4-x\n",
    "p1=plot_implicit(Eq(fx,y),(x,1,1.5), (y,0,2))\n",
    "p2=plot_implicit(Eq(gx,y),(x,1,1.5), (y,0,2))\n",
    "p1.append(p2[0])\n",
    "p1.show()"
   ]
  },
  {
   "cell_type": "code",
   "execution_count": 2,
   "metadata": {
    "slideshow": {
     "slide_type": "slide"
    }
   },
   "outputs": [
    {
     "data": {
      "image/png": "[encoded data removed]",
      "text/latex": [
       "$$\\int_{0}^{1.18} \\left(- x^{4} + x + \\frac{x}{\\sqrt{x^{2} + 1}}\\right)\\, dx$$"
      ],
      "text/plain": [
       "1.18                            \n",
       " ⌠                              \n",
       " ⎮   ⎛   4            x     ⎞   \n",
       " ⎮   ⎜- x  + x + ───────────⎟ dx\n",
       " ⎮   ⎜              ________⎟   \n",
       " ⎮   ⎜             ╱  2     ⎟   \n",
       " ⎮   ⎝           ╲╱  x  + 1 ⎠   \n",
       " ⌡                              \n",
       " 0                              "
      ]
     },
     "execution_count": 2,
     "metadata": {},
     "output_type": "execute_result"
    }
   ],
   "source": [
    "A=Integral(fx-gx,(x,0,1.18))\n",
    "A"
   ]
  },
  {
   "cell_type": "code",
   "execution_count": 3,
   "metadata": {
    "slideshow": {
     "slide_type": "fragment"
    }
   },
   "outputs": [
    {
     "data": {
      "image/png": "[encoded data removed]",
      "text/latex": [
       "$$0.785386952718825$$"
      ],
      "text/plain": [
       "0.785386952718825"
      ]
     },
     "execution_count": 3,
     "metadata": {},
     "output_type": "execute_result"
    }
   ],
   "source": [
    "A.doit()"
   ]
  },
  {
   "cell_type": "markdown",
   "metadata": {
    "slideshow": {
     "slide_type": "slide"
    }
   },
   "source": [
    "# General Areas\n",
    "![General Area](./imgs/general_area.png)"
   ]
  },
  {
   "cell_type": "markdown",
   "metadata": {
    "slideshow": {
     "slide_type": "slide"
    }
   },
   "source": [
    "![Area Between Two Curves](./imgs/general_area_rule.png)"
   ]
  },
  {
   "cell_type": "markdown",
   "metadata": {
    "slideshow": {
     "slide_type": "slide"
    }
   },
   "source": [
    "# Example \n",
    "\n",
    "Find the area of the region bounded by the curves \n",
    "$$ y=\\cos(x), \\;\\; y=\\sin(2x), \\;\\; x=0, \\;\\; x=\\frac{\\pi}{2}$$"
   ]
  },
  {
   "cell_type": "code",
   "execution_count": 6,
   "metadata": {
    "slideshow": {
     "slide_type": "slide"
    }
   },
   "outputs": [
    {
     "data": {
      "image/png": "[encoded data removed]",
      "text/plain": [
       "<matplotlib.figure.Figure at 0x91f66a0>"
      ]
     },
     "metadata": {},
     "output_type": "display_data"
    }
   ],
   "source": [
    "from sympy import cos, sin, pi, Abs\n",
    "p1=plot_implicit(Eq(cos(x),y),(x,0,pi/2),(y,-1,1), title=\"$\\cos(x)$\", show=False)\n",
    "p2=plot_implicit(Eq(sin(2*x),y),(x,0,pi/2),(y,-1,1),  title=\"$\\sin(2x)$\", show=False)\n",
    "p1.append(p2[0])\n",
    "p1.show()"
   ]
  },
  {
   "cell_type": "code",
   "execution_count": 5,
   "metadata": {
    "slideshow": {
     "slide_type": "slide"
    }
   },
   "outputs": [
    {
     "data": {
      "image/png": "[encoded data removed]",
      "text/latex": [
       "$$\\int_{0}^{\\frac{\\pi}{2}} \\left|{\\sin{\\left (2 x \\right )} - \\cos{\\left (x \\right )}}\\right|\\, dx = 0.5$$"
      ],
      "text/plain": [
       "π                             \n",
       "─                             \n",
       "2                             \n",
       "⌠                             \n",
       "⎮ │sin(2⋅x) - cos(x)│ dx = 0.5\n",
       "⌡                             \n",
       "0                             "
      ]
     },
     "execution_count": 5,
     "metadata": {},
     "output_type": "execute_result"
    }
   ],
   "source": [
    "A=Integral(Abs(cos(x)-sin(2*x)),(x,0,pi/2))\n",
    "Eq1=Eq(A,A.doit().evalf(),evaluate=False)\n",
    "Eq1"
   ]
  },
  {
   "cell_type": "markdown",
   "metadata": {
    "slideshow": {
     "slide_type": "slide"
    }
   },
   "source": [
    "# Example 6\n",
    "\n",
    "Find the area enclosed by the line $y=x-1$ and the parabola $y^2=2x+6$.\n",
    "\n",
    "*solution in class*"
   ]
  },
  {
   "cell_type": "markdown",
   "metadata": {
    "slideshow": {
     "slide_type": "slide"
    }
   },
   "source": [
    "# Step 1: Sketch the graph\n"
   ]
  },
  {
   "cell_type": "code",
   "execution_count": 30,
   "metadata": {
    "slideshow": {
     "slide_type": "slide"
    }
   },
   "outputs": [
    {
     "data": {
      "image/png": "[encoded data removed]",
      "text/plain": [
       "<matplotlib.figure.Figure at 0xac4f4e0>"
      ]
     },
     "metadata": {},
     "output_type": "display_data"
    }
   ],
   "source": [
    "p1=plot_implicit(Eq(2*x+6,y**2), title=\"${ y^2=2x+6}$ and $ y=x-1$\", show=False, scale=2, line_color=\"red\", aspect_ratio=(10.0,5.0))\n",
    "p2=plot_implicit(Eq(x-1,y), show=False,  aspect_ratio=(10.0,5.0))\n",
    "p1.append(p2[0])\n",
    "p1.show()"
   ]
  },
  {
   "cell_type": "markdown",
   "metadata": {
    "slideshow": {
     "slide_type": "slide"
    }
   },
   "source": [
    "# Step 2: Decide \n",
    "## (i)  up-down area\n",
    "## (ii) right-left area"
   ]
  },
  {
   "cell_type": "markdown",
   "metadata": {
    "slideshow": {
     "slide_type": "slide"
    }
   },
   "source": [
    "# Step 3: Find points of intersections"
   ]
  },
  {
   "cell_type": "markdown",
   "metadata": {
    "slideshow": {
     "slide_type": "fragment"
    }
   },
   "source": [
    "# Step 4: Write the integral that gives the area"
   ]
  },
  {
   "cell_type": "markdown",
   "metadata": {
    "slideshow": {
     "slide_type": "fragment"
    }
   },
   "source": [
    "# Step 5: Evalaute "
   ]
  },
  {
   "cell_type": "markdown",
   "metadata": {
    "slideshow": {
     "slide_type": "slide"
    }
   },
   "source": [
    "# Old Exam Problem 1:\n",
    "![Problem 1](./imgs/problem1.png)\n",
    "$$ \\large\n",
    "(a) \\frac{3}{5} \\quad (b) \\frac{3}{7} \\quad (c) \\frac{5}{7} \\quad (d) \\frac{1}{7} \\quad (e) \\frac{1}{3} \\;\\; \n",
    "$$"
   ]
  },
  {
   "cell_type": "markdown",
   "metadata": {
    "slideshow": {
     "slide_type": "slide"
    }
   },
   "source": [
    "# Old Exam Problem 2:\n",
    "![Problem 1](./imgs/problem2.png)\n",
    "$$ \\large\n",
    "\\text{(a)} \\ln 2 \\quad\n",
    "\\text{(b)} \\pi -1  \\quad\n",
    "\\text{(c)} \\frac{\\pi}{2} \\quad\n",
    "\\text{(d)} 0 \\quad\n",
    "\\text{(e)} \\pi + \\ln 2 \\quad\n",
    "$$"
   ]
  },
  {
   "cell_type": "markdown",
   "metadata": {
    "slideshow": {
     "slide_type": "slide"
    }
   },
   "source": [
    "# Old Exam Problem 3:\n",
    "![Problem 1](./imgs/problem3.png)\n",
    "$$ \\large\n",
    "\\text{(a)} \\frac{40}{3} \\quad\n",
    "\\text{(b)} \\frac{64}{3} \\quad\n",
    "\\text{(c)} \\frac{80}{3} \\quad\n",
    "\\text{(d)} \\frac{32}{3} \\quad\n",
    "\\text{(e)} \\frac{16}{3} \\quad\n",
    "$$"
   ]
  },
  {
   "cell_type": "markdown",
   "metadata": {
    "slideshow": {
     "slide_type": "slide"
    }
   },
   "source": [
    "# Old Exam Problem 4:\n",
    "![Problem 1](./imgs/problem4.png)\n",
    "$$ \\large\n",
    "\\text{(a)}  7 \\quad\n",
    "\\text{(b)} 6 \\quad\n",
    "\\text{(c)} 10 \\quad\n",
    "\\text{(d)} 9 \\quad\n",
    "\\text{(e)} 8 \\quad\n",
    "$$"
   ]
  },
  {
   "cell_type": "markdown",
   "metadata": {
    "slideshow": {
     "slide_type": "slide"
    }
   },
   "source": [
    "# Old Exam Problem 5:\n",
    "![Problem 1](./imgs/problem5.png)\n"
   ]
  },
  {
   "cell_type": "code",
   "execution_count": null,
   "metadata": {},
   "outputs": [],
   "source": []
  }
 ],
 "metadata": {
  "celltoolbar": "Slideshow",
  "kernelspec": {
   "display_name": "Python 3",
   "language": "python",
   "name": "python3"
  },
  "language_info": {
   "codemirror_mode": {
    "name": "ipython",
    "version": 3
   },
   "file_extension": ".py",
   "mimetype": "text/x-python",
   "name": "python",
   "nbconvert_exporter": "python",
   "pygments_lexer": "ipython3",
   "version": "3.6.4"
  }
 },
 "nbformat": 4,
 "nbformat_minor": 2
}
