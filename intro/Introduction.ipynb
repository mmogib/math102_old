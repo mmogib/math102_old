{
 "cells": [
  {
   "cell_type": "markdown",
   "metadata": {
    "slideshow": {
     "slide_type": "slide"
    }
   },
   "source": [
    "# MATH 102\n",
    "## Calculus 2 ([Syllabus](https://aisys.kfupm.edu.sa/MATH_ONLY/Syllabus_data/172/MATH102.pdf))\n",
    "### Dr. Mohammed Alshahrani\n",
    "### email : mshahrani@kfupm.edu.sa\n",
    "### website: [faculty.kfupm.edu.sa/math/mshahrani](http://faculty.kfupm.edu.sa/math/mshahrani) \n",
    "* office: Building 5, room: 201-1\n",
    "* phone: 013-860-7748"
   ]
  },
  {
   "cell_type": "markdown",
   "metadata": {
    "slideshow": {
     "slide_type": "slide"
    }
   },
   "source": [
    "## Office Hours: UTR:11:00 - 11:50AM \n",
    "(by appointment also)\n",
    "## Classwork:\n",
    "* out of 40\n",
    "* based on best 4 quizzes out of 5\n",
    "\n",
    "## Online Homework: Blackboard"
   ]
  },
  {
   "cell_type": "markdown",
   "metadata": {
    "slideshow": {
     "slide_type": "slide"
    }
   },
   "source": [
    "## Course Material\n",
    "* ### Lectures: Blackboard\n",
    "* ### Grades and Attendance: my website"
   ]
  }
 ],
 "metadata": {
  "celltoolbar": "Slideshow",
  "kernelspec": {
   "display_name": "Python 3",
   "language": "python",
   "name": "python3"
  },
  "language_info": {
   "codemirror_mode": {
    "name": "ipython",
    "version": 3
   },
   "file_extension": ".py",
   "mimetype": "text/x-python",
   "name": "python",
   "nbconvert_exporter": "python",
   "pygments_lexer": "ipython3",
   "version": "3.6.4"
  }
 },
 "nbformat": 4,
 "nbformat_minor": 2
}
