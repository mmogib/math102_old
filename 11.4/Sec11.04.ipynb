{
 "cells": [
  {
   "cell_type": "markdown",
   "metadata": {},
   "source": [
    "# 11.4 Comparison Tests\n",
    "![Comparison Test](./imgs/ct.png)\n",
    "## Examples\n",
    "Test for convegence \n",
    "$$\n",
    "\\begin{array}{lrrr}\n",
    "\\text{(1)} & \\sum_{n=1}^{\\infty}\\frac{5}{2n^2+4n+3}\\\\\n",
    "\\text{(2)} & \\sum_{n=1}^{\\infty}\\frac{\\ln n}{n}\\\\\n",
    "\\end{array}\n",
    "$$\n",
    "\n",
    "---\n",
    "\n",
    "![Comparison Test](./imgs/lct.png)\n",
    "## Examples\n",
    "Test for convegence \n",
    "$$\n",
    "\\begin{array}{llrr}\n",
    "\\text{(3)} & \\sum_{n=1}^{\\infty}\\frac{1}{2^n-1}\\\\\n",
    "\\text{(4)} & \\sum_{n=1}^{\\infty}\\frac{2n^2+3n}{\\sqrt{5+n^5}}\\\\\n",
    "\\end{array}\n",
    "$$\n",
    "\n",
    "---"
   ]
  },
  {
   "cell_type": "markdown",
   "metadata": {
    "solution2": "shown",
    "solution2_first": true
   },
   "source": [
    "## Exercises\n",
    "- Test for convegence \n",
    "$$\n",
    "\\begin{array}{llrr}\n",
    "\\text{(5)} & \\sum_{n=1}^{\\infty}\\frac{n+3^n}{n+2^n}\\\\\n",
    "\\text{(6)} & \\sum_{n=1}^{\\infty}\\frac{1}{n^{1+{1\\over n}}}\\\\\n",
    "\\end{array}\n",
    "$$\n",
    "\n",
    "- Use the sum of the first 10 terms to approximate the sum of the series \n",
    "$$\n",
    "\\begin{array}{llrr}\n",
    "\\text{(7)} & \\sum_{n=1}^{\\infty}\\frac{\\sin^2n}{n^3}\\\\\n",
    "\\end{array}\n",
    "$$"
   ]
  },
  {
   "cell_type": "code",
   "execution_count": 38,
   "metadata": {
    "solution2": "shown"
   },
   "outputs": [
    {
     "data": {
      "image/png": "[encoded data removed]",
      "text/latex": [
       "$$\\sum_{n=1}^{\\infty} \\frac{1}{n^{3}} \\sin^{2}{\\left (n \\right )} = 0.83501415$$"
      ],
      "text/plain": [
       "  ∞                       \n",
       "_____                     \n",
       "╲                         \n",
       " ╲       2                \n",
       "  ╲   sin (n)             \n",
       "   ╲  ───────             \n",
       "   ╱      3   = 0.83501415\n",
       "  ╱      n                \n",
       " ╱                        \n",
       "╱                         \n",
       "‾‾‾‾‾                     \n",
       "n = 1                     "
      ]
     },
     "metadata": {},
     "output_type": "display_data"
    },
    {
     "data": {
      "image/png": "[encoded data removed]",
      "text/latex": [
       "$$\\sum_{n=1}^{10} \\frac{1}{n^{3}} \\sin^{2}{\\left (n \\right )} = 0.832529801461835$$"
      ],
      "text/plain": [
       "  10                             \n",
       "_____                            \n",
       "╲                                \n",
       " ╲       2                       \n",
       "  ╲   sin (n)                    \n",
       "   ╲  ───────                    \n",
       "   ╱      3   = 0.832529801461835\n",
       "  ╱      n                       \n",
       " ╱                               \n",
       "╱                                \n",
       "‾‾‾‾‾                            \n",
       "n = 1                            "
      ]
     },
     "metadata": {},
     "output_type": "display_data"
    },
    {
     "data": {
      "image/png": "[encoded data removed]",
      "text/latex": [
       "$$- \\sum_{n=1}^{10} \\frac{1}{n^{3}} \\sin^{2}{\\left (n \\right )} + \\sum_{n=1}^{\\infty} \\frac{1}{n^{3}} \\sin^{2}{\\left (n \\right )}$$"
      ],
      "text/plain": [
       "    10              ∞          \n",
       "  _____           _____        \n",
       "  ╲               ╲            \n",
       "   ╲       2       ╲       2   \n",
       "    ╲   sin (n)     ╲   sin (n)\n",
       "     ╲  ───────      ╲  ───────\n",
       "-    ╱      3   +    ╱      3  \n",
       "    ╱      n        ╱      n   \n",
       "   ╱               ╱           \n",
       "  ╱               ╱            \n",
       "  ‾‾‾‾‾           ‾‾‾‾‾        \n",
       "  n = 1           n = 1        "
      ]
     },
     "metadata": {},
     "output_type": "display_data"
    },
    {
     "data": {
      "image/png": "[encoded data removed]",
      "text/latex": [
       "$$0.005$$"
      ],
      "text/plain": [
       "0.005"
      ]
     },
     "metadata": {},
     "output_type": "display_data"
    }
   ],
   "source": [
    "from sympy import sin, init_printing, Sum, Symbol, oo,Eq, simplify\n",
    "init_printing()\n",
    "n=Symbol(\"n\", Integer=True)\n",
    "m=Symbol(\"m\", Integer=True)\n",
    "\n",
    "s5=Sum(((sin(n))**2)/(n**3),(n,1,oo))\n",
    "e5=Eq(s5,s5.n(), evaluate=False)\n",
    "display(e5)\n",
    "s5_10=Sum(((sin(n))**2)/(n**3),(n,1,10))\n",
    "e5_10=Eq(s5_10,s5_10.n(), evaluate=False)\n",
    "display(e5_10)\n",
    "bound=1/(2*10**2)"
   ]
  },
  {
   "cell_type": "code",
   "execution_count": 39,
   "metadata": {
    "solution2": "shown"
   },
   "outputs": [
    {
     "data": {
      "image/png": "[encoded data removed]",
      "text/latex": [
       "$$0.00248434482515936$$"
      ],
      "text/plain": [
       "0.00248434482515936"
      ]
     },
     "metadata": {},
     "output_type": "display_data"
    },
    {
     "data": {
      "image/png": "[encoded data removed]",
      "text/latex": [
       "$$0.005$$"
      ],
      "text/plain": [
       "0.005"
      ]
     },
     "metadata": {},
     "output_type": "display_data"
    }
   ],
   "source": [
    "display(s5.n()-s5_10.n())\n",
    "display(bound)"
   ]
  },
  {
   "cell_type": "code",
   "execution_count": null,
   "metadata": {
    "solution2": "shown"
   },
   "outputs": [],
   "source": []
  }
 ],
 "metadata": {
  "kernelspec": {
   "display_name": "Python 3",
   "language": "python",
   "name": "python3"
  },
  "language_info": {
   "codemirror_mode": {
    "name": "ipython",
    "version": 3
   },
   "file_extension": ".py",
   "mimetype": "text/x-python",
   "name": "python",
   "nbconvert_exporter": "python",
   "pygments_lexer": "ipython3",
   "version": "3.6.4"
  }
 },
 "nbformat": 4,
 "nbformat_minor": 2
}
