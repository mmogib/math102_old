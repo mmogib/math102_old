{
 "cells": [
  {
   "cell_type": "markdown",
   "metadata": {},
   "source": [
    "# 11.10 Taylor and Maclaurin Series\n",
    "\n",
    "By the end of this section we will be able to write the following power series representations of certain functions\n",
    "![Table](./imgs/table.png)\n",
    "\n",
    "__THESE ARE MACLAURIN SERIES__\n"
   ]
  },
  {
   "cell_type": "markdown",
   "metadata": {},
   "source": [
    "# Taylor Theorem\n",
    "![Theorem](./imgs/theorem.png)\n",
    "\n",
    "So,\n",
    "![Taylor](./imgs/taylor.png)\n",
    "\n",
    "# Maclaurin \n",
    "__is Taylor about 0__\n",
    "![Maclaurin](./imgs/maclaurin.png)\n"
   ]
  },
  {
   "cell_type": "markdown",
   "metadata": {},
   "source": [
    "# Examples (important)\n",
    "Find Maclaurin series for \n",
    "1. $f(x)=e^x$.\n",
    "2. $f(x)=\\sin x$.\n",
    "3. $f(x)=\\cos x$.\n",
    "4. $f(x)=x \\cos x$.\n",
    "\n",
    "Find Taylor Series of\n",
    "5. $f(x)=\\sin x$ about $\\pi \\over 3$.\n"
   ]
  },
  {
   "cell_type": "markdown",
   "metadata": {},
   "source": [
    "# The Binomial Series\n",
    "![Binomial Series](./imgs/bn.png)\n",
    "where \n",
    "$$\n",
    "\\left(\\begin{array}{c} k \\\\ n\\end{array}\\right) = \\frac{k(k-1)(k-2)\\cdots (k-n+1)}{n!}\n",
    "$$\n",
    "This is called __binomial coefficients__.\n",
    "Note that \n",
    "* $$\n",
    "\\left(\\begin{array}{c} k \\\\ n\\end{array}\\right) =0 \\qquad \\text{if} \\quad k \\text{ is integer and } k<n\n",
    " $$\n",
    "\n",
    "* $$\n",
    "\\left(\\begin{array}{c} k \\\\ 0\\end{array}\\right) =0, \\quad  \\left(\\begin{array}{c} k \\\\ 1\\end{array}\\right) =k\n",
    "$$\n",
    "\n",
    "## Remarks\n",
    "2. If $-1<k\\leq 0$, it converges at x=1\n",
    "3. If $k\\geq 0$ it converges at $x=\\pm 1$.\n"
   ]
  },
  {
   "cell_type": "markdown",
   "metadata": {},
   "source": [
    "# Example\n",
    "Find the Maclaurin series for the function \n",
    "$$\n",
    "f(x)=\\frac{1}{\\sqrt{4-x}}\n",
    "$$\n",
    "and its radius of convergence.\n",
    "\n",
    "__Solution__\n",
    "![Solution Example 9](./imgs/sol9.png)"
   ]
  },
  {
   "cell_type": "markdown",
   "metadata": {},
   "source": [
    "# Applications\n",
    "1. Evaluate\n",
    "$$\n",
    "\\int e^{x^2} dx\n",
    "$$\n",
    "2. Evaluate \n",
    "$$\n",
    "\\lim_{x\\to 0}\\frac{e^x-1-x}{x^2}\n",
    "$$\n",
    "3. Find Maclaurin series for \n",
    "$$\n",
    "(a) \\quad e^x\\sin x \\qquad (b)\\quad \\tan x \n",
    "$$\n",
    "4. Find the sum of\n",
    "$$\n",
    "(a) \\quad \\sum_{n=0}^\\infty \\frac{x^{4n}}{n!}\\qquad (b)\\quad \\sum_{n=0}^\\infty (-1)^n\\frac{\\pi^{2n+1}}{4^{2n+1}(2n+1)!}\n",
    "$$\n"
   ]
  },
  {
   "cell_type": "code",
   "execution_count": 4,
   "metadata": {},
   "outputs": [
    {
     "data": {
      "image/png": "[encoded data removed]",
      "text/latex": [
       "$$x + \\frac{x^{3}}{3} + \\frac{2 x^{5}}{15} + \\frac{17 x^{7}}{315} + O\\left(x^{8}\\right)$$"
      ],
      "text/plain": [
       "     3      5       7        \n",
       "    x    2⋅x    17⋅x     ⎛ 8⎞\n",
       "x + ── + ──── + ───── + O⎝x ⎠\n",
       "    3     15     315         "
      ]
     },
     "execution_count": 4,
     "metadata": {},
     "output_type": "execute_result"
    }
   ],
   "source": [
    "from sympy import cos, pi, sin,tan, Sum, symbols, series, init_printing, limit, oo, sqrt, Integral\n",
    "init_printing()\n",
    "x =symbols('x', real=True)\n",
    "n = symbols('n', integer=True)\n",
    "series(tan(x),x,n=8,x0=0)\n",
    "#Integral(1/(1-x),(x,1,2)).doit()"
   ]
  },
  {
   "cell_type": "code",
   "execution_count": null,
   "metadata": {},
   "outputs": [],
   "source": []
  }
 ],
 "metadata": {
  "kernelspec": {
   "display_name": "Python 3",
   "language": "python",
   "name": "python3"
  },
  "language_info": {
   "codemirror_mode": {
    "name": "ipython",
    "version": 3
   },
   "file_extension": ".py",
   "mimetype": "text/x-python",
   "name": "python",
   "nbconvert_exporter": "python",
   "pygments_lexer": "ipython3",
   "version": "3.6.4"
  }
 },
 "nbformat": 4,
 "nbformat_minor": 2
}
