{
 "cells": [
  {
   "cell_type": "markdown",
   "metadata": {},
   "source": [
    "# 11.2 Series\n",
    "\n",
    "Consider the sequence $\\left\\{a_n\\right\\}_{n=1}^{\\infty}$. The expression \n",
    "$$\n",
    "a_1 + a_2 + a_3 +\\cdots \n",
    "$$\n",
    "is called an __infinite series__ (or simply __series__) and we use the notation\n",
    "\n",
    "$$\n",
    "\\sum_{n=1}^{\\infty}a_n \\qquad \\text{or} \\qquad \\sum a_n\n",
    "$$\n",
    "\n",
    "To make sense of this sum, we define a related __sequence__ called the sequence of __partial sums__ $\\left\\{s_n\\right\\}_{n=1}^{\\infty}$, as\n",
    "$$\n",
    "\\begin{array}{lll}\n",
    "s_1 & = & a_1 \\\\\n",
    "s_2 & = & a_1 + a_2 \\\\\n",
    "s_3 & = & a_1 + a_2 + a_3\\\\\n",
    "\\vdots \\\\\n",
    "s_n & = & a_1 + a_2 + \\cdots + a_n =\\sum_{i=1}^n a_i \\\\\n",
    "\\vdots\n",
    "\\end{array}\n",
    "$$\n",
    "and give the following definition\n",
    "![Definition](./imgs/sum_def.png)"
   ]
  },
  {
   "cell_type": "markdown",
   "metadata": {},
   "source": [
    "## Questions\n",
    "$$\\sum_{n=1}^{\\infty}a_n$$\n",
    "1. does this converge?\n",
    "2. if it does, what is its sum?"
   ]
  },
  {
   "cell_type": "markdown",
   "metadata": {},
   "source": [
    "## Example\n",
    "Does the following series converge? \n",
    "1. $\n",
    "\\sum_{n=1}^{\\infty}n \n",
    "$\n",
    "2. $\n",
    "\\sum_{n=1}^{\\infty} \\frac{1}{2^n} \n",
    "$\n"
   ]
  },
  {
   "cell_type": "code",
   "execution_count": 5,
   "metadata": {},
   "outputs": [
    {
     "data": {
      "image/png": "[encoded data removed]",
      "text/latex": [
       "$$\\frac{1267650600228229401496703205375}{1267650600228229401496703205376}$$"
      ],
      "text/plain": [
       "1267650600228229401496703205375\n",
       "───────────────────────────────\n",
       "1267650600228229401496703205376"
      ]
     },
     "execution_count": 5,
     "metadata": {},
     "output_type": "execute_result"
    }
   ],
   "source": [
    "from sympy import Symbol, Sum, oo, init_printing, Eq\n",
    "init_printing()\n",
    "n =Symbol(\"n\")\n",
    "s2 = Sum(1/(2**n), (n,1,100))\n",
    "s2.doit()"
   ]
  },
  {
   "cell_type": "code",
   "execution_count": 3,
   "metadata": {
    "cell_style": "split"
   },
   "outputs": [
    {
     "data": {
      "image/png": "[encoded data removed]",
      "text/latex": [
       "$$\\sum_{n=1}^{\\infty} n = \\infty$$"
      ],
      "text/plain": [
       "  ∞        \n",
       " ___       \n",
       " ╲         \n",
       "  ╲   n    \n",
       "  ╱     = ∞\n",
       " ╱         \n",
       " ‾‾‾       \n",
       "n = 1      "
      ]
     },
     "execution_count": 3,
     "metadata": {},
     "output_type": "execute_result"
    }
   ],
   "source": [
    "s1 = Sum(n, (n,1,oo))\n",
    "Eq(s1,s1.doit(), evaluate=False)"
   ]
  },
  {
   "cell_type": "code",
   "execution_count": 4,
   "metadata": {
    "cell_style": "split"
   },
   "outputs": [
    {
     "data": {
      "image/png": "[encoded data removed]",
      "text/latex": [
       "$$\\sum_{n=1}^{\\infty} 2^{- n} = 1$$"
      ],
      "text/plain": [
       "  ∞          \n",
       " ___         \n",
       " ╲           \n",
       "  ╲    -n    \n",
       "  ╱   2   = 1\n",
       " ╱           \n",
       " ‾‾‾         \n",
       "n = 1        "
      ]
     },
     "execution_count": 4,
     "metadata": {},
     "output_type": "execute_result"
    }
   ],
   "source": [
    "s2 = Sum(1/(2**n), (n,1,oo))\n",
    "Eq(s2,s2.doit(), evaluate=False)"
   ]
  },
  {
   "cell_type": "markdown",
   "metadata": {
    "solution2": "hidden",
    "solution2_first": true
   },
   "source": [
    "### Exercise \n",
    "Assume that $\\left\\{a_n\\right\\}_{n=1}^{\\infty}$ is a sequence.\n",
    "1. Find \n",
    "$$\\sum_{n=1}^{\\infty} a_n$$ \n",
    "if \n",
    "$$s_n = \\sum_{i=1}^{n} a_i = \\frac{n+2}{3n-5}$$ \n",
    "2. Can you find $a_n$?"
   ]
  },
  {
   "cell_type": "markdown",
   "metadata": {
    "solution2": "hidden"
   },
   "source": [
    "__Solution__ \n",
    "\n",
    "1. We find first \n",
    "$$\n",
    "\\lim_{n\\to \\infty}s_n =\\lim_{n\\to \\infty}\\frac{n+2}{3n - 5} = \\frac{1}{3}\n",
    "$$\n",
    "since the sequence $\\{s_n\\}$ converges to $1 \\over 3$, then the series converges and its sum is\n",
    "$$\\sum_{n=1}^{\\infty} a_n = \\frac{1}{3}$$ \n",
    "\n",
    "2. Note that \n",
    "$$ a_n = s_n - s_{n-1} = \\frac{n+2}{3n - 5} - \\frac{(n-1)+2}{3(n-1) - 5} = \n",
    "\\frac{n+2}{3n - 5}- \\frac{n+1}{3n - 8} = \\frac{(n+2)(3n-8)- (n+1)(3n - 5)}{(3n - 5)(3n-8)}\n",
    "$$\n",
    "so,\n",
    "$$\n",
    "a_n = \\frac{-11}{(3n - 5)(3n-8)}\n",
    "$$"
   ]
  },
  {
   "cell_type": "markdown",
   "metadata": {},
   "source": [
    "## Recall \n",
    "$$\n",
    "\\lim_{n\\to \\infty} r^n =\\left\\{\\begin{array}{lll}\n",
    "    0 & \\text{if} & |r|<1 (-1<r<1),\\\\\n",
    "    1 & \\text{if} & r=1 ,\\\\\n",
    "\\end{array}\\right.\n",
    "$$\n",
    "\n",
    "So $\\{r^n\\}$ converges if $r\\in (-1,1]$ and diverges otherwise"
   ]
  },
  {
   "cell_type": "markdown",
   "metadata": {},
   "source": [
    "## Geometric Series\n",
    "The series \n",
    "$$\n",
    "a + a r + a r^2 + \\cdots =\\sum_{n=1}^{\\infty}ar^{n-1}, \\qquad a\\not = 0\n",
    "$$\n",
    "is called the __geometric series__ with __common ration__ $r$\n",
    "\n",
    "It is convergent if $|r|< 1$ and its sum is \n",
    "$$\\sum_{n=1}^{\\infty}ar^{n-1} =\\frac{a}{1-r}, \\qquad |r|<1$$\n",
    "and divergent if $|r|\\geq 1$"
   ]
  },
  {
   "cell_type": "markdown",
   "metadata": {},
   "source": [
    "### Exercise\n",
    "1. Find the sum of the geomtric series \n",
    "$$\n",
    "4 - 3 + {9\\over 4} - {27 \\over 16} + \\cdots\n",
    "$$\n",
    "2. Is the series \n",
    "$$\\sum_{n=1}^{\\infty} 2^{2n}\\; 3^{1-n}$$\n",
    "convergent or divergent?\n",
    "3. Write $2.\\bar{7}$ as rational number (ratio of integers).\n",
    "4. Find the sum of the series \n",
    "$$\\sum_{n=0}^{\\infty} x^n$$\n",
    "where $|x|<1$."
   ]
  },
  {
   "cell_type": "markdown",
   "metadata": {},
   "source": [
    "### Telescoping sum\n",
    "Find the sum of the following series\n",
    "$$\\sum_{n=1}^{\\infty} \\frac{1}{n(n+1)}$$\n",
    "\n",
    "__Solution in class__\n",
    "\n",
    "---\n",
    "\n",
    "![Harmonic Series](./imgs/harmonic_q.png)\n",
    "![Harmonic Series](./imgs/harmonic_a.png)\n",
    "\n",
    "### Theorem\n",
    "If the series \n",
    "$$\\sum_{n=1}^{\\infty}a_n$$\n",
    "converges, then\n",
    "$$\n",
    "\\lim_{n\\to \\infty}a_n = 0.\n",
    "$$\n",
    "__Proof__ \n",
    "\n",
    "$$a_n = s_n - s_{n-1}$$\n",
    "\n",
    "--- \n",
    "\n",
    "### Divergence Test\n",
    "$$\\text{If }\\lim_{n\\to \\infty}a_n \\not= 0 \\quad \\text{or } \\lim_{n\\to \\infty}a_n \\text{ DNE   then the series }\n",
    "\\sum_{n=1}^{\\infty}a_n \\text{ is divergenet} $$\n",
    "\n",
    "---\n",
    "\n",
    "### Example\n",
    "The series \n",
    "$$\\sum_{n=1}^{\\infty}\\frac{n^2+1}{2n^2+5}$$\n",
    "is divergent.\n",
    "\n",
    "---\n",
    "\n",
    "![Theorem 8](./imgs/th8.png)\n",
    "\n",
    "---\n",
    "\n",
    "### Remark\n",
    "If it can be shown that  \n",
    "$$\\sum_{n=100}^{\\infty}a_n$$\n",
    "is convergent. Then \n",
    "$$\\sum_{n=1}^{\\infty}a_n$$\n",
    "is convergent."
   ]
  },
  {
   "cell_type": "code",
   "execution_count": null,
   "metadata": {},
   "outputs": [],
   "source": []
  }
 ],
 "metadata": {
  "kernelspec": {
   "display_name": "Python 3",
   "language": "python",
   "name": "python3"
  },
  "language_info": {
   "codemirror_mode": {
    "name": "ipython",
    "version": 3
   },
   "file_extension": ".py",
   "mimetype": "text/x-python",
   "name": "python",
   "nbconvert_exporter": "python",
   "pygments_lexer": "ipython3",
   "version": "3.6.4"
  }
 },
 "nbformat": 4,
 "nbformat_minor": 2
}
