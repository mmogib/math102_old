{
 "cells": [
  {
   "cell_type": "markdown",
   "metadata": {
    "slideshow": {
     "slide_type": "slide"
    }
   },
   "source": [
    "# 5.2 The Definite Integral\n",
    "\n",
    "![Definition of definite integral](./imgs/def.png)"
   ]
  },
  {
   "cell_type": "markdown",
   "metadata": {
    "slideshow": {
     "slide_type": "subslide"
    }
   },
   "source": [
    "# Sigma Notation\n",
    "\n",
    "## What do you think this notation means?\n",
    "$${\\Large \\sum_{i=1}^{5}i} $$"
   ]
  },
  {
   "cell_type": "markdown",
   "metadata": {
    "slideshow": {
     "slide_type": "fragment"
    }
   },
   "source": [
    "\n",
    "$${\\Large \\sum_{i=1}^{5}i} = 1 + 2 + 3 + 4 +5 $$"
   ]
  },
  {
   "cell_type": "code",
   "execution_count": 1,
   "metadata": {
    "slideshow": {
     "slide_type": "subslide"
    }
   },
   "outputs": [
    {
     "data": {
      "image/png": "[encoded data removed]",
      "text/latex": [
       "$$\\sum_{i=1}^{n} i = \\frac{n \\left(n + 1\\right)}{2}$$"
      ],
      "text/plain": [
       "  n                \n",
       " ___               \n",
       " ╲                 \n",
       "  ╲   i   n⋅(n + 1)\n",
       "  ╱     = ─────────\n",
       " ╱            2    \n",
       " ‾‾‾               \n",
       "i = 1              "
      ]
     },
     "execution_count": 1,
     "metadata": {},
     "output_type": "execute_result"
    }
   ],
   "source": [
    "from sympy import Symbol, symbols, Sum, init_printing, Eq, Function, factor, Integral, integrate, Limit, oo, limit, exp\n",
    "init_printing()\n",
    "I, S, S_n, x, R_n, y= symbols(\"I,S, S_n, x, R_n, y\")\n",
    "i,k, n, m= symbols(\"i,k, n, m\", positive=True, integer=True)\n",
    "m=n\n",
    "Sn=Sum(i,(i,1,m))\n",
    "ex1 = Eq(Sn, factor(Sn.doit()))\n",
    "ex1"
   ]
  },
  {
   "cell_type": "code",
   "execution_count": 2,
   "metadata": {
    "scrolled": true,
    "slideshow": {
     "slide_type": "subslide"
    }
   },
   "outputs": [
    {
     "data": {
      "image/png": "[encoded data removed]",
      "text/latex": [
       "$$\\sum_{i=1}^{5} 3 = 15.0$$"
      ],
      "text/plain": [
       "  5           \n",
       " ___          \n",
       " ╲            \n",
       "  ╲   3       \n",
       "  ╱     = 15.0\n",
       " ╱            \n",
       " ‾‾‾          \n",
       "i = 1         "
      ]
     },
     "execution_count": 2,
     "metadata": {},
     "output_type": "execute_result"
    }
   ],
   "source": [
    "# more examples 2^i, 1/k , 3, start from 3\n",
    "S=Sum(3,(i,1,5))\n",
    "ex2=Eq(S,S.evalf())\n",
    "ex2"
   ]
  },
  {
   "cell_type": "markdown",
   "metadata": {
    "slideshow": {
     "slide_type": "subslide"
    }
   },
   "source": [
    "# Three Formulae to memorize\n",
    "$${\\Large \n",
    "\\begin{array}{lcl}\n",
    "\\sum_{i=1}^{n}i&=& \\frac{n(n+1)}{2}\\\\\n",
    "\\sum_{i=1}^{n}i^2&=& \\frac{n(n+1)(2n+1)}{6}\\\\\n",
    "\\sum_{i=1}^{n}i^3&=& \\left[\\frac{n(n+1)}{2}\\right]^2\n",
    "\\end{array}}\n",
    "$$\n",
    "\n",
    "![more formuale](./imgs/more_formulae.png)"
   ]
  },
  {
   "cell_type": "markdown",
   "metadata": {
    "slideshow": {
     "slide_type": "slide"
    }
   },
   "source": [
    "# Note 1\n",
    "# True or False?\n",
    "$${\\large \\int_a^b f(x) dx = \\int_a^b f(y) dy = \\int_a^b f(\\Omega) d\\Omega }$$"
   ]
  },
  {
   "cell_type": "markdown",
   "metadata": {
    "slideshow": {
     "slide_type": "skip"
    }
   },
   "source": [
    "<div style=\"color:red;font-size:28px;font-weight:700;margin:10px 20px;text-align:center;\">TRUE</div>\n",
    "<div style=\"font-size:20px;font-weight:700;margin:10px 20px;text-align:center;padding-left:20px\">$x$ is a dummy variable.</div>\n"
   ]
  },
  {
   "cell_type": "markdown",
   "metadata": {
    "slideshow": {
     "slide_type": "slide"
    }
   },
   "source": [
    "# Note 2 \n",
    "## The sum $${\\large \\sum_{i=1}^n f(x_i^*)\\Delta x}$$ is called Reimann sum."
   ]
  },
  {
   "cell_type": "markdown",
   "metadata": {
    "slideshow": {
     "slide_type": "slide"
    }
   },
   "source": [
    "# Note 3 \n",
    "## Geometric Meaning\n",
    "\n",
    "![Geometric Meaning of Reimann Sum and Integral](./imgs/note2.png)\n",
    "\n"
   ]
  },
  {
   "cell_type": "markdown",
   "metadata": {
    "slideshow": {
     "slide_type": "slide"
    }
   },
   "source": [
    "# Note 4\n",
    "\n",
    "\n",
    "![Geometric Meaning of Reimann Sum and Integral](./imgs/note3.png)\n"
   ]
  },
  {
   "cell_type": "markdown",
   "metadata": {
    "slideshow": {
     "slide_type": "slide"
    }
   },
   "source": [
    "### Given the following graph of $f(x)$\n",
    "![Question 1](./imgs/q1.png)\n",
    "### where each of the regions $A, B$ and $C$ has area equal to 5, then \n",
    "$${\\large \\int_{-4}^{2}f(x) dx =}$$\n"
   ]
  },
  {
   "cell_type": "markdown",
   "metadata": {
    "slideshow": {
     "slide_type": "slide"
    }
   },
   "source": [
    "### Given the following graph of $f(x)$\n",
    "![Question 1](./imgs/q1.png)\n",
    "### where each of the regions $A, B$ and $C$ has area equal to 5, then the area between the graph and the x-axis from $x=-4$ to $x=2$ is\n"
   ]
  },
  {
   "cell_type": "markdown",
   "metadata": {
    "slideshow": {
     "slide_type": "slide"
    }
   },
   "source": [
    "## Class of Integrable Functions\n",
    "![Theorem 3](./imgs/theorem3.png)"
   ]
  },
  {
   "cell_type": "markdown",
   "metadata": {
    "slideshow": {
     "slide_type": "slide"
    }
   },
   "source": [
    "# Useful theorem\n",
    "![Theorem 4](./imgs/theorem4.png)"
   ]
  },
  {
   "cell_type": "markdown",
   "metadata": {
    "slideshow": {
     "slide_type": "slide"
    }
   },
   "source": [
    "# Question\n",
    "## What do we mean when we say that a function $f$ is _integrable_?\n",
    "### (A) $f$ is continuous.\n",
    "### (B) $f$ is differentiable.\n",
    "### (C) $f$ has area.\n",
    "### (D) $f$ is discotinuous.\n",
    "### (E) none of the above.\n"
   ]
  },
  {
   "cell_type": "markdown",
   "metadata": {
    "slideshow": {
     "slide_type": "slide"
    }
   },
   "source": [
    "# How to Evaluate Integrals\n"
   ]
  },
  {
   "cell_type": "markdown",
   "metadata": {
    "slideshow": {
     "slide_type": "fragment"
    }
   },
   "source": [
    "## 1. Using the definition"
   ]
  },
  {
   "cell_type": "markdown",
   "metadata": {
    "slideshow": {
     "slide_type": "slide"
    }
   },
   "source": [
    "## 2. Using a Computer Algebra System"
   ]
  },
  {
   "cell_type": "markdown",
   "metadata": {
    "slideshow": {
     "slide_type": "slide"
    }
   },
   "source": [
    "## 3. Interpreting as areas"
   ]
  },
  {
   "cell_type": "markdown",
   "metadata": {
    "slideshow": {
     "slide_type": "slide"
    }
   },
   "source": [
    "## 4. Approximating"
   ]
  },
  {
   "cell_type": "markdown",
   "metadata": {
    "slideshow": {
     "slide_type": "slide"
    }
   },
   "source": [
    "## 5. Using integration techniques (tricks)"
   ]
  },
  {
   "cell_type": "markdown",
   "metadata": {
    "slideshow": {
     "slide_type": "slide"
    }
   },
   "source": [
    "# 1. Using the definition\n",
    "## Example: Find \n",
    "$${\\large \\int_0^3(4x^3-3x^2+2x)dx}$$"
   ]
  },
  {
   "cell_type": "code",
   "execution_count": 7,
   "metadata": {},
   "outputs": [
    {
     "data": {
      "image/png": "[encoded data removed]",
      "text/latex": [
       "$$R_{n} = \\frac{9}{n^{4}} \\sum_{i=1}^{n} i \\left(36 i^{2} - 9 i n + 2 n^{2}\\right) = \\frac{9}{2 n^{2}} \\left(n + 1\\right) \\left(14 n + 15\\right)$$"
      ],
      "text/plain": [
       "         n                                                   \n",
       "        ___                                                  \n",
       "        ╲                                                    \n",
       "         ╲     ⎛    2              2⎞                        \n",
       "     9⋅  ╱   i⋅⎝36⋅i  - 9⋅i⋅n + 2⋅n ⎠                        \n",
       "        ╱                                                    \n",
       "        ‾‾‾                                                  \n",
       "       i = 1                            9⋅(n + 1)⋅(14⋅n + 15)\n",
       "Rₙ = ──────────────────────────────── = ─────────────────────\n",
       "                     4                              2        \n",
       "                    n                            2⋅n         "
      ]
     },
     "execution_count": 7,
     "metadata": {},
     "output_type": "execute_result"
    }
   ],
   "source": [
    "S=Sum((4*(3*i/n)**3-3*(3*i/n)**2+2*(3*i/n))*(3/n),(i,1,n))\n",
    "l=Limit(S,n,oo)\n",
    "example2=Eq(R_n,Eq(factor(S),factor(S.doit())),evaluate=False)\n",
    "example2"
   ]
  },
  {
   "cell_type": "code",
   "execution_count": 8,
   "metadata": {
    "scrolled": true,
    "slideshow": {
     "slide_type": "slide"
    }
   },
   "outputs": [
    {
     "data": {
      "image/png": "[encoded data removed]",
      "text/latex": [
       "$$\\int_{0}^{3} \\left(4 x^{3} - 3 x^{2} + 2 x\\right)\\, dx = \\lim_{n \\to \\infty} R_{n} = \\lim_{n \\to \\infty}\\left(\\frac{9}{n^{4}} \\sum_{i=1}^{n} i \\left(36 i^{2} - 9 i n + 2 n^{2}\\right)\\right) = \\lim_{n \\to \\infty}\\left(\\frac{9}{2 n^{2}} \\left(n + 1\\right) \\left(14 n + 15\\right)\\right) = 63.0$$"
      ],
      "text/plain": [
       "                                        ⎛    n                           ⎞    \n",
       "                                        ⎜   ___                          ⎟    \n",
       "                                        ⎜   ╲                            ⎟    \n",
       "                                        ⎜    ╲     ⎛    2              2⎞⎟    \n",
       "                                        ⎜9⋅  ╱   i⋅⎝36⋅i  - 9⋅i⋅n + 2⋅n ⎠⎟    \n",
       "3                                       ⎜   ╱                            ⎟    \n",
       "⌠                                       ⎜   ‾‾‾                          ⎟    \n",
       "⎮ ⎛   3      2      ⎞                   ⎜  i = 1                         ⎟    \n",
       "⎮ ⎝4⋅x  - 3⋅x  + 2⋅x⎠ dx = lim Rₙ = lim ⎜────────────────────────────────⎟ = l\n",
       "⌡                          n─→∞     n─→∞⎜                4               ⎟   n\n",
       "0                                       ⎝               n                ⎠    \n",
       "\n",
       "                                 \n",
       "                                 \n",
       "                                 \n",
       "                                 \n",
       "                                 \n",
       "                                 \n",
       "                                 \n",
       "   ⎛9⋅(n + 1)⋅(14⋅n + 15)⎞       \n",
       "im ⎜─────────────────────⎟ = 63.0\n",
       "─→∞⎜            2        ⎟       \n",
       "   ⎝         2⋅n         ⎠       "
      ]
     },
     "execution_count": 8,
     "metadata": {},
     "output_type": "execute_result"
    }
   ],
   "source": [
    "I=Integral(4*x**3-3*x**2+2*x,(x,0,3))\n",
    "Rnlim=Limit(R_n,n,oo)\n",
    "ll=Limit(factor(S),n,oo)\n",
    "example1=Eq(Eq(I,Eq(Rnlim,Eq(ll,Limit(factor(S.doit()),n,oo),evaluate=False),evaluate=False)),I.evalf(),evaluate=False)\n",
    "example1"
   ]
  },
  {
   "cell_type": "markdown",
   "metadata": {
    "slideshow": {
     "slide_type": "slide"
    }
   },
   "source": [
    "## 2. Using a Computer Algebra System\n",
    "## Example: \n",
    "### (i) Set up an expression for $\\int_1^3 e^x dx$ as a limit of sums. \n",
    "### (ii) Use a computer algebra system to evaluate the expression"
   ]
  },
  {
   "cell_type": "code",
   "execution_count": 10,
   "metadata": {
    "slideshow": {
     "slide_type": "slide"
    }
   },
   "outputs": [
    {
     "data": {
      "image/png": "[encoded data removed]",
      "text/latex": [
       "$$\\lim_{n \\to \\infty} R_{n} = \\lim_{n \\to \\infty} \\sum_{i=1}^{n} \\frac{2 e^{\\frac{2 i}{n} + 1}}{n} = - e + e^{3}$$"
      ],
      "text/plain": [
       "               n                       \n",
       "             _____                     \n",
       "             ╲                         \n",
       "              ╲       2⋅i              \n",
       "               ╲      ─── + 1          \n",
       "                ╲      n              3\n",
       "lim Rₙ = lim    ╱  2⋅ℯ        = -ℯ + ℯ \n",
       "n─→∞     n─→∞  ╱   ──────────          \n",
       "              ╱        n               \n",
       "             ╱                         \n",
       "             ‾‾‾‾‾                     \n",
       "             i = 1                     "
      ]
     },
     "metadata": {},
     "output_type": "display_data"
    }
   ],
   "source": [
    "a = 1\n",
    "b = 3\n",
    "Δx=(b-a)/n\n",
    "xi = a + i*Δx\n",
    "f=exp(xi)\n",
    "R = Sum(f*Δx,(i,1,n))\n",
    "Rdoit=R.doit()\n",
    "Rdoit\n",
    "Rl=Limit(Rdoit,n,oo)\n",
    "Rl\n",
    "Rn=Eq(Eq(Limit(R_n,n,oo), Limit(R,n,oo),evaluate=False), Rl.doit(),evaluate=False)\n",
    "display(Rn)\n"
   ]
  },
  {
   "cell_type": "code",
   "execution_count": 10,
   "metadata": {
    "slideshow": {
     "slide_type": "slide"
    }
   },
   "outputs": [
    {
     "data": {
      "image/png": "[encoded data removed]",
      "text/plain": [
       "<matplotlib.figure.Figure at 0x4a9c780>"
      ]
     },
     "metadata": {},
     "output_type": "display_data"
    },
    {
     "data": {
      "text/plain": [
       "<sympy.plotting.plot.Plot at 0x91301d0>"
      ]
     },
     "execution_count": 10,
     "metadata": {},
     "output_type": "execute_result"
    }
   ],
   "source": [
    "from sympy import plot_implicit, plot, sqrt\n",
    "p1 = plot_implicit(Eq(x**2 + y**2, 6))\n",
    "p1"
   ]
  },
  {
   "cell_type": "markdown",
   "metadata": {
    "slideshow": {
     "slide_type": "slide"
    }
   },
   "source": [
    "# Question\n",
    "### The area $A$ of a circle of radius $r$ is\n",
    "#### (A) $A=2\\pi r^2$\n",
    "#### (B) $A=\\pi r^2$\n",
    "#### (C) $A=2\\pi r$\n",
    "#### (D) $A=\\pi^2 r^2$\n",
    "#### (E) $A=\\pi^2 r$"
   ]
  },
  {
   "cell_type": "markdown",
   "metadata": {
    "slideshow": {
     "slide_type": "slide"
    }
   },
   "source": [
    "## 3. Interpreting as areas\n",
    "### Example: Evaluate the following integrals by interpreting each in terms of areas\n",
    "### (i) $\\int_0^3  \\sqrt{9-x^2} dx$  \n",
    "### (ii) $\\int_{-2}^1|x|dx$"
   ]
  },
  {
   "cell_type": "code",
   "execution_count": 9,
   "metadata": {
    "slideshow": {
     "slide_type": "slide"
    }
   },
   "outputs": [
    {
     "data": {
      "image/png": "[encoded data removed]",
      "text/plain": [
       "<matplotlib.figure.Figure at 0x5448160>"
      ]
     },
     "metadata": {},
     "output_type": "display_data"
    }
   ],
   "source": [
    "pi=plot(sqrt(9-x**2), (x,0,3))"
   ]
  },
  {
   "cell_type": "markdown",
   "metadata": {
    "slideshow": {
     "slide_type": "slide"
    }
   },
   "source": [
    "## 4. Approximating\n",
    "![Midpoint Rule](./imgs/midpoint_rule.png)"
   ]
  },
  {
   "cell_type": "markdown",
   "metadata": {
    "slideshow": {
     "slide_type": "slide"
    }
   },
   "source": [
    "## Use the Midpoint Rule to approximate \n",
    "$${\\large \\int_1^2\\frac{1}{x}dx}$$\n",
    "## with $n=5$.\n",
    "(SOLUTION IN CLASS)"
   ]
  },
  {
   "cell_type": "code",
   "execution_count": 11,
   "metadata": {
    "slideshow": {
     "slide_type": "slide"
    }
   },
   "outputs": [
    {
     "data": {
      "image/png": "[encoded data removed]",
      "text/latex": [
       "$$0.6919078857159353$$"
      ],
      "text/plain": [
       "0.6919078857159353"
      ]
     },
     "execution_count": 11,
     "metadata": {},
     "output_type": "execute_result"
    }
   ],
   "source": [
    "from sympy import symbols, Eq, Rational\n",
    "n = symbols('n')\n",
    "Δx=(2-1)/5\n",
    "Δx\n",
    "x0=1\n",
    "x1=1+Δx\n",
    "x2=1+2*Δx\n",
    "x3=1+3*Δx\n",
    "x4=1+4*Δx\n",
    "x5=1+5*Δx\n",
    "endpoints=(x0,x1,x2,x3,x4,x5)\n",
    "endpoints\n",
    "xbar1=(x0+x1)/2\n",
    "xbar2=(x1+x2)/2\n",
    "xbar3=(x2+x3)/2\n",
    "xbar4=(x3+x4)/2\n",
    "xbar5=(x4+x5)/2\n",
    "midpoints=(xbar1,xbar2,xbar3,xbar4,xbar5)\n",
    "midpoints\n",
    "def f(x):\n",
    "    return 1/x\n",
    "\n",
    "M5=(f(xbar1)+f(xbar2)+f(xbar3)+f(xbar4)+f(xbar5))*Δx\n",
    "M5"
   ]
  },
  {
   "cell_type": "markdown",
   "metadata": {
    "slideshow": {
     "slide_type": "slide"
    }
   },
   "source": [
    "# Properties of the Definite Integral\n",
    "##  ![Property 1](./imgs/prop1.png)"
   ]
  },
  {
   "cell_type": "markdown",
   "metadata": {
    "slideshow": {
     "slide_type": "slide"
    }
   },
   "source": [
    "##  ![Property 2](./imgs/prop2.png)"
   ]
  },
  {
   "cell_type": "markdown",
   "metadata": {
    "slideshow": {
     "slide_type": "slide"
    }
   },
   "source": [
    "##  ![Property 3](./imgs/props.png)"
   ]
  },
  {
   "cell_type": "markdown",
   "metadata": {
    "slideshow": {
     "slide_type": "slide"
    }
   },
   "source": [
    "![Propert 5](./imgs/prop5.png)"
   ]
  },
  {
   "cell_type": "markdown",
   "metadata": {
    "slideshow": {
     "slide_type": "slide"
    }
   },
   "source": [
    "![Example 7](./imgs/example7.png)"
   ]
  },
  {
   "cell_type": "markdown",
   "metadata": {
    "slideshow": {
     "slide_type": "slide"
    }
   },
   "source": [
    "![Comparison Properties](./imgs/comp_props.png)"
   ]
  },
  {
   "cell_type": "markdown",
   "metadata": {
    "slideshow": {
     "slide_type": "slide"
    }
   },
   "source": [
    "![Example 8](./imgs/example8.png)"
   ]
  },
  {
   "cell_type": "code",
   "execution_count": 3,
   "metadata": {},
   "outputs": [
    {
     "data": {
      "text/latex": [
       "$\\displaystyle 0.367879441171442$"
      ],
      "text/plain": [
       "0.367879441171442"
      ]
     },
     "execution_count": 3,
     "metadata": {},
     "output_type": "execute_result"
    }
   ],
   "source": [
    "from sympy import exp\n",
    "(1/exp(1)).n()"
   ]
  },
  {
   "cell_type": "markdown",
   "metadata": {
    "slideshow": {
     "slide_type": "slide"
    }
   },
   "source": [
    "## Exercise 1 \n",
    "#### $$\\lim_{n\\to \\infty}\\sum_{i=1}^n\\frac{1}{n}\\cos\\left(1+\\frac{i}{n}\\right)^2=$$\n",
    "\n",
    "(A) $\\int_{1}^{2}\\cos(1+x^2)dx$.\n",
    "\n",
    "(B) $\\int_{1}^{2}\\cos(x^2)dx$.\n",
    "\n",
    "(C) $\\int_{1}^{2}\\cos^2(x)dx$. \n",
    "  \n",
    "(D) $\\int_{0}^{1}\\cos(x^2)dx$.\n",
    "\n",
    "(E) $\\int_{0}^{1}\\cos(1+x^2)dx$.\n"
   ]
  },
  {
   "cell_type": "markdown",
   "metadata": {
    "slideshow": {
     "slide_type": "slide"
    }
   },
   "source": [
    "## Exercise 2 \n",
    "#### If $\\int_{-5}^7f(x)dx=-17, \\int_{-5}^{11}f(x)dx=32$, and $\\int_{8}^7f(x)dx=5$, then $\\int_{11}^8f(x)dx=$\n",
    "\n",
    "(A) $-50$.\n",
    "\n",
    "(B) $44$. \n",
    "\n",
    "(C) $-60$. \n",
    "\n",
    "(D) $19$. \n",
    "\n",
    "(E) $-54$."
   ]
  },
  {
   "cell_type": "markdown",
   "metadata": {
    "slideshow": {
     "slide_type": "slide"
    }
   },
   "source": [
    "## Exercise 3 \n",
    "#### If $f$ is continuous function and \n",
    "### $$2\\leq f(x) \\leq 5 \\quad \\text{for} \\quad 3\\leq x \\leq 9,$$\n",
    "#### then ONE of the following statements is **FALSE**\n",
    "\n",
    "<b>(A)</b>$\\int_{3}^{9}\\left|f(x)\\right|dx\\geq 12$\n",
    " \n",
    "<b>(B)</b>$\\int_{3}^{9}\\left(3-f(x)\\right)dx\\geq -12$\n",
    "\n",
    "<b>(C)</b>$\\int_{3}^{9}\\left(1-\\left|f(x)\\right|\\right)dx\\geq -10$\n",
    "\n",
    "<b>(D)</b>$\\int_{3}^{9}-2f(x)dx\\leq -24$\n",
    "\n",
    "<b>(E)</b>$\\int_{3}^{9}\\left(f(x)\\right)^2dx\\geq 24$"
   ]
  },
  {
   "cell_type": "code",
   "execution_count": null,
   "metadata": {},
   "outputs": [],
   "source": []
  }
 ],
 "metadata": {
  "celltoolbar": "Slideshow",
  "kernelspec": {
   "display_name": "Python 3",
   "language": "python",
   "name": "python3"
  },
  "language_info": {
   "codemirror_mode": {
    "name": "ipython",
    "version": 3
   },
   "file_extension": ".py",
   "mimetype": "text/x-python",
   "name": "python",
   "nbconvert_exporter": "python",
   "pygments_lexer": "ipython3",
   "version": "3.6.10"
  },
  "livereveal": {
   "start_slideshow_at": "selected"
  }
 },
 "nbformat": 4,
 "nbformat_minor": 2
}
