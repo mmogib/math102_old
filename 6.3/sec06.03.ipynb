{
 "cells": [
  {
   "cell_type": "markdown",
   "metadata": {
    "slideshow": {
     "slide_type": "slide"
    }
   },
   "source": [
    "# 6.3 Volumes By Cylindrical Shells\n",
    "\n",
    "## What is a Cylidrical Shell?\n",
    "\n",
    "![Cylindrical Shell](./imgs/cs.jpg)\n",
    "\n",
    "<div style=\"margin: auto; width: 200px;\"><h3>What is its Volume?</h3></div>"
   ]
  },
  {
   "cell_type": "markdown",
   "metadata": {
    "slideshow": {
     "slide_type": "slide"
    }
   },
   "source": [
    "# $$\\begin{array}{lll}\n",
    "V &=& V_2 – V_1 \\\\\n",
    " &=& \\pi r_2^2 h – \\pi r_1^2h = \\pi \\left(r_2^2 – r_1^2\\right)h \\\\ \n",
    "                              \t&=& \\pi (r_2 + r_1)(r_2 – r_1)h\\\\\n",
    "                              \t&=& 2 \\pi h(r_2 – r_1)\n",
    "                                \\end{array}$$\n",
    "![Formual](./imgs/formula.png)\n",
    "\n",
    "<div style=\"font-size: 16px; margin: 5px auto; width: 500px;\"><h3> V = [circumference] [height] [thickness]</h3></div>"
   ]
  },
  {
   "cell_type": "code",
   "execution_count": 1,
   "metadata": {
    "slideshow": {
     "slide_type": "slide"
    }
   },
   "outputs": [
    {
     "data": {
      "text/html": [
       "<iframe width=\"560\" height=\"315\" src=\"https://www.youtube.com/embed/JrRniVSW9tg?rel=0\" frameborder=\"0\" allow=\"autoplay; encrypted-media\" allowfullscreen></iframe>"
      ],
      "text/plain": [
       "<IPython.core.display.HTML object>"
      ]
     },
     "execution_count": 1,
     "metadata": {},
     "output_type": "execute_result"
    }
   ],
   "source": [
    "from IPython.display import HTML\n",
    "HTML('<iframe width=\"560\" height=\"315\" src=\"https://www.youtube.com/embed/JrRniVSW9tg?rel=0\" frameborder=\"0\" allow=\"autoplay; encrypted-media\" allowfullscreen></iframe>')"
   ]
  },
  {
   "cell_type": "markdown",
   "metadata": {
    "slideshow": {
     "slide_type": "slide"
    }
   },
   "source": [
    "# What is the formual to find the volume using the Cylindrical Shells Method? \n",
    "\n",
    "![Step 1](./imgs/step1.png)"
   ]
  },
  {
   "cell_type": "markdown",
   "metadata": {
    "slideshow": {
     "slide_type": "slide"
    }
   },
   "source": [
    "![Step 2](./imgs/step2.png)"
   ]
  },
  {
   "cell_type": "markdown",
   "metadata": {
    "slideshow": {
     "slide_type": "slide"
    }
   },
   "source": [
    "![Step 3](./imgs/step3.png)"
   ]
  },
  {
   "cell_type": "markdown",
   "metadata": {
    "slideshow": {
     "slide_type": "slide"
    }
   },
   "source": [
    "![Integral ](./imgs/integral_cs.png)"
   ]
  },
  {
   "cell_type": "markdown",
   "metadata": {
    "slideshow": {
     "slide_type": "slide"
    }
   },
   "source": [
    "![Example 1](./imgs/ex1.png)\n",
    "![Example 1 Graph](./imgs/ex1graph.png)\n",
    "\n",
    "__SOLUTION IN CLASS__"
   ]
  },
  {
   "cell_type": "markdown",
   "metadata": {
    "slideshow": {
     "slide_type": "slide"
    }
   },
   "source": [
    "![Example 2](./imgs/ex2.png)\n",
    "\n",
    "__SOLUTION IN CLASS__"
   ]
  },
  {
   "cell_type": "markdown",
   "metadata": {
    "slideshow": {
     "slide_type": "slide"
    }
   },
   "source": [
    "![Example 4](./imgs/ex4.png)\n",
    "\n",
    "__SOLUTION IN CLASS__"
   ]
  }
 ],
 "metadata": {
  "celltoolbar": "Slideshow",
  "kernelspec": {
   "display_name": "Python 3",
   "language": "python",
   "name": "python3"
  },
  "language_info": {
   "codemirror_mode": {
    "name": "ipython",
    "version": 3
   },
   "file_extension": ".py",
   "mimetype": "text/x-python",
   "name": "python",
   "nbconvert_exporter": "python",
   "pygments_lexer": "ipython3",
   "version": "3.6.4"
  }
 },
 "nbformat": 4,
 "nbformat_minor": 2
}
