{
 "cells": [
  {
   "cell_type": "markdown",
   "metadata": {},
   "source": [
    "# Find $$\\sum_{i=3}^{20}(i-6)$$ "
   ]
  },
  {
   "cell_type": "code",
   "execution_count": 47,
   "metadata": {},
   "outputs": [
    {
     "data": {
      "image/png": "[encoded data removed]",
      "text/latex": [
       "$$\\sum_{i=3}^{20} \\left(i - 6\\right)$$"
      ],
      "text/plain": [
       "  20         \n",
       " ___         \n",
       " ╲           \n",
       "  ╲   (i - 6)\n",
       "  ╱          \n",
       " ╱           \n",
       " ‾‾‾         \n",
       "i = 3        "
      ]
     },
     "metadata": {},
     "output_type": "display_data"
    },
    {
     "data": {
      "image/png": "[encoded data removed]",
      "text/latex": [
       "$$99$$"
      ],
      "text/plain": [
       "99"
      ]
     },
     "execution_count": 47,
     "metadata": {},
     "output_type": "execute_result"
    }
   ],
   "source": [
    "from sympy import Sum, symbols, Symbol, init_printing, factor, Integral, plot, cos, sqrt, diff, solve\n",
    "init_printing()\n",
    "i, n,x,t = symbols(\"i n x t\")\n",
    "S=Sum(i-6, (i,3,20))\n",
    "display(S)\n",
    "factor(S.doit())"
   ]
  },
  {
   "cell_type": "markdown",
   "metadata": {},
   "source": [
    "# Use areas to find the integral\n",
    "\\\\[\n",
    "\\int_{-4}^0\\left|2x+6\\right| dx\n",
    "\\\\]"
   ]
  },
  {
   "cell_type": "code",
   "execution_count": 39,
   "metadata": {},
   "outputs": [
    {
     "data": {
      "image/png": "[encoded data removed]",
      "text/latex": [
       "$$\\int_{-4}^{0} \\left|{2 x + 6}\\right|\\, dx$$"
      ],
      "text/plain": [
       "0              \n",
       "⌠              \n",
       "⎮  │2⋅x + 6│ dx\n",
       "⌡              \n",
       "-4             "
      ]
     },
     "metadata": {},
     "output_type": "display_data"
    },
    {
     "data": {
      "image/png": "[encoded data removed]",
      "text/plain": [
       "<matplotlib.figure.Figure at 0xe5d7160>"
      ]
     },
     "metadata": {},
     "output_type": "display_data"
    },
    {
     "data": {
      "image/png": "[encoded data removed]",
      "text/latex": [
       "$$10.0$$"
      ],
      "text/plain": [
       "10.000"
      ]
     },
     "execution_count": 39,
     "metadata": {},
     "output_type": "execute_result"
    }
   ],
   "source": [
    "I=Integral(abs(2*x+6),(x,-4,0))\n",
    "display(I)\n",
    "plot(abs(2*x+6),(x,-4,0))\n",
    "I.doit().evalf()"
   ]
  },
  {
   "cell_type": "markdown",
   "metadata": {},
   "source": [
    "# Consider the function $G$ defined as \n",
    "$$G(x)=\\int_x^0\\cos\\sqrt{t} \\;\\; dt $$\n",
    "# Find the intervals where this function is increasing."
   ]
  },
  {
   "cell_type": "code",
   "execution_count": 57,
   "metadata": {},
   "outputs": [
    {
     "data": {
      "image/png": "[encoded data removed]",
      "text/latex": [
       "$$\\int_{x}^{0} \\cos{\\left (\\sqrt{t} \\right )}\\, dt$$"
      ],
      "text/plain": [
       "0           \n",
       "⌠           \n",
       "⎮ cos(√t) dt\n",
       "⌡           \n",
       "x           "
      ]
     },
     "metadata": {},
     "output_type": "display_data"
    },
    {
     "data": {
      "image/png": "[encoded data removed]",
      "text/latex": [
       "$$\\left [ \\left \\{ x : \\frac{\\pi^{2}}{4}\\right \\}, \\quad \\left \\{ x : \\frac{9 \\pi^{2}}{4}\\right \\}\\right ]$$"
      ],
      "text/plain": [
       "⎡⎧    2⎫  ⎧      2⎫⎤\n",
       "⎢⎪   π ⎪  ⎪   9⋅π ⎪⎥\n",
       "⎢⎨x: ──⎬, ⎨x: ────⎬⎥\n",
       "⎢⎪   4 ⎪  ⎪    4  ⎪⎥\n",
       "⎣⎩     ⎭  ⎩       ⎭⎦"
      ]
     },
     "execution_count": 57,
     "metadata": {},
     "output_type": "execute_result"
    }
   ],
   "source": [
    "I=Integral(cos(sqrt(t)), (t,x,0))\n",
    "display(I)\n",
    "g=I\n",
    "gprime = g.diff()\n",
    "solve(-cos(sqrt(x)), dict=True)"
   ]
  },
  {
   "cell_type": "code",
   "execution_count": null,
   "metadata": {},
   "outputs": [],
   "source": []
  }
 ],
 "metadata": {
  "kernelspec": {
   "display_name": "Python 3",
   "language": "python",
   "name": "python3"
  },
  "language_info": {
   "codemirror_mode": {
    "name": "ipython",
    "version": 3
   },
   "file_extension": ".py",
   "mimetype": "text/x-python",
   "name": "python",
   "nbconvert_exporter": "python",
   "pygments_lexer": "ipython3",
   "version": "3.6.4"
  }
 },
 "nbformat": 4,
 "nbformat_minor": 2
}
