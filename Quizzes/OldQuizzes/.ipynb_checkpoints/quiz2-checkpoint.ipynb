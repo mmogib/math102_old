{
 "cells": [
  {
   "cell_type": "markdown",
   "metadata": {},
   "source": [
    "QUIZ 2 SOLUTION\n",
    "========\n",
    "\n",
    "## Problem 1:\n",
    " Evaluate $$\\int_0^1\\frac{dx}{\\left(1+\\sqrt{x}\\right)^4}$$\n",
    "\n",
    "### SOLUTION:\n",
    "Let $u=1+\\sqrt{x}$, then $du=\\frac{1}{2\\sqrt{x}}dx$. Therefore $dx=2(u-1)du$ and $u \\in [1,2]$. So we have\n",
    "$$ \n",
    "\\begin{array}{lll} \n",
    "    \\int_0^1\\frac{dx}{\\left(1+\\sqrt{x}\\right)^4} &=& \\int_1^2\\frac{2(u-1)du}{u^4} \\\\\n",
    "                                                 &=& \\int_1^2\\left(\\frac{2u}{u^4}-\\frac{2}{u^4}\\right) du \\\\\n",
    "                                                 &=& \\int_1^2\\left(2u^{-3}-2u^{-4}\\right) du \\\\\n",
    "                                                 &=& \\left[-u^{-2}+\\frac{2u^{-3}}{3}\\right]_1^2 \\\\\n",
    "                                                 &=& \\left[\\frac{-1}{u^2}+\\frac{2}{3u^{3}}\\right]_1^2 \\\\\n",
    "                                                 &=& \\left(\\frac{-1}{4}+\\frac{2}{24}\\right)-\\left(-1+\\frac{2}{3}\\right) = \\left(\\frac{-1}{4}+\\frac{1}{12}\\right)-\\left(\\frac{-1}{3}\\right)\\\\\n",
    "                                                 &=& \\left(\\frac{-1}{6}\\right)-\\left(\\frac{-1}{3}\\right)=\\frac{1}{6}\\\\\n",
    "   \\end{array}\n",
    "$$"
   ]
  },
  {
   "cell_type": "code",
   "execution_count": 5,
   "metadata": {},
   "outputs": [
    {
     "data": {
      "image/png": "[encoded data removed]",
      "text/latex": [
       "$$\\int_{0}^{1} \\frac{1}{\\left(\\sqrt{x} + 1\\right)^{4}}\\, dx = \\frac{1}{6}$$"
      ],
      "text/plain": [
       "1                   \n",
       "⌠                   \n",
       "⎮     1             \n",
       "⎮ ───────── dx = 1/6\n",
       "⎮         4         \n",
       "⎮ (√x + 1)          \n",
       "⌡                   \n",
       "0                   "
      ]
     },
     "execution_count": 5,
     "metadata": {},
     "output_type": "execute_result"
    }
   ],
   "source": [
    "from sympy import symbols, Integral,sqrt, init_printing, Eq\n",
    "init_printing()\n",
    "x =symbols('x')\n",
    "I= Integral(1/(1+sqrt(x))**4,(x,0,1))\n",
    "Pr1=Eq(I,I.doit(),evaluate=False)\n",
    "Pr1"
   ]
  },
  {
   "cell_type": "markdown",
   "metadata": {},
   "source": [
    "## Problem 2:\n",
    " If $$\\int_{0}^{4}e^{(x-2)^4} dx = k,$$ find the value of $$\\int_{0}^{4}xe^{(x-2)^4} dx$$\n",
    "\n",
    "### SOLUTION:\n",
    "\n",
    "Let $u=x-2$, then $du=dx$. Therefore $u \\in [-2,2]$. So we have\n",
    "$$ \n",
    "\\begin{array}{lll} \n",
    "    \\int_{0}^{4}xe^{(x-2)^4}dx &=& \\int_{-2}^2(u+2)e^{u^4}du \\\\\n",
    "                               &=& \\int_{-2}^2\\underbrace{u e^{u^4}}_{\\text{odd}} du +2\\int_{-2}^2 e^{u^4}du \\\\ \n",
    "                               &=& 2\\int_{-2}^2 e^{u^4}du\\\\\n",
    "                               &=& 2\\int_{0}^4 e^{(x-2)^4}dx= 2k\\\\\n",
    "   \\end{array}\n",
    "$$"
   ]
  },
  {
   "cell_type": "markdown",
   "metadata": {},
   "source": [
    "## Problem 3:\n",
    " Sketch the region enclosed by $y=x^4$ and $y=2-|x|$ and find its area.\n",
    "\n",
    "### SOLUTION:\n",
    "The graph is \n",
    "![The Graph](./qz2p3.png)\n",
    "\n",
    "### The points of intersection\n",
    "From the graph, it is clear that $x=-1,1$ are the points of intersections. So we find the area as follows\n",
    "$$\n",
    "A = \\int_{-1}^1[(2-|x|)-x^4] dx = \\int_{-1}^0[(2+x)-x^4] dx+ \\int_{0}^1[(2-x)-x^4] dx\n",
    "$$\n",
    "So,\n",
    "$$\n",
    "A = \\int_{-1}^0(2+x-x^4) dx+ \\int_{0}^1(2-x-x^4) dx= \\left[2x+\\frac{x^2}{2}-\\frac{x^5}{5}\\right]_{-1}^0+ \\left[2x-\\frac{x^2}{2}-\\frac{x^5}{5}\\right]_0^1 =\\frac{26}{10}\n",
    "$$\n"
   ]
  },
  {
   "cell_type": "code",
   "execution_count": null,
   "metadata": {},
   "outputs": [],
   "source": []
  }
 ],
 "metadata": {
  "kernelspec": {
   "display_name": "Python 3",
   "language": "python",
   "name": "python3"
  },
  "language_info": {
   "codemirror_mode": {
    "name": "ipython",
    "version": 3
   },
   "file_extension": ".py",
   "mimetype": "text/x-python",
   "name": "python",
   "nbconvert_exporter": "python",
   "pygments_lexer": "ipython3",
   "version": "3.6.4"
  }
 },
 "nbformat": 4,
 "nbformat_minor": 2
}
