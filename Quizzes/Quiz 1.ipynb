{
 "cells": [
  {
   "cell_type": "markdown",
   "metadata": {},
   "source": [
    "# Quiz 1 Solution\n",
    "\n",
    "1.  Find the limit\n",
    "    \\\\[\n",
    "    \\lim_{n\\to \\infty}\\frac{\\left(8+27+64+\\cdots + n^3\\right)}{n^4}.\n",
    "    \\\\]\n",
    "__SOLUTION__\n",
    "   \n",
    "    \\\\[\n",
    "    \\begin{array}{lll}\n",
    "    \\lim_{n\\to \\infty}\\frac{\\left(8+27+64+\\cdots + n^3\\right)}{n^4}&=& \\lim_{n\\to \\infty}\\frac{\\left[(\\boldsymbol{ 1+(-1)})+8+27+64+\\cdots + n^3\\right]}{n^4}\\\\\n",
    "    &=& \n",
    "    \\lim_{n\\to \\infty}\\frac{\\left(1+8+27+64+\\cdots + n^3\\right)}{n^4}+\\lim_{n\\to \\infty}\\frac{-1}{n^4}\\\\\n",
    "    &=&\n",
    "    \\lim_{n\\to \\infty}\\frac{\\sum_{i=1}^{n}i^3}{n^4}+\\lim_{n\\to \\infty}\\frac{-1}{n^4}\\\\\n",
    "    &=&\n",
    "    \\lim_{n\\to \\infty}\\frac{\\left[\\frac{n(n+1)}{2}\\right]^2}{n^4}+\\lim_{n\\to \\infty}\\frac{-1}{n^4}\\\\\n",
    "    &=&\n",
    "    \\frac{1}{4} + 0=\\frac{1}{4}\n",
    "    \\end{array}    \n",
    "    \\\\]\n",
    "    \n",
    "2. Let\n",
    "\\\\[\n",
    "F(x) = \\int_{0}^{x}\\frac{t-3}{t^2+3}dt\\qquad \\text{for }-\\infty<x<\\infty\n",
    "\\\\]\n",
    "Find open interval over which $F$ is increasing only.\n",
    "__SOLUTION__\n",
    "\\\\[\n",
    "F'(x)=\\frac{x-3}{x^2+3}\n",
    "\\\\]\n",
    "$F$ is increasing if $F'(x)>0$; that is if $x-3>0$. So $F$ is increasing on $(3,\\infty)$.\n",
    "    "
   ]
  }
 ],
 "metadata": {
  "kernelspec": {
   "display_name": "Python 3",
   "language": "python",
   "name": "python3"
  },
  "language_info": {
   "codemirror_mode": {
    "name": "ipython",
    "version": 3
   },
   "file_extension": ".py",
   "mimetype": "text/x-python",
   "name": "python",
   "nbconvert_exporter": "python",
   "pygments_lexer": "ipython3",
   "version": "3.6.4"
  }
 },
 "nbformat": 4,
 "nbformat_minor": 2
}
