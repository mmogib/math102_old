{
 "cells": [
  {
   "cell_type": "markdown",
   "metadata": {
    "slideshow": {
     "slide_type": "slide"
    }
   },
   "source": [
    "# 7.1 integrations By Parts\n",
    "\n",
    "---\n",
    "  $$\\int f(x)g'\\,(x) dx = f(x) g(x) - \\int g(x) f'\\,(x) dx $$\n",
    "\n",
    "\n",
    " "
   ]
  },
  {
   "cell_type": "markdown",
   "metadata": {
    "slideshow": {
     "slide_type": "fragment"
    }
   },
   "source": [
    "---\n",
    " \n",
    " Example\n",
    " $$ \\int x \\cos(x) dx $$"
   ]
  },
  {
   "cell_type": "markdown",
   "metadata": {
    "slideshow": {
     "slide_type": "fragment"
    }
   },
   "source": [
    "$$\\int x \\cos(x) dx = \\int \\underbrace{x}_{f(x)} \\overbrace{\\cos(x)}^{g'(x)} dx = x \\sin(x) - \\int \\sin(x) \\overbrace{ \\;\\;\\;\\;dx}^{f'\\,(x) dx} = x\\sin(x) + \\cos(x) +C  $$"
   ]
  },
  {
   "cell_type": "markdown",
   "metadata": {
    "slideshow": {
     "slide_type": "slide"
    }
   },
   "source": [
    "  $$\\int f(x)g'\\,(x) dx = f(x) g(x) - \\int g(x) f'\\,(x) dx $$\n",
    "  \n",
    "  $$ \\begin{array}{lll}\n",
    "  u=f(x), & \\qquad & dv=g'(x) dx \\\\\n",
    "      &\\searrow&\\\\\n",
    "  du = f'(x)dx & \\underset{-}{\\longleftarrow} & v = g(x) \n",
    "  \\end{array}$$\n",
    "  \n",
    "  $$\\int u dv = uv - \\int v du $$\n",
    "  "
   ]
  },
  {
   "cell_type": "markdown",
   "metadata": {
    "slideshow": {
     "slide_type": "slide"
    }
   },
   "source": [
    "  $$\\int_a^b u dv = \\left[uv\\right]_a^b - \\int_a^b v du $$"
   ]
  },
  {
   "cell_type": "markdown",
   "metadata": {
    "slideshow": {
     "slide_type": "slide"
    }
   },
   "source": [
    "## Examples\n",
    "__SOLUTION IN CLASS__\n",
    "\n",
    "1. $\\int \\ln x dx$\n",
    "2. $\\int t^2 e^t dt $\n",
    "3. $\\int e^x \\sin(x) dx $\n",
    "4. $\\int_0^1 \\tan^{-1}x dx$\n",
    "5. $\\int x^3 \\sin{\\left(x\\over 6\\right)} dt $\n"
   ]
  }
 ],
 "metadata": {
  "celltoolbar": "Slideshow",
  "kernelspec": {
   "display_name": "Python 3",
   "language": "python",
   "name": "python3"
  },
  "language_info": {
   "codemirror_mode": {
    "name": "ipython",
    "version": 3
   },
   "file_extension": ".py",
   "mimetype": "text/x-python",
   "name": "python",
   "nbconvert_exporter": "python",
   "pygments_lexer": "ipython3",
   "version": "3.6.4"
  }
 },
 "nbformat": 4,
 "nbformat_minor": 2
}
