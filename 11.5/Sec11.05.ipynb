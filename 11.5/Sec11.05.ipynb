{
 "cells": [
  {
   "cell_type": "markdown",
   "metadata": {},
   "source": [
    "# 11.5 Alternating Series\n",
    "![Alternating Series Test](./imgs/ast.png)\n",
    "\n",
    "---\n",
    "\n",
    "![Sketch of Proof](./imgs/proof.png)"
   ]
  },
  {
   "cell_type": "markdown",
   "metadata": {},
   "source": [
    "# Example\n",
    "Test for convegrnce \n",
    "$$\n",
    "(1) \\quad \\sum_{n=1}^\\infty \\frac{(-1)^{n-1}}{n}$$\n",
    "$$\n",
    "(2) \\quad \\sum_{n=1}^\\infty (-1)^{n}\\frac{3n}{4n-1}$$\n",
    "$$\n",
    "(3) \\quad \\sum_{n=1}^\\infty (-1)^{n+1}\\frac{n^2}{n^3+1}$$\n"
   ]
  },
  {
   "cell_type": "markdown",
   "metadata": {},
   "source": [
    "----"
   ]
  },
  {
   "cell_type": "markdown",
   "metadata": {},
   "source": [
    "# Estimating Sums\n",
    "![Estimating Sum](./imgs/estimation.png)"
   ]
  },
  {
   "cell_type": "markdown",
   "metadata": {},
   "source": [
    "# Example\n",
    "Find the sum of the series \n",
    "$$\n",
    "(4) \\quad \\sum_{n=1}^\\infty \\frac{(-1)^{n-1}}{n!}\n",
    "$$\n",
    "correct to three decimal places.\n"
   ]
  },
  {
   "cell_type": "code",
   "execution_count": 28,
   "metadata": {},
   "outputs": [
    {
     "data": {
      "image/png": "[encoded data removed]",
      "text/latex": [
       "$$\\left ( -0.631944444444444, \\quad -0.632120558828558\\right )$$"
      ],
      "text/plain": [
       "(-0.631944444444444, -0.632120558828558)"
      ]
     },
     "execution_count": 28,
     "metadata": {},
     "output_type": "execute_result"
    }
   ],
   "source": [
    "from sympy import Sum, symbols, init_printing, Eq, factorial, oo\n",
    "init_printing()\n",
    "n,i=symbols(\"n, i\")\n",
    "s4=Sum((-1)**(i)/factorial(i), (i,1,oo)).n()\n",
    "def S(n):\n",
    "    return Sum((-1)**(i)/factorial(i), (i,1,n)).n()\n",
    "def b(n):\n",
    "    return (1/factorial(n)).n()\n",
    "def displayData(n):\n",
    "    print(\"Who lives in a Pineapple under the sea? {n}.\".format(**locals()))\n",
    "S(6), s4"
   ]
  },
  {
   "cell_type": "code",
   "execution_count": null,
   "metadata": {},
   "outputs": [],
   "source": []
  }
 ],
 "metadata": {
  "kernelspec": {
   "display_name": "Python 3",
   "language": "python",
   "name": "python3"
  },
  "language_info": {
   "codemirror_mode": {
    "name": "ipython",
    "version": 3
   },
   "file_extension": ".py",
   "mimetype": "text/x-python",
   "name": "python",
   "nbconvert_exporter": "python",
   "pygments_lexer": "ipython3",
   "version": "3.6.4"
  }
 },
 "nbformat": 4,
 "nbformat_minor": 2
}
