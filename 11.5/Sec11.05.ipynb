{
 "cells": [
  {
   "cell_type": "markdown",
   "metadata": {},
   "source": [
    "# 11.5 Alternating Series\n",
    "![Alternating Series Test](./imgs/ast.png)\n",
    "\n",
    "---\n",
    "\n",
    "![Sketch of Proof](./imgs/proof.png)"
   ]
  },
  {
   "cell_type": "markdown",
   "metadata": {},
   "source": [
    "# Example\n",
    "Test for convegrnce \n",
    "$$\n",
    "(1) \\quad \\sum_{n=1}^\\infty \\frac{(-1)^{n-1}}{n}$$\n",
    "$$\n",
    "(2) \\quad \\sum_{n=1}^\\infty (-1)^{n}\\frac{3n}{4n-1}$$\n",
    "$$\n",
    "(3) \\quad \\sum_{n=1}^\\infty (-1)^{n+1}\\frac{n^2}{n^3+1}$$\n"
   ]
  },
  {
   "cell_type": "markdown",
   "metadata": {},
   "source": [
    "----"
   ]
  },
  {
   "cell_type": "markdown",
   "metadata": {},
   "source": [
    "# Estimating Sums\n",
    "![Estimating Sum](./imgs/estimation.png)"
   ]
  },
  {
   "cell_type": "markdown",
   "metadata": {},
   "source": [
    "# Example\n",
    "Find the sum of the series \n",
    "$$\n",
    "(4) \\quad \\sum_{n=1}^\\infty \\frac{(-1)^{n-1}}{n!}\n",
    "$$\n",
    "correct to three decimal places.\n"
   ]
  },
  {
   "cell_type": "code",
   "execution_count": 16,
   "metadata": {},
   "outputs": [
    {
     "data": {
      "image/png": "[encoded data removed]",
      "text/latex": [
       "$$\\left ( -0.631944444444444, \\quad -0.632120558828558\\right )$$"
      ],
      "text/plain": [
       "(-0.631944444444444, -0.632120558828558)"
      ]
     },
     "execution_count": 16,
     "metadata": {},
     "output_type": "execute_result"
    }
   ],
   "source": [
    "from sympy import Sum, symbols, init_printing, Eq, factorial, oo, Abs\n",
    "init_printing()\n",
    "n,i=symbols(\"n, i\")\n",
    "s4=Sum((-1)**(i)/factorial(i), (i,1,oo)).n()\n",
    "def S(n):\n",
    "    return Sum((-1)**(i)/factorial(i), (i,1,n)).n()\n",
    "def b(n):\n",
    "    return (1/factorial(n)).n()\n",
    "def displayData(n):\n",
    "    print(\"Who lives in a Pineapple under the sea? {n}.\".format(**locals()))\n",
    "S(6), s4"
   ]
  },
  {
   "cell_type": "markdown",
   "metadata": {},
   "source": [
    "How many terms of the series \n",
    "$$\n",
    "\\sum_{n=1}^{\\infty}{\\frac{(-1)^{n+1}}{{n^6}}}\n",
    "$$\n",
    "do we need to add in order to find the sum accurate with $|error|< 0.0000005$?"
   ]
  },
  {
   "cell_type": "code",
   "execution_count": 17,
   "metadata": {},
   "outputs": [
    {
     "data": {
      "image/png": "[encoded data removed]",
      "text/latex": [
       "$$\\sum_{n=1}^{\\infty} \\frac{1}{n^{6}} \\left(-1\\right)^{n + 1}$$"
      ],
      "text/plain": [
       "  ∞            \n",
       "_____          \n",
       "╲              \n",
       " ╲        n + 1\n",
       "  ╲   (-1)     \n",
       "   ╲  ─────────\n",
       "   ╱       6   \n",
       "  ╱       n    \n",
       " ╱             \n",
       "╱              \n",
       "‾‾‾‾‾          \n",
       "n = 1          "
      ]
     },
     "execution_count": 17,
     "metadata": {},
     "output_type": "execute_result"
    }
   ],
   "source": [
    "s5=Sum((-1)**(n+1)/n**6, (n,1,oo))\n",
    "s5"
   ]
  },
  {
   "cell_type": "code",
   "execution_count": 19,
   "metadata": {},
   "outputs": [
    {
     "data": {
      "image/png": "[encoded data removed]",
      "text/latex": [
       "$$0.985551091297435$$"
      ],
      "text/plain": [
       "0.985551091297435"
      ]
     },
     "execution_count": 19,
     "metadata": {},
     "output_type": "execute_result"
    }
   ],
   "source": [
    "s=s5.n()\n",
    "s"
   ]
  },
  {
   "cell_type": "code",
   "execution_count": 21,
   "metadata": {},
   "outputs": [],
   "source": [
    "def S2(n):\n",
    "    return Sum((-1)**(i+1)/i**6, (i,1,n)).n()"
   ]
  },
  {
   "cell_type": "code",
   "execution_count": 26,
   "metadata": {},
   "outputs": [
    {
     "data": {
      "image/png": "[encoded data removed]",
      "text/latex": [
       "$$\\left ( 0.985551091297435, \\quad 0.985550734855885, \\quad 3.5644154994241 \\cdot 10^{-7}\\right )$$"
      ],
      "text/plain": [
       "(0.985551091297435, 0.985550734855885, 3.5644154994241e-7)"
      ]
     },
     "execution_count": 26,
     "metadata": {},
     "output_type": "execute_result"
    }
   ],
   "source": [
    "(s,S2(10), Abs(s-S2(10)))\n"
   ]
  },
  {
   "cell_type": "code",
   "execution_count": null,
   "metadata": {},
   "outputs": [],
   "source": []
  }
 ],
 "metadata": {
  "kernelspec": {
   "display_name": "Python 3",
   "language": "python",
   "name": "python3"
  },
  "language_info": {
   "codemirror_mode": {
    "name": "ipython",
    "version": 3
   },
   "file_extension": ".py",
   "mimetype": "text/x-python",
   "name": "python",
   "nbconvert_exporter": "python",
   "pygments_lexer": "ipython3",
   "version": "3.6.4"
  }
 },
 "nbformat": 4,
 "nbformat_minor": 2
}
