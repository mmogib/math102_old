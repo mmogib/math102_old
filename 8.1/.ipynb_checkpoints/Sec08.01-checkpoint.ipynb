{
 "cells": [
  {
   "cell_type": "markdown",
   "metadata": {
    "slideshow": {
     "slide_type": "slide"
    }
   },
   "source": [
    "# 8.1 Arc-Length\n"
   ]
  },
  {
   "cell_type": "markdown",
   "metadata": {
    "slideshow": {
     "slide_type": "slide"
    }
   },
   "source": [
    "![Arc](./imgs/arclen.png)"
   ]
  },
  {
   "cell_type": "markdown",
   "metadata": {
    "slideshow": {
     "slide_type": "slide"
    }
   },
   "source": [
    "![Arc](./imgs/arclen_form.png)\n",
    "### How did we reach this formula??? (Discuss in class)"
   ]
  },
  {
   "cell_type": "markdown",
   "metadata": {
    "slideshow": {
     "slide_type": "slide"
    }
   },
   "source": [
    "##  $$ L = \\int_a^b \\sqrt{1+\\left(\\frac{dy}{dx}\\right)^2} dx$$"
   ]
  },
  {
   "cell_type": "markdown",
   "metadata": {
    "slideshow": {
     "slide_type": "slide"
    }
   },
   "source": [
    "## Example 1\n",
    "---\n",
    "Find the length of the arc of the semicubical parabola $y^2=x^3$ between the\n",
    "points $(1,1)$ and $(4,8)$. "
   ]
  },
  {
   "cell_type": "code",
   "execution_count": 67,
   "metadata": {
    "slideshow": {
     "slide_type": "slide"
    }
   },
   "outputs": [
    {
     "data": {
      "image/png": "[encoded data removed]",
      "text/plain": [
       "<matplotlib.figure.Figure at 0xfbb7278>"
      ]
     },
     "metadata": {},
     "output_type": "display_data"
    },
    {
     "data": {
      "text/plain": [
       "'derivative'"
      ]
     },
     "metadata": {},
     "output_type": "display_data"
    },
    {
     "data": {
      "image/png": "[encoded data removed]",
      "text/latex": [
       "$$1.5 x^{0.5}$$"
      ],
      "text/plain": [
       "     0.5\n",
       "1.5⋅x   "
      ]
     },
     "metadata": {},
     "output_type": "display_data"
    },
    {
     "data": {
      "text/plain": [
       "'length'"
      ]
     },
     "metadata": {},
     "output_type": "display_data"
    },
    {
     "data": {
      "image/png": "[encoded data removed]",
      "text/latex": [
       "$$\\int_{1}^{4} \\sqrt{2.25 x^{1.0} + 1}\\, dx = 7.63370541601624$$"
      ],
      "text/plain": [
       "4                                         \n",
       "⌠                                         \n",
       "⎮    _______________                      \n",
       "⎮   ╱       1.0                           \n",
       "⎮ ╲╱  2.25⋅x    + 1  dx = 7.63370541601624\n",
       "⌡                                         \n",
       "1                                         "
      ]
     },
     "metadata": {},
     "output_type": "display_data"
    }
   ],
   "source": [
    "import sympy as sp\n",
    "sp.init_printing()\n",
    "x = sp.Symbol(\"x\", real=True)\n",
    "y = sp.Symbol(\"y\", real=True)\n",
    "f= sp.Function('f')\n",
    "f= x**(3/2)\n",
    "df = sp.diff(f,x)\n",
    "disp = {\"derivative\": df}\n",
    "L1 = sp.Integral(sp.sqrt(1 + (df)**2), (x,1,4))\n",
    "disp['length']=sp.Eq(L1,L1.doit(), evaluate=False)\n",
    "sp.plot_implicit(sp.Eq(y**2,x**3), (x,0,5))\n",
    "for d in disp:\n",
    "    display(d,disp[d])\n",
    "\n"
   ]
  },
  {
   "cell_type": "markdown",
   "metadata": {
    "slideshow": {
     "slide_type": "slide"
    }
   },
   "source": [
    "## if $x=g(y)$, $c\\leq y\\leq d$ and $g'(y)$ is continuous, then we have \n",
    "## $$ L = \\int_c^d \\sqrt{1+\\left[g'(y)\\right]^2} dy=\\int_c^d \\sqrt{1+\\left(\\frac{dx}{dy}\\right)^2} dy$$"
   ]
  },
  {
   "cell_type": "markdown",
   "metadata": {
    "slideshow": {
     "slide_type": "slide"
    }
   },
   "source": [
    "## Example 2\n",
    "---\n",
    "Find the length of the arc of the parabola $y^2=x$ between the\n",
    "points $(0,0)$ and $(1,1)$. "
   ]
  },
  {
   "cell_type": "code",
   "execution_count": 70,
   "metadata": {
    "slideshow": {
     "slide_type": "slide"
    }
   },
   "outputs": [
    {
     "data": {
      "image/png": "[encoded data removed]",
      "text/plain": [
       "<matplotlib.figure.Figure at 0x1007bb70>"
      ]
     },
     "metadata": {},
     "output_type": "display_data"
    },
    {
     "data": {
      "text/plain": [
       "'derivative'"
      ]
     },
     "metadata": {},
     "output_type": "display_data"
    },
    {
     "data": {
      "image/png": "[encoded data removed]",
      "text/latex": [
       "$$2 y$$"
      ],
      "text/plain": [
       "2⋅y"
      ]
     },
     "metadata": {},
     "output_type": "display_data"
    },
    {
     "data": {
      "text/plain": [
       "'length'"
      ]
     },
     "metadata": {},
     "output_type": "display_data"
    },
    {
     "data": {
      "image/png": "[encoded data removed]",
      "text/latex": [
       "$$\\int_{0}^{1} \\sqrt{4 y^{2} + 1}\\, dy = \\frac{1}{4} \\operatorname{asinh}{\\left (2 \\right )} + \\frac{\\sqrt{5}}{2}$$"
      ],
      "text/plain": [
       "1                                 \n",
       "⌠                                 \n",
       "⎮    __________                   \n",
       "⎮   ╱    2           asinh(2)   √5\n",
       "⎮ ╲╱  4⋅y  + 1  dy = ──────── + ──\n",
       "⌡                       4       2 \n",
       "0                                 "
      ]
     },
     "metadata": {},
     "output_type": "display_data"
    }
   ],
   "source": [
    "g2= sp.Function('g2')\n",
    "g2= y**2\n",
    "dg2 = sp.diff(g2,y)\n",
    "disp = {\"derivative\": dg2}\n",
    "L2 = sp.Integral(sp.sqrt(1 + (dg2)**2), (y,0,1))\n",
    "disp['length']=sp.Eq(L2,sp.simplify(L2.doit()), evaluate=False)\n",
    "sp.plot_implicit(sp.Eq(y**2,x), (x,0,5))\n",
    "for d in disp:\n",
    "    display(d,disp[d])"
   ]
  },
  {
   "cell_type": "markdown",
   "metadata": {
    "slideshow": {
     "slide_type": "slide"
    }
   },
   "source": [
    "## Example 3\n",
    "---\n",
    "Set up an integral for the length of the arc of the hyperbola $xy=1$ from the\n",
    "point $(1,1)$ to the point $(2,{1 \\over 2})$ "
   ]
  },
  {
   "cell_type": "code",
   "execution_count": 61,
   "metadata": {
    "slideshow": {
     "slide_type": "slide"
    }
   },
   "outputs": [
    {
     "data": {
      "image/png": "[encoded data removed]",
      "text/plain": [
       "<matplotlib.figure.Figure at 0xf751940>"
      ]
     },
     "metadata": {},
     "output_type": "display_data"
    },
    {
     "data": {
      "text/plain": [
       "<sympy.plotting.plot.Plot at 0xf7220f0>"
      ]
     },
     "execution_count": 61,
     "metadata": {},
     "output_type": "execute_result"
    }
   ],
   "source": [
    "sp.plot_implicit(sp.Eq(x*y,1))"
   ]
  },
  {
   "cell_type": "code",
   "execution_count": 68,
   "metadata": {},
   "outputs": [
    {
     "data": {
      "text/plain": [
       "'derivative'"
      ]
     },
     "metadata": {},
     "output_type": "display_data"
    },
    {
     "data": {
      "image/png": "[encoded data removed]",
      "text/latex": [
       "$$- \\frac{1}{x^{2}}$$"
      ],
      "text/plain": [
       "-1 \n",
       "───\n",
       "  2\n",
       " x "
      ]
     },
     "metadata": {},
     "output_type": "display_data"
    },
    {
     "data": {
      "text/plain": [
       "'length'"
      ]
     },
     "metadata": {},
     "output_type": "display_data"
    },
    {
     "data": {
      "image/png": "[encoded data removed]",
      "text/latex": [
       "$$\\int_{1}^{2} \\sqrt{1 + \\frac{1}{x^{4}}}\\, dx = 1.13209039330592$$"
      ],
      "text/plain": [
       "2                                    \n",
       "⌠                                    \n",
       "⎮      ________                      \n",
       "⎮     ╱     1                        \n",
       "⎮    ╱  1 + ──  dx = 1.13209039330592\n",
       "⎮   ╱        4                       \n",
       "⎮ ╲╱        x                        \n",
       "⌡                                    \n",
       "1                                    "
      ]
     },
     "metadata": {},
     "output_type": "display_data"
    }
   ],
   "source": [
    "f3 = sp.Function('f3')\n",
    "f3= 1/x\n",
    "df3=sp.diff(f3,x)\n",
    "disp3 = {\"derivative\": df3}\n",
    "L3 = sp.Integral(sp.sqrt(1 + (df3)**2), (x,1,2))\n",
    "disp3['length']=sp.Eq(L3,L3.evalf(), evaluate=False)\n",
    "for d in disp3:\n",
    "    display(d,disp3[d])\n"
   ]
  },
  {
   "cell_type": "markdown",
   "metadata": {
    "slideshow": {
     "slide_type": "slide"
    }
   },
   "source": [
    "## The Arc Length Function\n",
    "---\n",
    "\n",
    "### $$ s(x) = \\int_a^x\\sqrt{1+\\left[f'(t)\\right]} dt$$\n",
    "### $$ ds = \\sqrt{1+\\left(\\frac{dy}{dx}\\right)^2} dx$$\n"
   ]
  },
  {
   "cell_type": "markdown",
   "metadata": {
    "slideshow": {
     "slide_type": "slide"
    }
   },
   "source": [
    "## Example 4\n",
    "---\n",
    "Find the arc length function for the curve $y=x^2-{1 \\over 8}\\ln x$ taking $P_0(1,1)$ as the starting point."
   ]
  },
  {
   "cell_type": "code",
   "execution_count": 100,
   "metadata": {},
   "outputs": [
    {
     "data": {
      "text/plain": [
       "'derivative'"
      ]
     },
     "metadata": {},
     "output_type": "display_data"
    },
    {
     "data": {
      "image/png": "[encoded data removed]",
      "text/latex": [
       "$$2 t - \\frac{0.125}{t}$$"
      ],
      "text/plain": [
       "      0.125\n",
       "2⋅t - ─────\n",
       "        t  "
      ]
     },
     "metadata": {},
     "output_type": "display_data"
    },
    {
     "data": {
      "text/plain": [
       "'arc length function'"
      ]
     },
     "metadata": {},
     "output_type": "display_data"
    },
    {
     "data": {
      "image/png": "[encoded data removed]",
      "text/latex": [
       "$$S{\\left (x \\right )} = \\int_{1}^{x} \\sqrt{\\left(2 t - \\frac{0.125}{t}\\right)^{2} + 1}\\, dt$$"
      ],
      "text/plain": [
       "       x                             \n",
       "       ⌠                             \n",
       "       ⎮      ____________________   \n",
       "       ⎮     ╱              2        \n",
       "       ⎮    ╱  ⎛      0.125⎞         \n",
       "S(x) = ⎮   ╱   ⎜2⋅t - ─────⎟  + 1  dt\n",
       "       ⎮ ╲╱    ⎝        t  ⎠         \n",
       "       ⌡                             \n",
       "       1                             "
      ]
     },
     "metadata": {},
     "output_type": "display_data"
    },
    {
     "data": {
      "text/plain": [
       "'length'"
      ]
     },
     "metadata": {},
     "output_type": "display_data"
    },
    {
     "data": {
      "image/png": "[encoded data removed]",
      "text/latex": [
       "$$\\int_{1}^{3} \\sqrt{\\left(2 t - \\frac{0.125}{t}\\right)^{2} + 1}\\, dt = 8.13732653608351$$"
      ],
      "text/plain": [
       "3                                                \n",
       "⌠                                                \n",
       "⎮      ____________________                      \n",
       "⎮     ╱              2                           \n",
       "⎮    ╱  ⎛      0.125⎞                            \n",
       "⎮   ╱   ⎜2⋅t - ─────⎟  + 1  dt = 8.13732653608351\n",
       "⎮ ╲╱    ⎝        t  ⎠                            \n",
       "⌡                                                \n",
       "1                                                "
      ]
     },
     "metadata": {},
     "output_type": "display_data"
    }
   ],
   "source": [
    "s= sp.Function('s')\n",
    "t=sp.Symbol('t')\n",
    "S=sp.Symbol('S')\n",
    "f4 = sp.Function('f4')\n",
    "f4= t**2-(1/8)*sp.log(t)\n",
    "df4=sp.diff(f4,t)\n",
    "L4 = sp.Integral(sp.sqrt(1 + (df4)**2), (t,1,x))\n",
    "s=L4\n",
    "Eq1=sp.Eq(S(x),s)\n",
    "disp4={\"derivative\": df4, 'arc length function': Eq1}\n",
    "disp4['length']=sp.Eq(L4.subs(x,3),L4.subs(x,3).evalf(), evaluate=False)\n",
    "for d in disp4:\n",
    "    display(d,disp4[d])\n"
   ]
  },
  {
   "cell_type": "code",
   "execution_count": null,
   "metadata": {},
   "outputs": [],
   "source": []
  }
 ],
 "metadata": {
  "celltoolbar": "Slideshow",
  "kernelspec": {
   "display_name": "Python 3",
   "language": "python",
   "name": "python3"
  },
  "language_info": {
   "codemirror_mode": {
    "name": "ipython",
    "version": 3
   },
   "file_extension": ".py",
   "mimetype": "text/x-python",
   "name": "python",
   "nbconvert_exporter": "python",
   "pygments_lexer": "ipython3",
   "version": "3.6.4"
  }
 },
 "nbformat": 4,
 "nbformat_minor": 2
}
