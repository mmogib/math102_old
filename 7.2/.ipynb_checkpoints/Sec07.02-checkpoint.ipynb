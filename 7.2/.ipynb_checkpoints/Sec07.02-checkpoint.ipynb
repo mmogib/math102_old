{
 "cells": [
  {
   "cell_type": "markdown",
   "metadata": {
    "slideshow": {
     "slide_type": "slide"
    }
   },
   "source": [
    "# 7.2 Trigonometric Integrals\n"
   ]
  },
  {
   "cell_type": "markdown",
   "metadata": {
    "slideshow": {
     "slide_type": "slide"
    }
   },
   "source": [
    "__Type 1__: $\\int \\sin^mx \\cos^n x dx$\n",
    "\n",
    "* $m$ is odd,\n",
    "\n",
    " write as $\\int \\sin^{m-1}x \\cos^n x \\sin x  dx$. \n",
    " \n",
    " __Example__ $\\int \\sin^5x \\cos^2 x dx$\n"
   ]
  },
  {
   "cell_type": "markdown",
   "metadata": {
    "slideshow": {
     "slide_type": "slide"
    }
   },
   "source": [
    "__Type 1__: $\\int \\sin^mx \\cos^n x dx$\n",
    "\n",
    "* $n$ is odd, \n",
    "\n",
    " write as $\\int \\sin^mx \\cos^{n-1}\\cos x  dx$. \n",
    " \n",
    " __Example__ $\\int \\sin^5x \\cos^3 x dx$\n"
   ]
  },
  {
   "cell_type": "markdown",
   "metadata": {
    "slideshow": {
     "slide_type": "slide"
    }
   },
   "source": [
    "__Type 1__: $\\int \\sin^mx \\cos^n x dx$\n",
    "\n",
    "* $m$ and $n$ are even, \n",
    "\n",
    " use formulae $\\sin^2(x)=\\frac{1-\\cos(2x)}{2}$, $\\cos^2(x)=\\frac{1+\\cos(2x)}{2}$. \n",
    " \n",
    "  __Example__ $\\int \\cos^2 x dx$ and  $\\int \\sin^4 x dx$"
   ]
  },
  {
   "cell_type": "markdown",
   "metadata": {
    "slideshow": {
     "slide_type": "slide"
    }
   },
   "source": [
    "__Type 2__: $\\int \\tan^mx \\sec^n x dx$\n",
    "\n",
    "* $n$ is even, \n",
    "\n",
    " write as $\\int \\tan^mx \\sec^{n-2}\\sec^2 x  dx$. \n",
    " \n",
    " __Example__ $\\int \\tan^6x \\sec^4 x dx$"
   ]
  },
  {
   "cell_type": "markdown",
   "metadata": {
    "slideshow": {
     "slide_type": "slide"
    }
   },
   "source": [
    "__Type 2__: $\\int \\tan^mx \\sec^n x dx$\n",
    "\n",
    "* $m$ is odd, \n",
    "\n",
    " write as $\\int \\tan^mx \\sec^{n-2}\\sec^2 x  dx$. \n",
    " \n",
    " __Example__ $\\int \\tan^5x \\sec^7 x dx$"
   ]
  },
  {
   "cell_type": "markdown",
   "metadata": {
    "slideshow": {
     "slide_type": "slide"
    }
   },
   "source": [
    "More Examples\n",
    "* $\\int \\tan^3 x dx$\n",
    "* $\\int \\sec^3 x dx$"
   ]
  },
  {
   "cell_type": "markdown",
   "metadata": {
    "slideshow": {
     "slide_type": "slide"
    }
   },
   "source": [
    "__Case 3__: $\\int \\sin mx \\cos n x dx, \\int \\sin mx \\sin n x dx, \\int \\cos mx \\cos n x dx$\n",
    "\n",
    "USE\n",
    "![Product Idenitities](./imgs/product.png)"
   ]
  },
  {
   "cell_type": "markdown",
   "metadata": {
    "slideshow": {
     "slide_type": "slide"
    }
   },
   "source": [
    "Example\n",
    "$\\int \\sin(4x)\\cos(5x) dx$"
   ]
  }
 ],
 "metadata": {
  "celltoolbar": "Slideshow",
  "kernelspec": {
   "display_name": "Python 3",
   "language": "python",
   "name": "python3"
  },
  "language_info": {
   "codemirror_mode": {
    "name": "ipython",
    "version": 3
   },
   "file_extension": ".py",
   "mimetype": "text/x-python",
   "name": "python",
   "nbconvert_exporter": "python",
   "pygments_lexer": "ipython3",
   "version": "3.6.4"
  }
 },
 "nbformat": 4,
 "nbformat_minor": 2
}
