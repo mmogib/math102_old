{
 "cells": [
  {
   "cell_type": "markdown",
   "metadata": {
    "slideshow": {
     "slide_type": "slide"
    }
   },
   "source": [
    "#  5.1 Areas and Distances"
   ]
  },
  {
   "cell_type": "markdown",
   "metadata": {
    "slideshow": {
     "slide_type": "fragment"
    }
   },
   "source": [
    "### Problem\n",
    "#### Find the area of the regoin $S$. "
   ]
  },
  {
   "cell_type": "markdown",
   "metadata": {
    "slideshow": {
     "slide_type": "fragment"
    }
   },
   "source": [
    "![example 1](./imgs/ex1-0.png)"
   ]
  },
  {
   "cell_type": "markdown",
   "metadata": {
    "slideshow": {
     "slide_type": "slide"
    }
   },
   "source": [
    "![example 1 Step 1](./imgs/ex1-1.png)"
   ]
  },
  {
   "cell_type": "markdown",
   "metadata": {
    "slideshow": {
     "slide_type": "slide"
    }
   },
   "source": [
    "![example 1 Step 1](./imgs/ex1-2.png)"
   ]
  },
  {
   "cell_type": "markdown",
   "metadata": {
    "slideshow": {
     "slide_type": "fragment"
    }
   },
   "source": [
    "$$R_4=\\frac{1}{4}\\cdot \\left(\\frac{1}{4}\\right)^2+\\frac{1}{4}\\cdot \\left(\\frac{1}{2}\\right)^2+\\frac{1}{4}\\cdot \\left(\\frac{3}{4}\\right)^2+\\frac{1}{4}\\cdot \\left(1\\right)^2$$\n",
    "\n",
    "Here $R_4$ represens the sum of areas of **4** approximationg __rectangles__ using the **right** endpoints of the intervals to construct their heights. "
   ]
  },
  {
   "cell_type": "markdown",
   "metadata": {
    "slideshow": {
     "slide_type": "fragment"
    }
   },
   "source": [
    "$$R_4=0.46875$$"
   ]
  },
  {
   "cell_type": "markdown",
   "metadata": {
    "slideshow": {
     "slide_type": "slide"
    }
   },
   "source": [
    "![example 1 Step 1](./imgs/ex1-3.png)"
   ]
  },
  {
   "cell_type": "markdown",
   "metadata": {
    "slideshow": {
     "slide_type": "fragment"
    }
   },
   "source": [
    "$$L_4=\\frac{1}{4}\\cdot \\left(0\\right)^2+\\frac{1}{4}\\cdot \\left(\\frac{1}{4}\\right)^2+\\frac{1}{4}\\cdot \\left(\\frac{1}{2}\\right)^2+\\frac{1}{4}\\cdot \\left(\\frac{3}{4}\\right)^2$$\n",
    "\n",
    "Here $L_4$ represens the sum of areas of **4** approximationg __rectangles__ using the **left** endpoints of the intervals to construct their heights. "
   ]
  },
  {
   "cell_type": "markdown",
   "metadata": {
    "slideshow": {
     "slide_type": "fragment"
    }
   },
   "source": [
    "$$L_4=0.21875$$\n",
    "$$L_4=0.21875 < A < R_4=0.46875$$"
   ]
  },
  {
   "cell_type": "markdown",
   "metadata": {
    "slideshow": {
     "slide_type": "slide"
    }
   },
   "source": [
    "\n",
    "<img src=\"./imgs/ex1-4.png\" width=\"800px\" >"
   ]
  },
  {
   "cell_type": "code",
   "execution_count": 60,
   "metadata": {
    "slideshow": {
     "slide_type": "slide"
    }
   },
   "outputs": [],
   "source": [
    "from sympy import *\n",
    "from sympy.plotting import plot as plt\n",
    "R_n, L_n, n, i = symbols(\"R_n L_n n i\")\n",
    "init_printing()"
   ]
  },
  {
   "cell_type": "markdown",
   "metadata": {
    "slideshow": {
     "slide_type": "fragment"
    }
   },
   "source": [
    "$$A = \\text{area of } S = \\int_0^1 x^2 dx = \\lim_{n\\to \\infty} R_n$$"
   ]
  },
  {
   "cell_type": "code",
   "execution_count": 8,
   "metadata": {
    "slideshow": {
     "slide_type": "skip"
    }
   },
   "outputs": [
    {
     "data": {
      "image/png": "[encoded data removed]",
      "text/latex": [
       "$$\\sum_{i=1}^{n} \\frac{i^{2}}{n^{3}}$$"
      ],
      "text/plain": [
       "  n     \n",
       "_____   \n",
       "╲       \n",
       " ╲     2\n",
       "  ╲   i \n",
       "   ╲  ──\n",
       "   ╱   3\n",
       "  ╱   n \n",
       " ╱      \n",
       "╱       \n",
       "‾‾‾‾‾   \n",
       "i = 1   "
      ]
     },
     "execution_count": 8,
     "metadata": {},
     "output_type": "execute_result"
    }
   ],
   "source": [
    "R_n =Sum(((i/n)**2)/n,(i,1,n))\n",
    "R_n"
   ]
  },
  {
   "cell_type": "code",
   "execution_count": 19,
   "metadata": {
    "slideshow": {
     "slide_type": "skip"
    }
   },
   "outputs": [],
   "source": [
    "R_n=factor(R_n.doit())"
   ]
  },
  {
   "cell_type": "code",
   "execution_count": 20,
   "metadata": {
    "slideshow": {
     "slide_type": "skip"
    }
   },
   "outputs": [
    {
     "data": {
      "image/png": "[encoded data removed]",
      "text/latex": [
       "$$\\lim_{n \\to \\infty}\\left(\\frac{1}{6 n^{2}} \\left(n + 1\\right) \\left(2 n + 1\\right)\\right)$$"
      ],
      "text/plain": [
       "    ⎛(n + 1)⋅(2⋅n + 1)⎞\n",
       "lim ⎜─────────────────⎟\n",
       "n─→∞⎜          2      ⎟\n",
       "    ⎝       6⋅n       ⎠"
      ]
     },
     "execution_count": 20,
     "metadata": {},
     "output_type": "execute_result"
    }
   ],
   "source": [
    "A=Limit(R_n,n,oo)\n",
    "A\n"
   ]
  },
  {
   "cell_type": "code",
   "execution_count": 21,
   "metadata": {
    "slideshow": {
     "slide_type": "skip"
    }
   },
   "outputs": [
    {
     "data": {
      "image/png": "[encoded data removed]",
      "text/latex": [
       "$$\\frac{1}{3}$$"
      ],
      "text/plain": [
       "1/3"
      ]
     },
     "execution_count": 21,
     "metadata": {},
     "output_type": "execute_result"
    }
   ],
   "source": [
    "A.doit()"
   ]
  },
  {
   "cell_type": "code",
   "execution_count": 22,
   "metadata": {
    "slideshow": {
     "slide_type": "skip"
    }
   },
   "outputs": [
    {
     "data": {
      "image/png": "[encoded data removed]",
      "text/latex": [
       "$$\\frac{1}{6 n^{2}} \\left(n + 1\\right) \\left(2 n + 1\\right)$$"
      ],
      "text/plain": [
       "(n + 1)⋅(2⋅n + 1)\n",
       "─────────────────\n",
       "          2      \n",
       "       6⋅n       "
      ]
     },
     "execution_count": 22,
     "metadata": {},
     "output_type": "execute_result"
    }
   ],
   "source": [
    "R_n"
   ]
  },
  {
   "cell_type": "code",
   "execution_count": 33,
   "metadata": {
    "slideshow": {
     "slide_type": "skip"
    }
   },
   "outputs": [
    {
     "data": {
      "image/png": "[encoded data removed]",
      "text/latex": [
       "$$0.3333$$"
      ],
      "text/plain": [
       "0.3333"
      ]
     },
     "execution_count": 33,
     "metadata": {},
     "output_type": "execute_result"
    }
   ],
   "source": [
    "R_n.subs(n,1000000).evalf(4)"
   ]
  },
  {
   "cell_type": "code",
   "execution_count": 56,
   "metadata": {
    "slideshow": {
     "slide_type": "skip"
    }
   },
   "outputs": [],
   "source": [
    "from sympy import *\n",
    "from sympy.plotting import plot as plt\n",
    "from numpy import linspace\n",
    "import matplotlib.pyplot as mplt\n",
    "R_n, L_n, n, i, x,y = symbols(\"R_n L_n n i x y\")\n",
    "init_printing()"
   ]
  },
  {
   "cell_type": "markdown",
   "metadata": {
    "slideshow": {
     "slide_type": "slide"
    }
   },
   "source": [
    "$$A = \\text{area of } S = \\int_0^1 x^2 dx = \\lim_{n\\to \\infty} L_n$$"
   ]
  },
  {
   "cell_type": "code",
   "execution_count": 57,
   "metadata": {
    "scrolled": true,
    "slideshow": {
     "slide_type": "slide"
    }
   },
   "outputs": [
    {
     "data": {
      "image/png": "[encoded data removed]",
      "text/plain": [
       "<matplotlib.figure.Figure at 0x930ce10>"
      ]
     },
     "metadata": {},
     "output_type": "display_data"
    }
   ],
   "source": [
    "#p1=plot_implicit(Eq(x,0.5))\n",
    "p2=plot_implicit(y<=x**2, (x,0,1), (y,0,1), line_color=\"g\")\n"
   ]
  },
  {
   "cell_type": "markdown",
   "metadata": {
    "slideshow": {
     "slide_type": "fragment"
    }
   },
   "source": [
    "$$y=x^2, \\qquad x\\in [0,1]$$"
   ]
  },
  {
   "cell_type": "code",
   "execution_count": 65,
   "metadata": {
    "slideshow": {
     "slide_type": "slide"
    }
   },
   "outputs": [
    {
     "data": {
      "image/png": "[encoded data removed]",
      "text/latex": [
       "$$L_{n} = \\sum_{i=1}^{n} \\frac{1}{n^{3}} \\left(i - 1\\right)^{2} = \\frac{1}{6 n^{2}} \\left(n - 1\\right) \\left(2 n - 1\\right)$$"
      ],
      "text/plain": [
       "       n                               \n",
       "     _____                             \n",
       "     ╲                                 \n",
       "      ╲           2                    \n",
       "       ╲   (i - 1)                     \n",
       "        ╲  ────────   (n - 1)⋅(2⋅n - 1)\n",
       "Lₙ =    ╱      3    = ─────────────────\n",
       "       ╱      n                 2      \n",
       "      ╱                      6⋅n       \n",
       "     ╱                                 \n",
       "     ‾‾‾‾‾                             \n",
       "     i = 1                             "
      ]
     },
     "execution_count": 65,
     "metadata": {},
     "output_type": "execute_result"
    }
   ],
   "source": [
    "L=Symbol('L')\n",
    "L= Sum(((i-1)/n)**2/n,(i,1,n))\n",
    "eq=Eq(L_n,Eq(L,factor(L.doit())))\n",
    "eq"
   ]
  },
  {
   "cell_type": "code",
   "execution_count": 74,
   "metadata": {
    "scrolled": true,
    "slideshow": {
     "slide_type": "subslide"
    }
   },
   "outputs": [
    {
     "data": {
      "image/png": "[encoded data removed]",
      "text/latex": [
       "$$\\sum_{i=1}^{1000000} \\frac{1}{1000000000000000000} \\left(i - 1\\right)^{2} = 0.3333328333$$"
      ],
      "text/plain": [
       "1000000                                   \n",
       "  ____                                    \n",
       "  ╲                                       \n",
       "   ╲                 2                    \n",
       "    ╲         (i - 1)                     \n",
       "    ╱   ─────────────────── = 0.3333328333\n",
       "   ╱    1000000000000000000               \n",
       "  ╱                                       \n",
       "  ‾‾‾‾                                    \n",
       " i = 1                                    "
      ]
     },
     "execution_count": 74,
     "metadata": {},
     "output_type": "execute_result"
    }
   ],
   "source": [
    "m=1000000\n",
    "L_100=symbols('L_100')\n",
    "ee=Eq(L.subs(n,m),L.subs(n,m).doit().evalf(10), evaluate=false)\n",
    "ee"
   ]
  },
  {
   "cell_type": "code",
   "execution_count": 75,
   "metadata": {
    "slideshow": {
     "slide_type": "subslide"
    }
   },
   "outputs": [
    {
     "data": {
      "image/png": "[encoded data removed]",
      "text/latex": [
       "$$A = \\lim_{n \\to \\infty} L_{n} = \\lim_{n \\to \\infty} \\sum_{i=1}^{n} \\frac{1}{n^{3}} \\left(i - 1\\right)^{2} = \\frac{1}{3}$$"
      ],
      "text/plain": [
       "                   n                 \n",
       "                 _____               \n",
       "                 ╲                   \n",
       "                  ╲           2      \n",
       "                   ╲   (i - 1)       \n",
       "                    ╲  ────────      \n",
       "A = lim Lₙ = lim    ╱      3    = 1/3\n",
       "    n─→∞     n─→∞  ╱      n          \n",
       "                  ╱                  \n",
       "                 ╱                   \n",
       "                 ‾‾‾‾‾               \n",
       "                 i = 1               "
      ]
     },
     "execution_count": 75,
     "metadata": {},
     "output_type": "execute_result"
    }
   ],
   "source": [
    "Area=Limit(L,n,oo)\n",
    "A = Symbol('A')\n",
    "eq2=Eq(A,Eq(Limit(L_n,n,oo),Eq(Area,Area.doit())))\n",
    "eq2"
   ]
  },
  {
   "cell_type": "markdown",
   "metadata": {
    "slideshow": {
     "slide_type": "slide"
    }
   },
   "source": [
    "## In General\n",
    "![general case](./imgs/general.png)"
   ]
  },
  {
   "cell_type": "markdown",
   "metadata": {
    "slideshow": {
     "slide_type": "slide"
    }
   },
   "source": [
    "![Definition 2](./imgs/definition2.png)"
   ]
  },
  {
   "cell_type": "markdown",
   "metadata": {
    "slideshow": {
     "slide_type": "slide"
    }
   },
   "source": [
    "# Distance Problem\n",
    "Find the distance traveled by an object during a certain time period if the velocity of the object is known at all times. (In a sense this is the inverse problem of the velocity problem that we discussed in Section 2.1.) If the velocity\n",
    "remains constant, then the distance problem is easy to solve by means of the formula\n",
    "$$distance = velocity \\times\t time$$"
   ]
  },
  {
   "cell_type": "code",
   "execution_count": 81,
   "metadata": {},
   "outputs": [],
   "source": []
  },
  {
   "cell_type": "code",
   "execution_count": null,
   "metadata": {},
   "outputs": [],
   "source": []
  }
 ],
 "metadata": {
  "celltoolbar": "Slideshow",
  "kernelspec": {
   "display_name": "Python 3",
   "language": "python",
   "name": "python3"
  },
  "language_info": {
   "codemirror_mode": {
    "name": "ipython",
    "version": 3
   },
   "file_extension": ".py",
   "mimetype": "text/x-python",
   "name": "python",
   "nbconvert_exporter": "python",
   "pygments_lexer": "ipython3",
   "version": "3.6.4"
  },
  "livereveal": {
   "start_slideshow_at": "selected"
  }
 },
 "nbformat": 4,
 "nbformat_minor": 2
}
