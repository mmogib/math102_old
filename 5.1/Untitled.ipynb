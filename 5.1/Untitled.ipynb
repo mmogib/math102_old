{
 "cells": [
  {
   "cell_type": "code",
   "execution_count": 5,
   "id": "blond-drawing",
   "metadata": {},
   "outputs": [
    {
     "data": {
      "text/plain": [
       "10-element Array{Float64,1}:\n",
       " 0.0\n",
       " 0.1111111111111111\n",
       " 0.2222222222222222\n",
       " 0.3333333333333333\n",
       " 0.4444444444444444\n",
       " 0.5555555555555556\n",
       " 0.6666666666666666\n",
       " 0.7777777777777778\n",
       " 0.8888888888888888\n",
       " 1.0"
      ]
     },
     "execution_count": 5,
     "metadata": {},
     "output_type": "execute_result"
    }
   ],
   "source": [
    "[i for i in range(0,1,length=10)]"
   ]
  }
 ],
 "metadata": {
  "kernelspec": {
   "display_name": "Julia 1.5.0",
   "language": "julia",
   "name": "julia-1.5"
  },
  "language_info": {
   "file_extension": ".jl",
   "mimetype": "application/julia",
   "name": "julia",
   "version": "1.5.0"
  }
 },
 "nbformat": 4,
 "nbformat_minor": 5
}
