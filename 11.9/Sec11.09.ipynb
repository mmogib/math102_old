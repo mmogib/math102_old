{
 "cells": [
  {
   "cell_type": "markdown",
   "metadata": {},
   "source": [
    "# 11.9 Representations of Functions as Power Series\n",
    "\n",
    "$$\n",
    "\\frac{1}{1-x} = 1 + x + x^2 +x^3 +\\cdots =\\sum_{n=0}^\\infty x^n, \\quad |x|<1\n",
    "$$"
   ]
  },
  {
   "cell_type": "code",
   "execution_count": 35,
   "metadata": {},
   "outputs": [],
   "source": [
    "using Interact\n",
    "using Plots"
   ]
  },
  {
   "cell_type": "code",
   "execution_count": 36,
   "metadata": {},
   "outputs": [
    {
     "data": {
      "text/plain": [
       "f (generic function with 1 method)"
      ]
     },
     "execution_count": 36,
     "metadata": {},
     "output_type": "execute_result"
    }
   ],
   "source": [
    "s1(n)=x->reduce(+,[x^i for i=0:n])\n",
    "f(x)=1/(1-x)"
   ]
  },
  {
   "cell_type": "code",
   "execution_count": 55,
   "metadata": {},
   "outputs": [
    {
     "data": {
      "application/vnd.plotly.v1+json": {
       "data": [
        {
         "colorbar": {
          "title": ""
         },
         "hoverinfo": "text",
         "legendgroup": "n=100",
         "line": {
          "color": "rgba(0, 154, 250, 1.000)",
          "dash": "solid",
          "shape": "linear",
          "width": 1
         },
         "mode": "lines",
         "name": "n=100",
         "showlegend": true,
         "text": [
          null,
          null,
          null,
          null,
          null,
          null,
          null,
          null,
          null,
          null,
          null,
          null,
          null,
          null,
          null,
          null,
          null,
          null,
          null,
          null,
          null,
          null,
          null,
          null,
          null,
          null,
          null,
          null,
          null,
          null,
          null,
          null,
          null,
          null,
          null,
          null,
          null,
          null,
          null,
          null,
          null
         ],
         "type": "scatter",
         "x": [
          -2,
          -1.9,
          -1.8,
          -1.7,
          -1.6,
          -1.5,
          -1.4,
          -1.3,
          -1.2,
          -1.1,
          -1,
          -0.9,
          -0.8,
          -0.7,
          -0.6,
          -0.5,
          -0.4,
          -0.3,
          -0.2,
          -0.1,
          0,
          0.1,
          0.2,
          0.3,
          0.4,
          0.5,
          0.6,
          0.7,
          0.8,
          0.9,
          1,
          1.1,
          1.2,
          1.3,
          1.4,
          1.5,
          1.6,
          1.7,
          1.8,
          1.9,
          2
         ],
         "xaxis": "x1",
         "y": [
          8.45100400152153e+29,
          4.9171753785061424e+27,
          2.1645368513197573e+25,
          6.981959013804916e+22,
          158907684805349100000,
          243936706521129150,
          239177521849578.34,
          140136332359.38153,
          45173441.10291687,
          7218.892178002201,
          1,
          0.5263283711889467,
          0.5555555556460902,
          0.5882352941176473,
          0.6250000000000002,
          0.6666666666666666,
          0.7142857142857142,
          0.7692307692307692,
          0.8333333333333335,
          0.9090909090909092,
          1,
          1.111111111111111,
          1.2500000000000002,
          1.4285714285714286,
          1.6666666666666665,
          2,
          2.4999999999999996,
          3.3333333333333313,
          4.999999999185187,
          9.999760947410014,
          101,
          151576.73573804606,
          496907842.13208556,
          1074378548081.925,
          1435065131097465.2,
          1219683532605645800,
          688599967489846000000,
          2.693041333896182e+23,
          7.575878979619149e+25,
          1.5844231775186457e+28,
          2.535301200456459e+30
         ],
         "yaxis": "y1",
         "zmax": 0.1,
         "zmin": -0.1
        },
        {
         "colorbar": {
          "title": ""
         },
         "hoverinfo": "text",
         "legendgroup": "f(x)",
         "line": {
          "color": "rgba(227, 111, 71, 1.000)",
          "dash": "solid",
          "shape": "linear",
          "width": 1
         },
         "mode": "lines",
         "name": "f(x)",
         "showlegend": true,
         "text": [
          null,
          null,
          null,
          null,
          null,
          null,
          null,
          null,
          null,
          null,
          null,
          null,
          null,
          null,
          null,
          null,
          null,
          null,
          null,
          null,
          null,
          null,
          null,
          null,
          null,
          null,
          null,
          null,
          null,
          null,
          null,
          null,
          null,
          null,
          null,
          null,
          null,
          null,
          null,
          null,
          null
         ],
         "type": "scatter",
         "x": [
          -2,
          -1.9,
          -1.8,
          -1.7,
          -1.6,
          -1.5,
          -1.4,
          -1.3,
          -1.2,
          -1.1,
          -1,
          -0.9,
          -0.8,
          -0.7,
          -0.6,
          -0.5,
          -0.4,
          -0.3,
          -0.2,
          -0.1,
          0,
          0.1,
          0.2,
          0.3,
          0.4,
          0.5,
          0.6,
          0.7,
          0.8,
          0.9,
          1,
          1.1,
          1.2,
          1.3,
          1.4,
          1.5,
          1.6,
          1.7,
          1.8,
          1.9,
          2
         ],
         "xaxis": "x1",
         "y": [
          0.3333333333333333,
          0.3448275862068966,
          0.35714285714285715,
          0.37037037037037035,
          0.3846153846153846,
          0.4,
          0.4166666666666667,
          0.4347826086956522,
          0.45454545454545453,
          0.47619047619047616,
          0.5,
          0.5263157894736842,
          0.5555555555555556,
          0.5882352941176471,
          0.625,
          0.6666666666666666,
          0.7142857142857143,
          0.7692307692307692,
          0.8333333333333334,
          0.9090909090909091,
          1,
          1.1111111111111112,
          1.25,
          1.4285714285714286,
          1.6666666666666667,
          2,
          2.5,
          3.333333333333333,
          5.000000000000001,
          10.000000000000002,
          null,
          -9.999999999999991,
          -5.000000000000001,
          -3.333333333333333,
          -2.5000000000000004,
          -2,
          -1.6666666666666665,
          -1.4285714285714286,
          -1.25,
          -1.1111111111111112,
          -1
         ],
         "yaxis": "y1",
         "zmax": 0.1,
         "zmin": -0.1
        }
       ],
       "layout": {
        "annotations": [],
        "height": 400,
        "legend": {
         "bgcolor": "rgba(255, 255, 255, 1.000)",
         "bordercolor": "rgba(0, 0, 0, 1.000)",
         "font": {
          "color": "rgba(0, 0, 0, 1.000)",
          "family": "sans-serif",
          "size": 11
         },
         "tracegroupgap": 0,
         "x": 1,
         "y": 1
        },
        "margin": {
         "b": 20,
         "l": 0,
         "r": 0,
         "t": 20
        },
        "paper_bgcolor": "rgba(255, 255, 255, 1.000)",
        "plot_bgcolor": "rgba(255, 255, 255, 1.000)",
        "showlegend": true,
        "width": 600,
        "xaxis": {
         "anchor": "y1",
         "domain": [
          0.0658209390492855,
          0.9934383202099738
         ],
         "gridcolor": "rgba(0, 0, 0, 0.100)",
         "gridwidth": 0.5,
         "linecolor": "rgba(0, 0, 0, 1.000)",
         "mirror": false,
         "range": [
          -2,
          2
         ],
         "showgrid": true,
         "showline": true,
         "showticklabels": true,
         "tickangle": 0,
         "tickcolor": "rgb(0, 0, 0)",
         "tickfont": {
          "color": "rgba(0, 0, 0, 1.000)",
          "family": "sans-serif",
          "size": 11
         },
         "tickmode": "array",
         "ticks": "inside",
         "ticktext": [
          "-2",
          "-1",
          "0",
          "1",
          "2"
         ],
         "tickvals": [
          -2,
          -1,
          0,
          1,
          2
         ],
         "title": "",
         "titlefont": {
          "color": "rgba(0, 0, 0, 1.000)",
          "family": "sans-serif",
          "size": 15
         },
         "type": "-",
         "visible": true,
         "zeroline": false,
         "zerolinecolor": "rgba(0, 0, 0, 1.000)"
        },
        "yaxis": {
         "anchor": "x1",
         "domain": [
          0.03762029746281716,
          0.9901574803149606
         ],
         "gridcolor": "rgba(0, 0, 0, 0.100)",
         "gridwidth": 0.5,
         "linecolor": "rgba(0, 0, 0, 1.000)",
         "mirror": false,
         "range": [
          -1,
          10
         ],
         "showgrid": true,
         "showline": true,
         "showticklabels": true,
         "tickangle": 0,
         "tickcolor": "rgb(0, 0, 0)",
         "tickfont": {
          "color": "rgba(0, 0, 0, 1.000)",
          "family": "sans-serif",
          "size": 11
         },
         "tickmode": "array",
         "ticks": "inside",
         "ticktext": [
          "0.0",
          "2.5",
          "5.0",
          "7.5",
          "10.0"
         ],
         "tickvals": [
          0,
          2.5,
          5,
          7.5,
          10
         ],
         "title": "",
         "titlefont": {
          "color": "rgba(0, 0, 0, 1.000)",
          "family": "sans-serif",
          "size": 15
         },
         "type": "-",
         "visible": true,
         "zeroline": false,
         "zerolinecolor": "rgba(0, 0, 0, 1.000)"
        }
       }
      },
      "text/html": [
       "    <div id=\"8d76f5d3-3028-4f13-b56c-26adce9d7228\" style=\"width:600px;height:400px;\"></div>\n",
       "    <script>\n",
       "    PLOT = document.getElementById('8d76f5d3-3028-4f13-b56c-26adce9d7228');\n",
       "    Plotly.plot(PLOT, [{\"xaxis\":\"x1\",\"colorbar\":{\"title\":\"\"},\"yaxis\":\"y1\",\"text\":[null,null,null,null,null,null,null,null,null,null,null,null,null,null,null,null,null,null,null,null,null,null,null,null,null,null,null,null,null,null,null,null,null,null,null,null,null,null,null,null,null],\"x\":[-2.0,-1.9,-1.8,-1.7,-1.6,-1.5,-1.4,-1.3,-1.2,-1.1,-1.0,-0.9,-0.8,-0.7,-0.6,-0.5,-0.4,-0.3,-0.2,-0.1,0.0,0.1,0.2,0.3,0.4,0.5,0.6,0.7,0.8,0.9,1.0,1.1,1.2,1.3,1.4,1.5,1.6,1.7,1.8,1.9,2.0],\"showlegend\":true,\"mode\":\"lines\",\"name\":\"n=100\",\"zmin\":-0.1,\"legendgroup\":\"n=100\",\"zmax\":0.1,\"line\":{\"color\":\"rgba(0, 154, 250, 1.000)\",\"shape\":\"linear\",\"dash\":\"solid\",\"width\":1},\"y\":[8.45100400152153e29,4.9171753785061424e27,2.1645368513197573e25,6.981959013804916e22,1.589076848053491e20,2.4393670652112915e17,2.3917752184957834e14,1.4013633235938153e11,4.517344110291687e7,7218.892178002201,1.0,0.5263283711889467,0.5555555556460902,0.5882352941176473,0.6250000000000002,0.6666666666666666,0.7142857142857142,0.7692307692307692,0.8333333333333335,0.9090909090909092,1.0,1.111111111111111,1.2500000000000002,1.4285714285714286,1.6666666666666665,2.0,2.4999999999999996,3.3333333333333313,4.999999999185187,9.999760947410014,101.0,151576.73573804606,4.9690784213208556e8,1.074378548081925e12,1.4350651310974652e15,1.2196835326056458e18,6.88599967489846e20,2.693041333896182e23,7.575878979619149e25,1.5844231775186457e28,2.535301200456459e30],\"type\":\"scatter\",\"hoverinfo\":\"text\"},{\"xaxis\":\"x1\",\"colorbar\":{\"title\":\"\"},\"yaxis\":\"y1\",\"text\":[null,null,null,null,null,null,null,null,null,null,null,null,null,null,null,null,null,null,null,null,null,null,null,null,null,null,null,null,null,null,null,null,null,null,null,null,null,null,null,null,null],\"x\":[-2.0,-1.9,-1.8,-1.7,-1.6,-1.5,-1.4,-1.3,-1.2,-1.1,-1.0,-0.9,-0.8,-0.7,-0.6,-0.5,-0.4,-0.3,-0.2,-0.1,0.0,0.1,0.2,0.3,0.4,0.5,0.6,0.7,0.8,0.9,1.0,1.1,1.2,1.3,1.4,1.5,1.6,1.7,1.8,1.9,2.0],\"showlegend\":true,\"mode\":\"lines\",\"name\":\"f(x)\",\"zmin\":-0.1,\"legendgroup\":\"f(x)\",\"zmax\":0.1,\"line\":{\"color\":\"rgba(227, 111, 71, 1.000)\",\"shape\":\"linear\",\"dash\":\"solid\",\"width\":1},\"y\":[0.3333333333333333,0.3448275862068966,0.35714285714285715,0.37037037037037035,0.3846153846153846,0.4,0.4166666666666667,0.4347826086956522,0.45454545454545453,0.47619047619047616,0.5,0.5263157894736842,0.5555555555555556,0.5882352941176471,0.625,0.6666666666666666,0.7142857142857143,0.7692307692307692,0.8333333333333334,0.9090909090909091,1.0,1.1111111111111112,1.25,1.4285714285714286,1.6666666666666667,2.0,2.5,3.333333333333333,5.000000000000001,10.000000000000002,null,-9.999999999999991,-5.000000000000001,-3.333333333333333,-2.5000000000000004,-2.0,-1.6666666666666665,-1.4285714285714286,-1.25,-1.1111111111111112,-1.0],\"type\":\"scatter\",\"hoverinfo\":\"text\"}], {\"showlegend\":true,\"xaxis\":{\"showticklabels\":true,\"gridwidth\":0.5,\"tickvals\":[-2.0,-1.0,0.0,1.0,2.0],\"visible\":true,\"ticks\":\"inside\",\"range\":[-2.0,2.0],\"domain\":[0.0658209390492855,0.9934383202099738],\"tickmode\":\"array\",\"linecolor\":\"rgba(0, 0, 0, 1.000)\",\"showgrid\":true,\"title\":\"\",\"mirror\":false,\"tickangle\":0,\"showline\":true,\"gridcolor\":\"rgba(0, 0, 0, 0.100)\",\"titlefont\":{\"color\":\"rgba(0, 0, 0, 1.000)\",\"family\":\"sans-serif\",\"size\":15},\"tickcolor\":\"rgb(0, 0, 0)\",\"ticktext\":[\"-2\",\"-1\",\"0\",\"1\",\"2\"],\"zeroline\":false,\"type\":\"-\",\"tickfont\":{\"color\":\"rgba(0, 0, 0, 1.000)\",\"family\":\"sans-serif\",\"size\":11},\"zerolinecolor\":\"rgba(0, 0, 0, 1.000)\",\"anchor\":\"y1\"},\"paper_bgcolor\":\"rgba(255, 255, 255, 1.000)\",\"annotations\":[],\"height\":400,\"margin\":{\"l\":0,\"b\":20,\"r\":0,\"t\":20},\"plot_bgcolor\":\"rgba(255, 255, 255, 1.000)\",\"yaxis\":{\"showticklabels\":true,\"gridwidth\":0.5,\"tickvals\":[0.0,2.5,5.0,7.5,10.0],\"visible\":true,\"ticks\":\"inside\",\"range\":[-1.0,10.0],\"domain\":[0.03762029746281716,0.9901574803149606],\"tickmode\":\"array\",\"linecolor\":\"rgba(0, 0, 0, 1.000)\",\"showgrid\":true,\"title\":\"\",\"mirror\":false,\"tickangle\":0,\"showline\":true,\"gridcolor\":\"rgba(0, 0, 0, 0.100)\",\"titlefont\":{\"color\":\"rgba(0, 0, 0, 1.000)\",\"family\":\"sans-serif\",\"size\":15},\"tickcolor\":\"rgb(0, 0, 0)\",\"ticktext\":[\"0.0\",\"2.5\",\"5.0\",\"7.5\",\"10.0\"],\"zeroline\":false,\"type\":\"-\",\"tickfont\":{\"color\":\"rgba(0, 0, 0, 1.000)\",\"family\":\"sans-serif\",\"size\":11},\"zerolinecolor\":\"rgba(0, 0, 0, 1.000)\",\"anchor\":\"x1\"},\"legend\":{\"tracegroupgap\":0,\"bordercolor\":\"rgba(0, 0, 0, 1.000)\",\"bgcolor\":\"rgba(255, 255, 255, 1.000)\",\"font\":{\"color\":\"rgba(0, 0, 0, 1.000)\",\"family\":\"sans-serif\",\"size\":11},\"y\":1.0,\"x\":1.0},\"width\":600});\n",
       "    </script>\n"
      ]
     },
     "execution_count": 55,
     "metadata": {},
     "output_type": "execute_result"
    }
   ],
   "source": [
    "n=100\n",
    "x=[j for j=-2:0.1:2]\n",
    "y=s1(n).(x)\n",
    "plot(x, y, xlims=(-2,2), ylims=(-1,10),label=\"n=$n\" )\n",
    "plot!(x,f.(x), xlims=(-2,2), ylims=(-1,10), label=\"f(x)\")"
   ]
  },
  {
   "cell_type": "markdown",
   "metadata": {},
   "source": [
    "## Examples\n",
    "1. Express as the sum of a power series and find the interval of convergence.\n",
    "$$\n",
    "f(x)=\\frac{1}{1+x^2}\n",
    "$$\n",
    "2. Find a power series representation for \n",
    "$$\n",
    "f(x)=\\frac{1}{x+2}\n",
    "$$\n",
    "2. Find a power series representation for \n",
    "$$\n",
    "f(x)=\\frac{x^3}{x+2}\n",
    "$$\n",
    "\n",
    "__SOLUTION IN CLASS__"
   ]
  },
  {
   "cell_type": "markdown",
   "metadata": {},
   "source": [
    "### Term-by-term differentiation and integration\n",
    "![Theorem](./imgs/th.png)"
   ]
  },
  {
   "cell_type": "markdown",
   "metadata": {},
   "source": [
    "### Examples\n",
    "5. Express as a power series \n",
    "$$\n",
    "f(x) = \\frac{1}{(1-x)^2}\n",
    "$$\n",
    "6. Express as a power series \n",
    "$$\n",
    "f(x) = \\ln(1+x)\n",
    "$$\n",
    "7. Express as a power series \n",
    "$$\n",
    "f(x) = \\tan^{-1}x\n",
    "$$\n",
    "\n",
    "__SOLUTION IN CLASS__"
   ]
  },
  {
   "cell_type": "markdown",
   "metadata": {},
   "source": [
    "### Example\n",
    "Evaluate \n",
    "$$\n",
    "\\int \\frac{1}{1+x^7}dx\n",
    "$$\n",
    "\n",
    "__SOLUTION IN CLASS__"
   ]
  },
  {
   "cell_type": "code",
   "execution_count": null,
   "metadata": {},
   "outputs": [],
   "source": []
  }
 ],
 "metadata": {
  "kernelspec": {
   "display_name": "Julia 1.1.0",
   "language": "julia",
   "name": "julia-1.1"
  },
  "language_info": {
   "file_extension": ".jl",
   "mimetype": "application/julia",
   "name": "julia",
   "version": "1.1.0"
  }
 },
 "nbformat": 4,
 "nbformat_minor": 2
}
