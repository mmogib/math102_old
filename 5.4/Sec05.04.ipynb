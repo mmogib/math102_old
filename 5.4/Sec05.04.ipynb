{
 "cells": [
  {
   "cell_type": "markdown",
   "metadata": {
    "slideshow": {
     "slide_type": "slide"
    }
   },
   "source": [
    "# 5.4 Indefinite Integrals and the Net Change Theorem\n",
    "\n",
    "## Definite Integral\n",
    "$${\\Large \\int_a^b f(x) dx = \\lim_{n \\to \\infty} \\sum_{i=1}^{n}f(x_i^*) \\Delta x }$$\n",
    "\n",
    "## Indefinite Integral (Antiderivative)\n",
    "$${\\Large \\int f(x) dx = F(x), \\qquad F'(x) = f(x) }$$\n"
   ]
  },
  {
   "cell_type": "markdown",
   "metadata": {
    "slideshow": {
     "slide_type": "slide"
    }
   },
   "source": [
    " |             | $\\int_a^b f(x) dx$  | $\\int f(x) dx$      |\n",
    " | ----------- |:-------------------:| -------------------:|\n",
    " | Name        | definite integral   | indefinite integral |\n",
    " | Type        | number            |   function            |\n"
   ]
  },
  {
   "cell_type": "markdown",
   "metadata": {
    "slideshow": {
     "slide_type": "slide"
    }
   },
   "source": [
    "![Table of indefinite integrals ](./imgs/table.png)"
   ]
  },
  {
   "cell_type": "markdown",
   "metadata": {
    "slideshow": {
     "slide_type": "slide"
    }
   },
   "source": [
    "## Eaxmple: Find $$\\int \\frac{\\cos\\theta}{\\sin^2\\theta} d\\theta$$"
   ]
  },
  {
   "cell_type": "markdown",
   "metadata": {
    "slideshow": {
     "slide_type": "slide"
    }
   },
   "source": [
    "## Eaxmple: Find $$\\int_1^4 \\left(\\frac{4+6u}{\\sqrt{u}}\\right) du$$"
   ]
  },
  {
   "cell_type": "markdown",
   "metadata": {
    "slideshow": {
     "slide_type": "slide"
    }
   },
   "source": [
    "# Applications\n",
    "## Question: If $y=F(x)$, then what does $F'(x)$ represents?"
   ]
  },
  {
   "cell_type": "markdown",
   "metadata": {
    "slideshow": {
     "slide_type": "fragment"
    }
   },
   "source": [
    "## Net Change Theorem \n",
    "The integral of a rate of change is the net change:\n",
    "$$\\int_a^b F'(x) dx = F(b) - F(a)$$"
   ]
  },
  {
   "cell_type": "markdown",
   "metadata": {
    "slideshow": {
     "slide_type": "slide"
    }
   },
   "source": [
    "## Real life example 1\n",
    "![the volume of water in a reservoir](./imgs/water.png)"
   ]
  },
  {
   "cell_type": "markdown",
   "metadata": {
    "slideshow": {
     "slide_type": "slide"
    }
   },
   "source": [
    "## Real life example 2\n",
    "![concentration of the product of a chemical reaction](./imgs/react.png)"
   ]
  },
  {
   "cell_type": "markdown",
   "metadata": {
    "slideshow": {
     "slide_type": "slide"
    }
   },
   "source": [
    "## Real life example 3\n",
    "![the mass of a rod measured from the left end to a point x](./imgs/rod.png)"
   ]
  },
  {
   "cell_type": "markdown",
   "metadata": {
    "slideshow": {
     "slide_type": "slide"
    }
   },
   "source": [
    "## Real life example 4\n",
    "![the rate of growth of a populationthe rate of growth of a population](./imgs/growth.png)"
   ]
  },
  {
   "cell_type": "markdown",
   "metadata": {
    "slideshow": {
     "slide_type": "slide"
    }
   },
   "source": [
    "## Real life example 5\n",
    "![the cost of producing x units of a commodity](./imgs/cost.png)"
   ]
  },
  {
   "cell_type": "markdown",
   "metadata": {
    "slideshow": {
     "slide_type": "slide"
    }
   },
   "source": [
    "## Real life example 6\n",
    "![object moves along a straight line with position function](./imgs/phys.png)"
   ]
  },
  {
   "cell_type": "markdown",
   "metadata": {
    "slideshow": {
     "slide_type": "slide"
    }
   },
   "source": [
    "# Remark \n",
    "## The total distance travelled = $\\int_a^b\\left|v(t)\\right| dt$"
   ]
  },
  {
   "cell_type": "markdown",
   "metadata": {
    "slideshow": {
     "slide_type": "slide"
    }
   },
   "source": [
    "![the acceleration](./imgs/acceleration.png)"
   ]
  },
  {
   "cell_type": "markdown",
   "metadata": {
    "slideshow": {
     "slide_type": "slide"
    }
   },
   "source": [
    "![Example ](./imgs/example6.png)"
   ]
  },
  {
   "cell_type": "code",
   "execution_count": 36,
   "metadata": {
    "slideshow": {
     "slide_type": "slide"
    }
   },
   "outputs": [
    {
     "data": {
      "image/png": "[encoded data removed]",
      "text/latex": [
       "$$v = \\int \\left(t + 4\\right)\\, dt$$"
      ],
      "text/plain": [
       "    ⌠           \n",
       "v = ⎮ (t + 4) dt\n",
       "    ⌡           "
      ]
     },
     "metadata": {},
     "output_type": "display_data"
    }
   ],
   "source": [
    "from sympy import Integral, symbols, init_printing, Eq, Rational, simplify, Symbol, Abs\n",
    "init_printing()\n",
    "s, v, a = symbols('s, v, a')\n",
    "t =Symbol('t', real=True)\n",
    "a=t+4\n",
    "vt=Integral(a,t)\n",
    "eq1 = Eq(v,vt, evaluate=False)\n",
    "display(eq1)"
   ]
  },
  {
   "cell_type": "code",
   "execution_count": 37,
   "metadata": {
    "slideshow": {
     "slide_type": "slide"
    }
   },
   "outputs": [
    {
     "data": {
      "image/png": "[encoded data removed]",
      "text/latex": [
       "$$v = \\int \\left(t + 4\\right)\\, dt = \\frac{t^{2}}{2} + 4 t$$"
      ],
      "text/plain": [
       "                    2      \n",
       "    ⌠              t       \n",
       "v = ⎮ (t + 4) dt = ── + 4⋅t\n",
       "    ⌡              2       "
      ]
     },
     "execution_count": 37,
     "metadata": {},
     "output_type": "execute_result"
    }
   ],
   "source": [
    "eq1 = Eq(v,Eq(vt,vt.doit()), evaluate=False)\n",
    "eq1"
   ]
  },
  {
   "cell_type": "code",
   "execution_count": 38,
   "metadata": {
    "slideshow": {
     "slide_type": "slide"
    }
   },
   "outputs": [
    {
     "data": {
      "image/png": "[encoded data removed]",
      "text/latex": [
       "$$\\frac{t^{2}}{2} + 4 t + 5$$"
      ],
      "text/plain": [
       " 2          \n",
       "t           \n",
       "── + 4⋅t + 5\n",
       "2           "
      ]
     },
     "execution_count": 38,
     "metadata": {},
     "output_type": "execute_result"
    }
   ],
   "source": [
    "vt=t**2/2+4*t+5\n",
    "vt\n"
   ]
  },
  {
   "cell_type": "code",
   "execution_count": 39,
   "metadata": {
    "slideshow": {
     "slide_type": "slide"
    }
   },
   "outputs": [
    {
     "data": {
      "image/png": "[encoded data removed]",
      "text/latex": [
       "$$\\int_{0}^{10} \\left|{\\frac{t^{2}}{2} + 4 t + 5}\\right|\\, dt = \\int_{0}^{10} \\left|{\\frac{t^{2}}{2} + 4 t + 5}\\right|\\, dt = 416.666666666667$$"
      ],
      "text/plain": [
       "10                     10                                     \n",
       "⌠                      ⌠                                      \n",
       "⎮  │ 2          │      ⎮  │ 2          │                      \n",
       "⎮  │t           │      ⎮  │t           │                      \n",
       "⎮  │── + 4⋅t + 5│ dt = ⎮  │── + 4⋅t + 5│ dt = 416.666666666667\n",
       "⎮  │2           │      ⎮  │2           │                      \n",
       "⌡                      ⌡                                      \n",
       "0                      0                                      "
      ]
     },
     "metadata": {},
     "output_type": "display_data"
    }
   ],
   "source": [
    "d=Integral(abs(vt),(t,0,10))\n",
    "eq2 = Eq(d,Eq(d,simplify((d.doit().evalf())), evaluate=False), evaluate=False)\n",
    "display(eq2)"
   ]
  }
 ],
 "metadata": {
  "cell_type": "markdown",
  "celltoolbar": "Slideshow",
  "kernelspec": {
   "display_name": "Python 3",
   "language": "python",
   "name": "python3"
  },
  "language_info": {
   "codemirror_mode": {
    "name": "ipython",
    "version": 3
   },
   "file_extension": ".py",
   "mimetype": "text/x-python",
   "name": "python",
   "nbconvert_exporter": "python",
   "pygments_lexer": "ipython3",
   "version": "3.6.3"
  }
 },
 "nbformat": 4,
 "nbformat_minor": 2
}
