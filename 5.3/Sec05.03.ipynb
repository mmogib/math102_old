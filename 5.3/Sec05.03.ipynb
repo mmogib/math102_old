{
 "cells": [
  {
   "cell_type": "markdown",
   "metadata": {
    "slideshow": {
     "slide_type": "slide"
    }
   },
   "source": [
    "# 5.3 The Fundamental Theorem of Calculus\n",
    "![Introduction ](./imgs/intro.png)"
   ]
  },
  {
   "cell_type": "markdown",
   "metadata": {
    "slideshow": {
     "slide_type": "slide"
    }
   },
   "source": [
    "# Consider the following function \n",
    "# $$g(x) = \\int_a^x f(t) dt$$\n",
    "# where $f$ is a continuous function on the interval $[a,b]$ and $x \\in [a,b]$."
   ]
  },
  {
   "cell_type": "markdown",
   "metadata": {
    "slideshow": {
     "slide_type": "slide"
    }
   },
   "source": [
    "![The meaning of $g(X)$](./imgs/gx.png)"
   ]
  },
  {
   "cell_type": "markdown",
   "metadata": {
    "slideshow": {
     "slide_type": "slide"
    }
   },
   "source": [
    "## Example 1 If $g(x) = \\int_0^x f(t) dt$\n",
    "![Example 1](./imgs/ex1.png)\n",
    "## Find $g(2)$ "
   ]
  },
  {
   "cell_type": "markdown",
   "metadata": {
    "slideshow": {
     "slide_type": "slide"
    }
   },
   "source": [
    "![The Fundamental Theorem of Calculus, Part 1](./imgs/ftc1.png)"
   ]
  },
  {
   "cell_type": "markdown",
   "metadata": {
    "slideshow": {
     "slide_type": "slide"
    }
   },
   "source": [
    "## Remarks\n",
    "* ${\\large \\frac{d}{dx}\\left( \\int_a^x f(t) dt\\right) = f(x)}$\n",
    "* $g(x)$ is an antiderivative of $f$"
   ]
  },
  {
   "cell_type": "markdown",
   "metadata": {
    "slideshow": {
     "slide_type": "slide"
    }
   },
   "source": [
    "## Find the derivative of \n",
    "## (1) $g_1(x) = \\int_0^x \\sqrt{1+t} dt$.\n",
    "## (2) $g_2(x) = \\int_x^0 \\sqrt{1+t} dt$.\n",
    "## (3) $g_3(x) = \\int_0^{x^2} \\sqrt{1+t} dt$.\n",
    "## (4) $g_4(x) = \\int_{\\sin(x)}^{\\cos(x)} \\sqrt{1+t} dt$."
   ]
  },
  {
   "cell_type": "markdown",
   "metadata": {
    "slideshow": {
     "slide_type": "slide"
    }
   },
   "source": [
    "![The Fundamental Theorem of Calculus, Part 2](./imgs/ftc2.png)"
   ]
  },
  {
   "cell_type": "markdown",
   "metadata": {
    "slideshow": {
     "slide_type": "slide"
    }
   },
   "source": [
    "![Fundamental Theorem of Calculus](./imgs/ftc.png)"
   ]
  },
  {
   "cell_type": "markdown",
   "metadata": {
    "slideshow": {
     "slide_type": "fragment"
    }
   },
   "source": [
    "#### Remarks &  Notation\n",
    "* ${ \\frac{d}{dx}\\left( \\int_a^x f(t) dt\\right) = f(x)}$\n",
    "* ${ g(x)}$ is an antiderivative of ${f}$\n",
    "* ![Remark 2](./imgs/rem2.png)"
   ]
  },
  {
   "cell_type": "markdown",
   "metadata": {
    "slideshow": {
     "slide_type": "slide"
    }
   },
   "source": [
    "### Question\n",
    "---\n",
    "### If $y=\\int_{\\cos x}^{\\sin(3x)} \\sqrt{t^2+3} dt$ then $\\frac{dy}{dx}$ at $x=0$ is equal to\n",
    "### (a) $\\sqrt{3}$\n",
    "### (b) $\\sqrt{3}-\\sqrt{1+3}$\n",
    "### (c) $-\\sqrt{1+3}$\n",
    "### (d) $3\\sqrt{3}$\n",
    "### (e) $3\\sqrt{3}-\\sqrt{1+3}$"
   ]
  },
  {
   "cell_type": "markdown",
   "metadata": {
    "slideshow": {
     "slide_type": "slide"
    }
   },
   "source": [
    "### Find \n",
    "### $$\\int_1^3 e^x dx$$"
   ]
  },
  {
   "cell_type": "markdown",
   "metadata": {
    "slideshow": {
     "slide_type": "slide"
    }
   },
   "source": [
    "## True or False? Why?\n",
    "\\\\[\n",
    "\\int_{-2}^1x^{-4} dx =\\left.\\frac{x^{-3}}{-3}\\right]_{-2}^1=\\frac{-3}{8}\n",
    "\\\\]\n"
   ]
  },
  {
   "cell_type": "markdown",
   "metadata": {
    "slideshow": {
     "slide_type": "slide"
    }
   },
   "source": [
    "## Sketch the region enclosed by the given curves and calculuate its area\n",
    "\\\\[\n",
    "y=2x-x^2, \\quad y=0\n",
    "\\\\]"
   ]
  },
  {
   "cell_type": "code",
   "execution_count": 39,
   "metadata": {
    "scrolled": false,
    "slideshow": {
     "slide_type": "fragment"
    }
   },
   "outputs": [
    {
     "data": {
      "image/png": "[encoded data removed]",
      "text/plain": [
       "<matplotlib.figure.Figure at 0xc787710>"
      ]
     },
     "metadata": {},
     "output_type": "display_data"
    }
   ],
   "source": [
    "from sympy import init_printing, plot, symbols, Function, Integral, integrate, Eq, Lambda, sqrt, diff, plot_implicit, And\n",
    "init_printing()\n",
    "x, y, t, a , b= symbols('x y t a b')\n",
    "Eq1 = Eq(y, 2*x-x**2)\n",
    "p1=plot_implicit(y<(2*x-x**2), (x,0,2),(y,0,2), title=\"region enclosed by $y=2x-x^2, \\quad y=0$ \")\n"
   ]
  },
  {
   "cell_type": "code",
   "execution_count": 43,
   "metadata": {
    "slideshow": {
     "slide_type": "slide"
    }
   },
   "outputs": [
    {
     "data": {
      "image/png": "[encoded data removed]",
      "text/latex": [
       "$$\\int_{0}^{2} \\left(- x^{2} + 2 x\\right)\\, dx = \\frac{4}{3}$$"
      ],
      "text/plain": [
       "2                      \n",
       "⌠                      \n",
       "⎮ ⎛   2      ⎞         \n",
       "⎮ ⎝- x  + 2⋅x⎠ dx = 4/3\n",
       "⌡                      \n",
       "0                      "
      ]
     },
     "execution_count": 43,
     "metadata": {},
     "output_type": "execute_result"
    }
   ],
   "source": [
    "I = Integral(2*x-x**2,(x,0,2))\n",
    "Eq2=Eq(I,I.doit(),evaluate=False)\n",
    "Eq2"
   ]
  },
  {
   "cell_type": "code",
   "execution_count": null,
   "metadata": {},
   "outputs": [],
   "source": []
  }
 ],
 "metadata": {
  "celltoolbar": "Slideshow",
  "kernelspec": {
   "display_name": "Python 3",
   "language": "python",
   "name": "python3"
  },
  "language_info": {
   "codemirror_mode": {
    "name": "ipython",
    "version": 3
   },
   "file_extension": ".py",
   "mimetype": "text/x-python",
   "name": "python",
   "nbconvert_exporter": "python",
   "pygments_lexer": "ipython3",
   "version": "3.6.4"
  },
  "livereveal": {
   "start_slideshow_at": "selected"
  }
 },
 "nbformat": 4,
 "nbformat_minor": 2
}
