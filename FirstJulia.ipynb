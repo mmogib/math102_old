{
 "cells": [
  {
   "cell_type": "code",
   "execution_count": 2,
   "metadata": {},
   "outputs": [],
   "source": [
    "# Pkg.add(\"Clp\")"
   ]
  },
  {
   "cell_type": "code",
   "execution_count": 3,
   "metadata": {},
   "outputs": [
    {
     "name": "stdout",
     "output_type": "stream",
     "text": [
      "Max 5 x + 3 y\n",
      "Subject to\n",
      " x + 5 y <= 3\n",
      " 0 <= x <= 2\n",
      " 0 <= y <= 30\n",
      "Objective value: 10.6\n",
      "x = 2.0\n",
      "y = 0.2\n"
     ]
    }
   ],
   "source": [
    "using JuMP\n",
    "using Clp\n",
    "\n",
    "m = Model(solver = ClpSolver())\n",
    "@variable(m, 0 <= x <= 2 )\n",
    "@variable(m, 0 <= y <= 30 )\n",
    "@objective(m, Max, 5x + 3*y )\n",
    "@constraint(m, 1x + 5y <= 3.0 )\n",
    "\n",
    "print(m)\n",
    "\n",
    "status = solve(m)\n",
    "\n",
    "println(\"Objective value: \", getobjectivevalue(m))\n",
    "println(\"x = \", getvalue(x))\n",
    "println(\"y = \", getvalue(y))"
   ]
  },
  {
   "cell_type": "code",
   "execution_count": 6,
   "metadata": {},
   "outputs": [
    {
     "name": "stderr",
     "output_type": "stream",
     "text": [
      "\u001b[1m\u001b[36mINFO: \u001b[39m\u001b[22m\u001b[36mPrecompiling module Convex.\n",
      "\u001b[39m\n",
      "WARNING: deprecated syntax \"abstract Vexity\" at C:\\Users\\ITC\\.julia\\v0.6\\Convex\\src\\dcp.jl:21.\n",
      "Use \"abstract type Vexity end\" instead.\n",
      "\n",
      "WARNING: deprecated syntax \"abstract Monotonicity\" at C:\\Users\\ITC\\.julia\\v0.6\\Convex\\src\\dcp.jl:35.\n",
      "Use \"abstract type Monotonicity end\" instead.\n",
      "\n",
      "WARNING: deprecated syntax \"abstract Sign\" at C:\\Users\\ITC\\.julia\\v0.6\\Convex\\src\\dcp.jl:42.\n",
      "Use \"abstract type Sign end\" instead.\n",
      "\n",
      "WARNING: deprecated syntax \"abstract AbstractExpr\" at C:\\Users\\ITC\\.julia\\v0.6\\Convex\\src\\expressions.jl:41.\n",
      "Use \"abstract type AbstractExpr end\" instead.\n",
      "\n",
      "WARNING: deprecated syntax \"abstract Constraint\" at C:\\Users\\ITC\\.julia\\v0.6\\Convex\\src\\expressions.jl:42.\n",
      "Use \"abstract type Constraint end\" instead.\n",
      "\n",
      "WARNING: deprecated syntax \"typealias Value Union{Number,AbstractArray}\" at C:\\Users\\ITC\\.julia\\v0.6\\Convex\\src\\expressions.jl:103.\n",
      "Use \"const Value = Union{Number,AbstractArray}\" instead.\n",
      "\n",
      "WARNING: deprecated syntax \"typealias ValueOrNothing Union{Value,Void}\" at C:\\Users\\ITC\\.julia\\v0.6\\Convex\\src\\expressions.jl:104.\n",
      "Use \"const ValueOrNothing = Union{Value,Void}\" instead.\n",
      "\n",
      "WARNING: deprecated syntax \"typealias AbstractExprOrValue Union{AbstractExpr,Value}\" at C:\\Users\\ITC\\.julia\\v0.6\\Convex\\src\\expressions.jl:105.\n",
      "Use \"const AbstractExprOrValue = Union{AbstractExpr,Value}\" instead.\n",
      "\n",
      "WARNING: deprecated syntax \"typealias Float64OrNothing Union{Float64,Void}\" at C:\\Users\\ITC\\.julia\\v0.6\\Convex\\src\\problems.jl:7.\n",
      "Use \"const Float64OrNothing = Union{Float64,Void}\" instead.\n",
      "\n",
      "WARNING: deprecated syntax \"function .+(...)\".\n",
      "Use \"function Base.broadcast(::typeof(+), ...)\" instead.\n",
      "\n",
      "WARNING: deprecated syntax \"function .+(...)\".\n",
      "Use \"function Base.broadcast(::typeof(+), ...)\" instead.\n",
      "\n",
      "WARNING: deprecated syntax \"function .+(...)\".\n",
      "Use \"function Base.broadcast(::typeof(+), ...)\" instead.\n",
      "\n",
      "WARNING: deprecated syntax \"function .-(...)\".\n",
      "Use \"function Base.broadcast(::typeof(-), ...)\" instead.\n",
      "\n",
      "WARNING: deprecated syntax \"function .-(...)\".\n",
      "Use \"function Base.broadcast(::typeof(-), ...)\" instead.\n",
      "\n",
      "WARNING: deprecated syntax \"function .-(...)\".\n",
      "Use \"function Base.broadcast(::typeof(-), ...)\" instead.\n",
      "\n",
      "WARNING: deprecated syntax \"function .*(...)\".\n",
      "Use \"function Base.broadcast(::typeof(*), ...)\" instead.\n",
      "\n",
      "WARNING: deprecated syntax \"function .*(...)\".\n",
      "Use \"function Base.broadcast(::typeof(*), ...)\" instead.\n",
      "\n",
      "WARNING: deprecated syntax \"function .*(...)\".\n",
      "Use \"function Base.broadcast(::typeof(*), ...)\" instead.\n",
      "\n",
      "WARNING: deprecated syntax \"function ./(...)\".\n",
      "Use \"function Base.broadcast(::typeof(/), ...)\" instead.\n",
      "\n",
      "WARNING: deprecated syntax \"typealias ArrayOrNothing Union{AbstractArray,Void}\" at C:\\Users\\ITC\\.julia\\v0.6\\Convex\\src\\atoms/affine/index.jl:5.\n",
      "Use \"const ArrayOrNothing = Union{AbstractArray,Void}\" instead.\n",
      "\n",
      "WARNING: deprecated syntax \"function .^(...)\".\n",
      "Use \"function Base.broadcast(::typeof(^), ...)\" instead.\n",
      "\n",
      "WARNING: deprecated syntax \"function ./(...)\".\n",
      "Use \"function Base.broadcast(::typeof(/), ...)\" instead.\n",
      "WARNING: both Convex and JuMP export \"Variable\"; uses of it in module Main must be qualified\n"
     ]
    },
    {
     "ename": "LoadError",
     "evalue": "\u001b[91mUndefVarError: Variable not defined\u001b[39m",
     "output_type": "error",
     "traceback": [
      "\u001b[91mUndefVarError: Variable not defined\u001b[39m",
      "",
      "Stacktrace:",
      " [1] \u001b[1minclude_string\u001b[22m\u001b[22m\u001b[1m(\u001b[22m\u001b[22m::String, ::String\u001b[1m)\u001b[22m\u001b[22m at \u001b[1m.\\loading.jl:522\u001b[22m\u001b[22m"
     ]
    }
   ],
   "source": [
    "# Let us first make the Convex.jl module available\n",
    "using Convex\n",
    "\n",
    "# Generate random problem data\n",
    "m = 4;  n = 5\n",
    "A = randn(m, n); b = randn(m, 1)\n",
    "\n",
    "# Create a (column vector) variable of size n x 1.\n",
    "x = Variable(n)\n",
    "\n",
    "# The problem is to minimize ||Ax - b||^2 subject to x >= 0\n",
    "# This can be done by: minimize(objective, constraints)\n",
    "problem = minimize(sumsquares(A * x - b), [x >= 0])\n",
    "\n",
    "# Solve the problem by calling solve!\n",
    "solve!(problem)\n",
    "\n",
    "# Check the status of the problem\n",
    "problem.status # :Optimal, :Infeasible, :Unbounded etc.\n",
    "\n",
    "# Get the optimal value\n",
    "problem.optval"
   ]
  },
  {
   "cell_type": "code",
   "execution_count": null,
   "metadata": {},
   "outputs": [],
   "source": []
  }
 ],
 "metadata": {
  "kernelspec": {
   "display_name": "Julia 0.6.2",
   "language": "julia",
   "name": "julia-0.6"
  },
  "language_info": {
   "file_extension": ".jl",
   "mimetype": "application/julia",
   "name": "julia",
   "version": "0.6.2"
  }
 },
 "nbformat": 4,
 "nbformat_minor": 2
}
