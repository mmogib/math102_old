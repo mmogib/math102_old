{
 "cells": [
  {
   "cell_type": "markdown",
   "metadata": {
    "slideshow": {
     "slide_type": "slide"
    }
   },
   "source": [
    "# 11.8 Power Series\n",
    "A series of the form \n",
    "$$\n",
    "\\sum_{n=0}^{\\infty} c_n(x-a)^n = c_0 + c_1(x-a) +c_2(x-a)^2 +c_3(x-a)^3 + \\cdots\n",
    "$$\n",
    "is called a __power series in $(x-a)$__ or a __power series centered at $a$__ or a __power series about $a$__\n",
    "\n",
    "We are interested in __finding the values of $x$ for which this series is convergent.__\n",
    "\n"
   ]
  },
  {
   "cell_type": "markdown",
   "metadata": {
    "slideshow": {
     "slide_type": "slide"
    }
   },
   "source": [
    "![Theorem ](./imgs/th.png)\n"
   ]
  },
  {
   "cell_type": "markdown",
   "metadata": {
    "slideshow": {
     "slide_type": "slide"
    }
   },
   "source": [
    "* The number $R$ in case (iii) is called the __radius of convergence__ of the power series. \n",
    "* By convention, the radius of convergence is $R=0$ in case (i) and $R=\\infty$ in case (ii). \n",
    "* The interval of convergence of a power series is the interval that consists of all values of for which\n",
    "the series converges\n",
    "\n",
    "![Interval of Convergence](./imgs/ic.png)"
   ]
  },
  {
   "cell_type": "markdown",
   "metadata": {
    "slideshow": {
     "slide_type": "slide"
    }
   },
   "source": [
    "### Examples\n",
    "\n",
    "$$\n",
    "\\begin{array}{l@{\\,\\,\\,\\,}l}\n",
    "(1) & \\sum_{n=0}^\\infty n! x^n\\\\\n",
    "(2) & \\sum_{n=1}^\\infty \\frac{(x-3)^n}{n}\\\\\n",
    "(3) & J_0(x)=\\sum_{n=0}^\\infty \\frac{(-1)^nx^{2n}}{2^{2n}(n!)^2}\n",
    "\\end{array}\n",
    "$$"
   ]
  },
  {
   "cell_type": "markdown",
   "metadata": {
    "slideshow": {
     "slide_type": "slide"
    }
   },
   "source": [
    "### More Examples\n",
    "Find the radius of convergence and interval of convergence of the series\n",
    "$$\n",
    "\\begin{array}{l@{\\,\\,\\,\\,}l}\n",
    "(4) & \\sum_{n=0}^\\infty \\frac{(-1)^nx^n}{\\sqrt{n+1}}\\\\\n",
    "(5) & \\sum_{n=0}^\\infty \\frac{n(x+2)^n}{3^{n+1}}\\\\\n",
    "\\end{array}\n",
    "$$"
   ]
  }
 ],
 "metadata": {
  "celltoolbar": "Slideshow",
  "kernelspec": {
   "display_name": "Python 3",
   "language": "python",
   "name": "python3"
  },
  "language_info": {
   "codemirror_mode": {
    "name": "ipython",
    "version": 3
   },
   "file_extension": ".py",
   "mimetype": "text/x-python",
   "name": "python",
   "nbconvert_exporter": "python",
   "pygments_lexer": "ipython3",
   "version": "3.6.4"
  }
 },
 "nbformat": 4,
 "nbformat_minor": 2
}
